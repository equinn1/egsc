{
 "cells": [
  {
   "cell_type": "markdown",
   "metadata": {},
   "source": [
    "## Read the FY2019 Tax Roll (assessed 12/31/2018)\n",
    "\n",
    "E. Quinn 12/19/2019\n",
    "\n",
    "This notebook uses pdfminer to extract the information from the FY2019 EG tax roll\n",
    "\n",
    "The documentation for pdfminer is at:\n",
    "\n",
    "https://buildmedia.readthedocs.org/media/pdf/pdfminer-docs/latest/pdfminer-docs.pdf\n",
    "\n",
    "Change log:\n",
    "\n",
    "12/23/2019  Modify code to read only the main property listing (pages 1-484) section and skip the pages with totals and exempt properties.  This solved the duplicate account number issue.  epq"
   ]
  },
  {
   "cell_type": "markdown",
   "metadata": {},
   "source": [
    "## Import standard python datascience packages"
   ]
  },
  {
   "cell_type": "code",
   "execution_count": 1,
   "metadata": {},
   "outputs": [],
   "source": [
    "import math\n",
    "import re\n",
    "import numpy as np\n",
    "import scipy as sc\n",
    "import pandas as pd\n",
    "import matplotlib.pyplot as plt\n",
    "import seaborn as sns\n",
    "%matplotlib inline"
   ]
  },
  {
   "cell_type": "markdown",
   "metadata": {},
   "source": [
    "## Import pdfminer packages"
   ]
  },
  {
   "cell_type": "code",
   "execution_count": 2,
   "metadata": {},
   "outputs": [],
   "source": [
    "from pdfminer.pdfparser import PDFParser\n",
    "from pdfminer.pdfdocument import PDFDocument\n",
    "from pdfminer.pdfpage import PDFPage\n",
    "from pdfminer.pdfpage import PDFTextExtractionNotAllowed\n",
    "from pdfminer.pdfinterp import PDFResourceManager\n",
    "from pdfminer.pdfinterp import PDFPageInterpreter\n",
    "from pdfminer.pdfdevice import PDFDevice\n",
    "from pdfminer.layout import LAParams\n",
    "from pdfminer.converter import PDFPageAggregator\n",
    "from pdfminer.pdfpage import PDFPage\n",
    "from pdfminer.layout import LTTextBoxHorizontal"
   ]
  },
  {
   "cell_type": "markdown",
   "metadata": {},
   "source": [
    "### Show the directory we are running in"
   ]
  },
  {
   "cell_type": "code",
   "execution_count": 3,
   "metadata": {},
   "outputs": [
    {
     "name": "stdout",
     "output_type": "stream",
     "text": [
      "/home/gquinn/EG/notebooks\r\n"
     ]
    }
   ],
   "source": [
    "!pwd"
   ]
  },
  {
   "cell_type": "markdown",
   "metadata": {},
   "source": [
    "## Perform layout analysis - see section 2.3 of the pdfminer documentation\n"
   ]
  },
  {
   "cell_type": "markdown",
   "metadata": {},
   "source": [
    "### Read the pdf and create a document object"
   ]
  },
  {
   "cell_type": "code",
   "execution_count": 4,
   "metadata": {},
   "outputs": [],
   "source": [
    "document = open('../re_tax_rolls/RETaxRollFINAL_201908081248490737.pdf', 'rb')"
   ]
  },
  {
   "cell_type": "markdown",
   "metadata": {},
   "source": [
    "### Create a resource manager object"
   ]
  },
  {
   "cell_type": "code",
   "execution_count": 5,
   "metadata": {},
   "outputs": [],
   "source": [
    "rsrcmgr = PDFResourceManager()"
   ]
  },
  {
   "cell_type": "markdown",
   "metadata": {},
   "source": [
    "### Set the parameters for analysis"
   ]
  },
  {
   "cell_type": "code",
   "execution_count": 6,
   "metadata": {},
   "outputs": [],
   "source": [
    "laparams = LAParams()"
   ]
  },
  {
   "cell_type": "markdown",
   "metadata": {},
   "source": [
    "### Create a PDF page aggregator object"
   ]
  },
  {
   "cell_type": "code",
   "execution_count": 7,
   "metadata": {},
   "outputs": [],
   "source": [
    "device = PDFPageAggregator(rsrcmgr, laparams=laparams)\n",
    "interpreter = PDFPageInterpreter(rsrcmgr, device)"
   ]
  },
  {
   "cell_type": "markdown",
   "metadata": {},
   "source": [
    "### Store the information in a dictionary\n",
    "\n",
    "Strategy for this document:  \n",
    "\n",
    "Save information from each element in the LTTextBox objects in a dictionary including:\n",
    "\n",
    "- x0 horizontal coordinate of the upper left corner of the text box\n",
    "- x1 horizontal coordinate of the lower right corner of the text box\n",
    "- page number \n",
    "- sequence number of text box within this page\n",
    "- text contained in the text box, converted to ascii\n",
    "\n",
    "Parsing the text is complicated by the fact that that a text box may span multiple columns and/or rows, and the text box groupings vary quite a bit depending on the page contents and layout.\n",
    "\n",
    "However, with a bit of luck the structure of the document will allow the contents to be deciphered with the following heuristics:\n",
    "\n",
    "- Text boxes containing left justified columns will tend to have nearly the same x0 coordinates\n",
    "- Text boxes containing right justified columns will tend to have nearly the same x1 coordinates\n",
    "- The codes for fund, account code, and object code are numeric and have fixed lengths\n",
    "- Extraneous information is often preceded or followed by a series of underscore and newline characters\n",
    "- Last name can be distinguished because is the only field that is all characters followed by a comma\n",
    "- Last name may be preceded by between one and three numerical fields:  fund, account, object.  If it is, the x0 value is shifted to the left.\n",
    "    - Three numerical fields precede the name:  assume they are fund, account, object\n",
    "    - Two numerical fields precede the name: assume they are account, object\n",
    "    - One numerical field precedes the name: assume it is object"
   ]
  },
  {
   "cell_type": "code",
   "execution_count": 8,
   "metadata": {},
   "outputs": [],
   "source": [
    "pdf={}                                     #dictionary to hold the results\n",
    "\n",
    "pageno = 0                                 #initialize page coounter to zero\n",
    "\n",
    "for page in PDFPage.get_pages(document):   #loop through the pdf page by page\n",
    "    pageno = pageno + 1                    #increment the page number\n",
    "    pdf[pageno] = {}                       #dictionary for this page\n",
    "    interpreter.process_page(page)         # receive the LTPage object for the page.\n",
    "    layout = device.get_result()           # create layout object\n",
    "    tbox_no=0                              # index for element number\n",
    "    for element in layout:\n",
    "        if (type(element).__name__=='LTTextBoxHorizontal'):             #loop through text boxes\n",
    "            tbox_no += 1                                                #increment text box number\n",
    "            pdf[pageno][tbox_no] = {}                                   #dictionary for text boxes within page\n",
    "            x0 = round(element.x0,2)                                    #x0 coordinate of textbox corner\n",
    "            x1 = round(element.x1,2)                                    #x1 coordinate of textbox corner\n",
    "            txt = element.get_text().encode('ascii', 'ignore')          #text converted to ascii\n",
    "            pdf[pageno][tbox_no]['x0'] = x0                             #create x0 coordinate entry\n",
    "            pdf[pageno][tbox_no]['x1'] = x1                             #create x1 coordinate entry\n",
    "            pdf[pageno][tbox_no]['text'] = txt                          #create text entry"
   ]
  },
  {
   "cell_type": "markdown",
   "metadata": {},
   "source": [
    "### Various functions for parsing tax roll"
   ]
  },
  {
   "cell_type": "code",
   "execution_count": 9,
   "metadata": {},
   "outputs": [],
   "source": [
    "def check_acct(string):\n",
    "    if (string[0:9].isdigit()):\n",
    "        return(True)\n",
    "    else:\n",
    "        return(False)"
   ]
  },
  {
   "cell_type": "code",
   "execution_count": 10,
   "metadata": {},
   "outputs": [],
   "source": [
    "def check_RE_00(string):\n",
    "    if (' RE 00 ' in string):\n",
    "        return(True)\n",
    "    else:\n",
    "        return(False)"
   ]
  },
  {
   "cell_type": "code",
   "execution_count": 11,
   "metadata": {},
   "outputs": [],
   "source": [
    "def get_bill_no(line):\n",
    "    words = line.split()\n",
    "    lastword = ''\n",
    "    for word in words:\n",
    "        if (word=='RE'):\n",
    "            if (line.index('  RE 00 ') > 40):\n",
    "                return(lastword)\n",
    "            else:\n",
    "                return('XXXX')\n",
    "        lastword = word"
   ]
  },
  {
   "cell_type": "code",
   "execution_count": 12,
   "metadata": {},
   "outputs": [],
   "source": [
    "def get_re_class(line):\n",
    "    ix = line.index(' RE 00 ')           #find the 'RE 00' substring\n",
    "    line2 = line[ix:len(line)-1]         #take the rest of the line\n",
    "    words = line2.split()                #split it into words\n",
    "    re_class = words[2]                  #take the next word to be the first part of the RE class\n",
    "    if (len(words[3]) < 15):             #if the word after that is less than 15 bytes, it's part of RE class\n",
    "        re_class = re_class + ' ' + words[3]\n",
    "    return(re_class)"
   ]
  },
  {
   "cell_type": "code",
   "execution_count": 13,
   "metadata": {},
   "outputs": [],
   "source": [
    "def get_plot(line):\n",
    "    ix = line.index(' RE 00 ')           #find the 'RE 00' substring\n",
    "    line2 = line[ix:len(line)-1]         #take the rest of the line\n",
    "    words = line2.split()                #split it into words\n",
    "    for word in words:                   #find a word that fits the pattern 999-999-999-9999\n",
    "        if (len(word)==16):              #length of the plot string has to be 16\n",
    "            if (word[3]=='-'):           #fourth character has to be '-'\n",
    "                return(word)\n",
    "    return('')"
   ]
  },
  {
   "cell_type": "code",
   "execution_count": 14,
   "metadata": {},
   "outputs": [],
   "source": [
    "def get_tax(line):\n",
    "    ix = line.index(' RE 00 ')           #find the 'RE 00' substring\n",
    "    line2 = line[ix:len(line)-1]         #take the rest of the line\n",
    "    if (line2[len(line2)-9:].isspace()): #check for missing tax amount\n",
    "        tax = '0.0'                      #    set these equal to 0.0\n",
    "    else:\n",
    "        words = line2.split()                #split it into words\n",
    "        tax = words[len(words)-1]            #the final word is the tax amount\n",
    "    tax = tax.replace(',','')                  #remove the commas so we can perform arithmetic\n",
    "    return(tax)                         "
   ]
  },
  {
   "cell_type": "code",
   "execution_count": 15,
   "metadata": {},
   "outputs": [],
   "source": [
    "def get_assessment(line):\n",
    "    ix = line.index(' RE 00 ')                 #find the 'RE 00' substring\n",
    "    line2 = line[ix:len(line)-1]               #take the rest of the line\n",
    "    words = line2.split()\n",
    "    if (line2[len(line2)-9:].isspace()):       #check for missing tax amount\n",
    "        assessment = words[len(words)-1]       #if so the last word is the assessed value\n",
    "    else:                                      #otherwise,\n",
    "        assessment = words[len(words)-2]       #the next to last word is the assessed value\n",
    "    assessment = assessment.replace(',','')    #remove the commas so we can perform arithmetic\n",
    "    return(assessment)                         "
   ]
  },
  {
   "cell_type": "code",
   "execution_count": 16,
   "metadata": {},
   "outputs": [],
   "source": [
    "def get_address(line):\n",
    "    ix = line.index(' RE 00 ')                 #find the 'RE 00' substring\n",
    "    line2 = line[ix:len(line)-1]               #take the rest of the line\n",
    "    words = line2.split()                      #split it into words\n",
    "    for word in words:                         #find a word that fits the pattern 999-999-999-9999\n",
    "        if (len(word)==16):                    #length of the plot string has to be 16\n",
    "            if (word[3]=='-'):                 #fourth character has to be '-'\n",
    "                plot = word                    #find plot string\n",
    "    assessment = words[len(words)-2]           #find assessed value\n",
    "    address_start = line2.index(plot) + 16     #address starts 16 characters after plot\n",
    "    address_end   = line2.index(assessment)    #address ends just before assessment\n",
    "    address = line2[address_start:address_end] #pick out the address string\n",
    "    address = address.strip()                  #trim leading and trailing spaces\n",
    "    return(address)                         "
   ]
  },
  {
   "cell_type": "code",
   "execution_count": 17,
   "metadata": {},
   "outputs": [],
   "source": [
    "def get_total_assessment(line):\n",
    "    ix = line.index('TOTALS ')                    #find the 'TOTALS ' substring\n",
    "    line2 = line[ix:len(line)-1]                  #take the line from there on\n",
    "    words = line2.split()                         #split it into words\n",
    "    total_asmt = words[len(words)-2]              #the next to last word is the total assessed value\n",
    "    if (total_asmt != 'TOTALS'):                  #check if no assessed value\n",
    "        total_asmt = total_asmt.replace(',','')   #remove the commas so we can perform arithmetic\n",
    "    else:\n",
    "        total_asmt = '0.0'\n",
    "    return(total_asmt)                                                  "
   ]
  },
  {
   "cell_type": "code",
   "execution_count": 18,
   "metadata": {},
   "outputs": [],
   "source": [
    "def get_total_tax(line):\n",
    "    ix = line.index('TOTALS ')                    #find the 'TOTALS ' substring\n",
    "    line2 = line[ix:len(line)-1]                  #take the line from there on\n",
    "    words = line2.split()                         #split it into words\n",
    "    total_tax = words[len(words)-1]               #the final word is the total tax amount\n",
    "    total_tax = total_tax.replace(',','')         #remove the commas so we can perform arithmetic\n",
    "    return(total_tax)      \n"
   ]
  },
  {
   "cell_type": "code",
   "execution_count": 19,
   "metadata": {},
   "outputs": [],
   "source": [
    "def get_exemption_type(line):\n",
    "    ix = line.index(' EX ') +1                                  #find start of EX information\n",
    "    line2 = line[ix:len(line)-1]                                #take the line from there out\n",
    "    words = line2.split()                                       #split into words\n",
    "    exemption_type=''                                           #initialize exemption_type string\n",
    "    word_num = 1\n",
    "    num_words = len(words)\n",
    "    for word in words:\n",
    "        if ((word_num != 1) & (word_num != num_words)):                  \n",
    "            exemption_type = exemption_type + ' ' + word\n",
    "        word_num += 1\n",
    "    exemption_type = exemption_type.strip()\n",
    "    return(exemption_type)"
   ]
  },
  {
   "cell_type": "code",
   "execution_count": 20,
   "metadata": {},
   "outputs": [],
   "source": [
    "def get_exemption_amt(line):\n",
    "    ix = line.index(' EX ') +1                  #find start of EX information\n",
    "    line2 = line[ix:len(line)-1]                #take the line from there out\n",
    "    words = line2.split()\n",
    "    num_words = len(words)\n",
    "    exemption_amt = words[num_words-1]\n",
    "    exemption_amt = exemption_amt.replace(',','')\n",
    "    return(exemption_amt)"
   ]
  },
  {
   "cell_type": "markdown",
   "metadata": {},
   "source": [
    "### Parse the tax roll document"
   ]
  },
  {
   "cell_type": "code",
   "execution_count": 21,
   "metadata": {},
   "outputs": [
    {
     "name": "stdout",
     "output_type": "stream",
     "text": [
      "duplicate bill number\n",
      "100000157 39\n",
      "duplicate bill number\n",
      "100404042 4313\n",
      "duplicate bill number\n",
      "100402109 2967\n",
      "duplicate bill number\n",
      "100002465 616\n",
      "No duplicate account numbers\n"
     ]
    }
   ],
   "source": [
    "acctd = {}\n",
    "\n",
    "#for k in pdf.keys():                                   #loop through pages\n",
    "for k in np.arange(1,485):                              #loop through the main property listing only \n",
    "    for key in pdf[k].keys():                           #loop through items on pages\n",
    "        if ('text' in pdf[k][key].keys()):              #extract the text portion\n",
    "            string = str(pdf[k][key]['text'])           #convert to string\n",
    "            lines = string.split('\\\\n')                 #split into lines\n",
    "            for line in lines:                          #parse the content of each line\n",
    "                if (' RE 00 ' in line):                 #lines with taxes contain ' RE 00 '\n",
    "                    if (check_acct(line)):              #line with account start with account number\n",
    "                        acct = line[0:9]                #start new account entry\n",
    "                        if (acct in acctd.keys()):      #check if it's already there\n",
    "                            acct = 'XXXX'               #if so route it to junk acct\n",
    "                        acctd[acct] = {}\n",
    "                    bill = get_bill_no(line)            #get bill number\n",
    "                    if (bill in acctd[acct].keys()):\n",
    "                        print('duplicate bill number')\n",
    "                        print(acct,bill)\n",
    "                        bill = bill + '_2'\n",
    "                    acctd[acct][bill] = {}                               #entry for this bill\n",
    "                    acctd[acct][bill]['RE_CLASS'] = get_re_class(line)   #fill in RE class\n",
    "                    acctd[acct][bill]['PLOT'] = get_plot(line)           #fill in plot\n",
    "                    acctd[acct][bill]['TAX']  = get_tax(line)            #fill in the tax amount\n",
    "                    acctd[acct][bill]['ASMT'] = get_assessment(line)     #fill in the assessed value\n",
    "                    acctd[acct][bill]['ADDRESS'] = get_address(line)     #fill in the address\n",
    "                elif (' EX ' in line):                                   #Exemptions line\n",
    "                        exemption = get_exemption_type(line)             #get the extmption type\n",
    "                        exemption_amt = get_exemption_amt(line)          #get the exemption amount\n",
    "                        if ('EXEMPTIONS' not in acctd[acct][bill].keys()):  #see if we need to add EXEMPTIONS\n",
    "                            acctd[acct][bill]['EXEMPTIONS'] = {}         #   if so create empty dictionary\n",
    "                        acctd[acct][bill]['EXEMPTIONS'][exemption] = exemption_amt\n",
    "\n",
    "                elif (' TOTALS ' in line):                               #TOTALS line\n",
    "                    if (acct != ''):\n",
    "                        acctd[acct]['TOTAL_TAX'] = get_total_tax(line)         #get the total tax for acct\n",
    "                        acctd[acct]['TOTAL_ASMT'] = get_total_assessment(line) #get the total assessment\n",
    "                        acct = ''                                                    #no more for this acct\n",
    "\n",
    "if ('XXXX' in acctd.keys()):\n",
    "    print(acctd['XXXX'])\n",
    "else: \n",
    "    print(\"No duplicate account numbers\")"
   ]
  },
  {
   "cell_type": "code",
   "execution_count": 22,
   "metadata": {},
   "outputs": [
    {
     "name": "stdout",
     "output_type": "stream",
     "text": [
      "100000157 {'39': {'RE_CLASS': 'FARM', 'PLOT': '043-011-002-0000', 'TAX': '0.0', 'ASMT': '13600', 'ADDRESS': '2068 SOUTH COUNTY'}, '39_2': {'RE_CLASS': 'FFOP', 'PLOT': '043-011-002-0000', 'TAX': '8484.3', 'ASMT': '351947', 'ADDRESS': '2068 SOUTH COUNTY TRA'}, 'TOTAL_TAX': '8484.3', 'TOTAL_ASMT': '365547'}\n",
      "\n",
      " 100404042 {'4313': {'RE_CLASS': 'FFOP', 'PLOT': '020-019-020-0000', 'TAX': '8436.2', 'ASMT': '346273', 'ADDRESS': '1786 FRENCHTOWN ROAD'}, '4313_2': {'RE_CLASS': 'FFOP', 'PLOT': '020-019-020-0000', 'TAX': '0.0', 'ASMT': '17200', 'ADDRESS': '1786 FRENCHTOWN'}, 'TOTAL_TAX': '8436.2', 'TOTAL_ASMT': '363473'}\n",
      "\n",
      " 100402109 {'2967': {'RE_CLASS': 'FARM', 'PLOT': '058-014-019-0000', 'TAX': '0.0', 'ASMT': '16900', 'ADDRESS': '465 SHIPPEETOWN'}, '2967_2': {'RE_CLASS': 'FFOP', 'PLOT': '058-014-019-0000', 'TAX': '8146.1', 'ASMT': '334077', 'ADDRESS': '465 SHIPPEETOWN ROAD'}, 'TOTAL_TAX': '8146.1', 'TOTAL_ASMT': '350977'}\n",
      "\n",
      " 100002465 {'616': {'RE_CLASS': 'COMM II', 'PLOT': '071-012-097-0000', 'TAX': '26754.4', 'ASMT': '1108900', 'ADDRESS': '1503 SOUTH COUNTY'}, '616_2': {'RE_CLASS': 'INDUSTRI', 'PLOT': '071-012-097-0000', 'TAX': '0.0', 'ASMT': '32500', 'ADDRESS': '1503 SOUTH'}, 'TOTAL_TAX': '26754.4', 'TOTAL_ASMT': '1141400'}\n"
     ]
    }
   ],
   "source": [
    "### ad-hoc checking\n",
    "\n",
    "for acct in acctd.keys():\n",
    "    if ('100000157' in acct):\n",
    "        print(acct,acctd[acct])\n",
    "    if ('100404042' in acct):\n",
    "        print('\\n',acct,acctd[acct])\n",
    "    if ('100402109' in acct):\n",
    "        print('\\n',acct,acctd[acct])\n",
    "    if ('100002465' in acct):\n",
    "        print('\\n',acct,acctd[acct])"
   ]
  },
  {
   "cell_type": "code",
   "execution_count": 23,
   "metadata": {},
   "outputs": [
    {
     "name": "stdout",
     "output_type": "stream",
     "text": [
      "Total tax:  53117438.5999999   tax roll:  53101398.13  difference:  16040.4699998945 \n",
      "Total assessed value:  2646549562.0   tax roll:  2646550206  difference:  -644.0 \n",
      "Number of bills:  5456  tax roll:  5456  difference:  0\n"
     ]
    }
   ],
   "source": [
    "### balance totals\n",
    "###################################################################################\n",
    "total_tax = 0.0\n",
    "total_asmt = 0.0\n",
    "item_ct = 0.0\n",
    "\n",
    "tax_roll_total_tax = 53101398.13\n",
    "tax_roll_total_assessed = 2646550206\n",
    "tax_roll_items = 5456\n",
    "\n",
    "for acct in acctd.keys():\n",
    "    total_tax += float(acctd[acct]['TOTAL_TAX'])\n",
    "    total_asmt += float(acctd[acct]['TOTAL_ASMT'])\n",
    "    item_ct += len(acctd[acct])\n",
    "\n",
    "nbills = 0\n",
    "for acct in acctd.keys():\n",
    "    for bill in acctd[acct].keys():\n",
    "        if (bill.isdigit()):\n",
    "            nbills+=1\n",
    "\n",
    "tax_diff = total_tax - tax_roll_total_tax\n",
    "asmt_diff = total_asmt - tax_roll_total_assessed\n",
    "item_diff = nbills - tax_roll_items\n",
    "\n",
    "print(\"Total tax: \",total_tax,\"  tax roll: \",tax_roll_total_tax,\" difference: \",tax_diff,\\\n",
    "    '\\nTotal assessed value: ',total_asmt,\"  tax roll: \",tax_roll_total_assessed,\" difference: \",asmt_diff,\\\n",
    "    '\\nNumber of bills: ',nbills,\" tax roll: \",tax_roll_items,\" difference: \",item_diff )"
   ]
  },
  {
   "cell_type": "code",
   "execution_count": null,
   "metadata": {},
   "outputs": [],
   "source": [
    "pdf[1]"
   ]
  }
 ],
 "metadata": {
  "kernelspec": {
   "display_name": "Python 3",
   "language": "python",
   "name": "python3"
  },
  "language_info": {
   "codemirror_mode": {
    "name": "ipython",
    "version": 3
   },
   "file_extension": ".py",
   "mimetype": "text/x-python",
   "name": "python",
   "nbconvert_exporter": "python",
   "pygments_lexer": "ipython3",
   "version": "3.7.5"
  }
 },
 "nbformat": 4,
 "nbformat_minor": 2
}

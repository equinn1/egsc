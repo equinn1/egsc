{
 "cells": [
  {
   "cell_type": "markdown",
   "metadata": {},
   "source": [
    "## NE_Reval_2021_adhoc\n",
    "\n",
    "E. Quinn 5/20/2021\n",
    "\n",
    "Process NE Reval 2021 valuations data\n",
    "\n"
   ]
  },
  {
   "cell_type": "markdown",
   "metadata": {},
   "source": [
    "## Import standard python datascience packages"
   ]
  },
  {
   "cell_type": "code",
   "execution_count": null,
   "metadata": {},
   "outputs": [],
   "source": [
    "import sys\n",
    "import math\n",
    "import re\n",
    "import copy as cp\n",
    "import numpy as np\n",
    "import scipy as sc\n",
    "import pandas as pd\n",
    "import matplotlib.pyplot as plt\n",
    "#plt.switch_backend('WebAgg')\n",
    "import seaborn as sns\n",
    "import pickle\n",
    "%matplotlib inline"
   ]
  },
  {
   "cell_type": "code",
   "execution_count": null,
   "metadata": {},
   "outputs": [],
   "source": [
    "from datetime import datetime, timedelta, date\n",
    "from datascience import *\n",
    "import uuid\n",
    "import random"
   ]
  },
  {
   "cell_type": "markdown",
   "metadata": {},
   "source": [
    "### Show the directory we are running in"
   ]
  },
  {
   "cell_type": "code",
   "execution_count": null,
   "metadata": {},
   "outputs": [],
   "source": [
    "!pwd"
   ]
  },
  {
   "cell_type": "markdown",
   "metadata": {},
   "source": [
    "### Load NE Reval data scraped from website"
   ]
  },
  {
   "cell_type": "code",
   "execution_count": null,
   "metadata": {
    "scrolled": true
   },
   "outputs": [],
   "source": [
    "with open('../NE_Reval_dictionary_5_18_2021.pkl', 'rb') as handle:\n",
    "    itm = pickle.load(handle)"
   ]
  },
  {
   "cell_type": "code",
   "execution_count": null,
   "metadata": {},
   "outputs": [],
   "source": [
    "R2020 = 23.43\n",
    "R2021 = 21.91"
   ]
  },
  {
   "cell_type": "code",
   "execution_count": null,
   "metadata": {},
   "outputs": [],
   "source": [
    "parcels = {}\n",
    "\n",
    "for pkl in itm.keys():\n",
    "    dct = itm[pkl]\n",
    "    try:\n",
    "        parcelID = dct['ParcelID_ParcelID']['ParcelID']\n",
    "        state = dct['ParcelID_ParcelID']['State']\n",
    "        if (state == '01 - Sngle Fam'):\n",
    "            if parcelID not in parcels.keys():\n",
    "                parcels[parcelID] = {}\n",
    "                parcels[parcelID]['State'] = state\n",
    "            parcels[parcelID]['Address'] = itm[pkl]['LocationOwner_Location']['Location']\n",
    "            parcels[parcelID]['R2021'] = R2021\n",
    "            parcels[parcelID]['R2020'] = R2020\n",
    "            for i in dct['PriorInformation_GridView2'].keys():\n",
    "                if (dct['PriorInformation_GridView2'][i]['FY'] == '2021'):\n",
    "                    parcels[parcelID]['V2021'] = float(dct['PriorInformation_GridView2'][i]['Total_value'])\n",
    "                if (dct['PriorInformation_GridView2'][i]['FY'] == '2020'):\n",
    "                    parcels[parcelID]['V2020'] = float(dct['PriorInformation_GridView2'][i]['Total_value'])\n",
    "            parcels[parcelID]['deltaR'] = R2021 - R2020\n",
    "            parcels[parcelID]['deltaV'] = (parcels[parcelID]['V2021'] - parcels[parcelID]['V2020'])/1000.0\n",
    "            parcels[parcelID]['rate_effect'] = parcels[parcelID]['V2020']*parcels[parcelID]['deltaR']/1000.0\n",
    "            parcels[parcelID]['valuation_effect'] = parcels[parcelID]['R2020']*parcels[parcelID]['deltaV']\n",
    "            parcels[parcelID]['interaction'] = parcels[parcelID]['deltaV']*parcels[parcelID]['deltaR']\n",
    "            parcels[parcelID]['gross_tax2020'] = round(R2020*parcels[parcelID]['V2020']/1000.0,2)\n",
    "            parcels[parcelID]['gross_tax2021'] = round(R2021*parcels[parcelID]['V2021']/1000.0,2)\n",
    "            parcels[parcelID]['gross_tax_delta'] = round((parcels[parcelID]['gross_tax2021'] -\\\n",
    "                                        parcels[parcelID]['gross_tax2020']),2)\n",
    "            parcels[parcelID]['gross_tax_pct_chg'] = round(100.0*(parcels[parcelID]['gross_tax_delta']/\\\n",
    "                                        parcels[parcelID]['gross_tax2020']),2)\n",
    "        \n",
    "    except KeyError:\n",
    "        print('KeyError:',pkl)\n",
    "        \n",
    "                \n",
    "len(parcels)"
   ]
  },
  {
   "cell_type": "markdown",
   "metadata": {},
   "source": [
    "### Display one dictionary entry"
   ]
  },
  {
   "cell_type": "code",
   "execution_count": null,
   "metadata": {},
   "outputs": [],
   "source": [
    "valuation2021 = []\n",
    "valuation2020 = []\n",
    "valuation_pct_chg = []\n",
    "gross_tax_pct_chg = []\n",
    "rate_effect = []\n",
    "valuation_effect = []\n",
    "interaction = []\n",
    "gross_tax_delta = []\n",
    "\n",
    "for parcel in parcels.keys():\n",
    "    valuation2021.append(parcels[parcel]['V2021'])\n",
    "    valuation2020.append(parcels[parcel]['V2020'])\n",
    "    rate_effect.append(parcels[parcel]['rate_effect'])\n",
    "    valuation_effect.append(parcels[parcel]['valuation_effect'])\n",
    "    interaction.append(parcels[parcel]['interaction'])\n",
    "    gross_tax_delta.append(parcels[parcel]['gross_tax_delta'])\n",
    "    gross_tax_pct_chg.append(parcels[parcel]['gross_tax_pct_chg'])\n",
    "    valuation_pct_chg.append(round(100.0*(parcels[parcel]['V2021']-parcels[parcel]['V2020'])/\\\n",
    "                                   parcels[parcel]['V2020'],2))\n",
    "    \n",
    "data = {'2021 Valuation':valuation2021,'2020 Valuation':valuation2020,'Valuation Percent Change':valuation_pct_chg,\\\n",
    "           'Gross Tax Pct Change':gross_tax_pct_chg,'Gross Tax Delta':gross_tax_delta,'Rate Effect':rate_effect,\\\n",
    "        'Valuation Effect':valuation_effect,'Interaction':interaction}\n",
    "\n",
    "df = pd.DataFrame (data, columns = ['2021 Valuation','2020 Valuation','Valuation Percent Change',\\\n",
    "            'Gross Tax Pct Change','Gross Tax Delta','Rate Effect','Valuation Effect','Interaction'])\n",
    "\n",
    "df.head()"
   ]
  },
  {
   "cell_type": "markdown",
   "metadata": {},
   "source": [
    "### Quantiles for various quantities of interest"
   ]
  },
  {
   "cell_type": "code",
   "execution_count": null,
   "metadata": {},
   "outputs": [],
   "source": [
    "q = [.01,0.1,0.25,0.5,0.75,0.9,.99]\n",
    "\n",
    "print('Single family home 2021 valuation quantiles',np.quantile(valuations,q))\n",
    "print('Single family home 2021 valuation percent change',np.quantile(valuation_pct_chg,q))\n",
    "print('Single family home 2021 gross tax percent change',np.quantile(gross_tax_pct_chg,q))\n"
   ]
  },
  {
   "cell_type": "code",
   "execution_count": null,
   "metadata": {},
   "outputs": [],
   "source": [
    "fig, ax = plt.subplots()\n",
    "sns.histplot(data=df, x=\"Valuation Percent Change\", ax=ax)\n",
    "ax.set_xlim(-10,40)\n",
    "ax.set_title('Single Family Homes: Percent Change in Valuation',fontsize = 22)\n",
    "ax.set_xlabel('Percent Change',fontsize = 20, )\n",
    "ax.set_ylabel('Number of Homes',fontsize = 20, )\n",
    "fig.set_size_inches(12, 8)"
   ]
  },
  {
   "cell_type": "code",
   "execution_count": null,
   "metadata": {},
   "outputs": [],
   "source": [
    "fig, ax = plt.subplots()\n",
    "sns.histplot(data=df, x=\"Gross Tax Pct Change\", ax=ax)\n",
    "ax.set_xlim(-10,40)\n",
    "ax.set_title('Single Family Homes: Gross Tax Percent Change',fontsize = 22)\n",
    "ax.set_xlabel('Percent Change',fontsize = 20, )\n",
    "ax.set_ylabel('Number of Homes',fontsize = 20, )\n",
    "fig.set_size_inches(12, 8)"
   ]
  },
  {
   "cell_type": "markdown",
   "metadata": {},
   "source": [
    "### Variance components for gross tax delta"
   ]
  },
  {
   "cell_type": "code",
   "execution_count": null,
   "metadata": {},
   "outputs": [],
   "source": [
    "print('gross tax delta variance:',round(np.var(np.array(gross_tax_delta))))\n",
    "print('rate effect variance:',round(np.var(np.array(rate_effect))))\n",
    "print('valuation effect variance:',round(np.var(np.array(valuation_effect))))\n",
    "print('interaction variance:',round(np.var(np.array(interaction))))\n",
    "print('rate-valuation covariance:',round(np.cov(np.array(rate_effect),np.array(valuation_effect))[0][1]))\n",
    "print('rate-interaction covariance:',round(np.cov(np.array(rate_effect),np.array(interaction))[0][1]))\n",
    "print('valuation-interaction covariance:',round(np.cov(np.array(valuation_effect),np.array(interaction))[0][1]))"
   ]
  },
  {
   "cell_type": "code",
   "execution_count": null,
   "metadata": {},
   "outputs": [],
   "source": [
    "with open('../tax_bill_changes.html', 'w') as htmlout:\n",
    "    \n",
    "    htmlout.write(\"<html><head><body>\\n\")\n",
    "    htmlout.write(\"<h2>Effect of Tax Rate and Valuation Changes on Tax Bill</h2>\\n\")\n",
    "    htmlout.write(\"<table border='1' width='100%'>\\n\")\n",
    "    htmlout.write(\"<tr><td>Parcel</td><td>Address</td><td>2021 Valuation</td><td>2020 Valuation</td><td>\" +\\\n",
    "                  \"2021 Gross Tax</td><td>2020 Gross Tax</td><td>Tax Delta</td>\" +\\\n",
    "                  \"<td>Effect of Rate Change</td><td>Effect of Valuation Change</td>\" +\\\n",
    "                  \"<td>Interaction Effect</td></tr>\\n\")\n",
    "    for parcel in sorted(parcels.keys()):\n",
    "        s = '<tr align=\"right\"><td>' + parcel + '</td><td>' + parcels[parcel]['Address'] + '</td><td>' +\\\n",
    "            str(parcels[parcel]['V2021']) + '</td><td>' + str(parcels[parcel]['V2020']) +\\\n",
    "            '</td><td>' + str(parcels[parcel]['gross_tax2021']) +\\\n",
    "            '</td><td>' + str(parcels[parcel]['gross_tax2020']) + '</td><td>' +\\\n",
    "            str(parcels[parcel]['gross_tax_delta']) +'</td><td>' + str(round(parcels[parcel]['rate_effect'],2)) +\\\n",
    "            '</td><td>' + str(round(parcels[parcel]['valuation_effect'],2)) + '</td><td>' +\\\n",
    "            str(round(parcels[parcel]['interaction'],2)) +\\\n",
    "            '</td></tr>\\n'\n",
    "        htmlout.write(s)\n",
    "\n",
    "    htmlout.write(\"</table></body></html\")"
   ]
  }
 ],
 "metadata": {
  "kernelspec": {
   "display_name": "Python 3",
   "language": "python",
   "name": "python3"
  },
  "language_info": {
   "codemirror_mode": {
    "name": "ipython",
    "version": 3
   },
   "file_extension": ".py",
   "mimetype": "text/x-python",
   "name": "python",
   "nbconvert_exporter": "python",
   "pygments_lexer": "ipython3",
   "version": "3.8.5"
  }
 },
 "nbformat": 4,
 "nbformat_minor": 2
}

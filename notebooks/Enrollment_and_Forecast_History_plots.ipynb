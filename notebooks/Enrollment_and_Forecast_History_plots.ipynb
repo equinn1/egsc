{
 "cells": [
  {
   "cell_type": "markdown",
   "metadata": {},
   "source": [
    "# Enrollment_and_Forecast_History_plots\n",
    "\n",
    "E. Quinn 5/4/2021\n",
    "\n",
    "Plots of enrollment data and projections from various sources"
   ]
  },
  {
   "cell_type": "markdown",
   "metadata": {},
   "source": [
    "### Import standard python datascience packages"
   ]
  },
  {
   "cell_type": "code",
   "execution_count": null,
   "metadata": {},
   "outputs": [],
   "source": [
    "import sys\n",
    "import math\n",
    "import re\n",
    "import copy as cp\n",
    "import numpy as np\n",
    "import scipy as sc\n",
    "import pandas as pd\n",
    "import matplotlib.pyplot as plt\n",
    "#plt.switch_backend('WebAgg')\n",
    "import seaborn as sns\n",
    "import pickle\n",
    "%matplotlib inline"
   ]
  },
  {
   "cell_type": "code",
   "execution_count": null,
   "metadata": {},
   "outputs": [],
   "source": [
    "from datetime import datetime, timedelta, date\n",
    "from datascience import *\n",
    "import uuid\n",
    "import random"
   ]
  },
  {
   "cell_type": "code",
   "execution_count": null,
   "metadata": {},
   "outputs": [],
   "source": [
    "from scipy.stats import nbinom\n",
    "from scipy.stats import poisson\n",
    "from scipy.stats import binom\n",
    "from scipy.stats import betabinom\n",
    "import numpy.random as npr"
   ]
  },
  {
   "cell_type": "markdown",
   "metadata": {},
   "source": [
    "### Set path to data files"
   ]
  },
  {
   "cell_type": "code",
   "execution_count": null,
   "metadata": {},
   "outputs": [],
   "source": [
    "data_path = '../'\n",
    "!pwd"
   ]
  },
  {
   "cell_type": "code",
   "execution_count": null,
   "metadata": {},
   "outputs": [],
   "source": [
    "with open('../Enrollment_and_Forecast_History_5_3_2021.pkl', 'rb') as handle:\n",
    "    edict = pickle.load(handle)"
   ]
  },
  {
   "cell_type": "code",
   "execution_count": null,
   "metadata": {},
   "outputs": [],
   "source": [
    "#edict"
   ]
  },
  {
   "cell_type": "code",
   "execution_count": null,
   "metadata": {},
   "outputs": [],
   "source": [
    "pdata = {}\n",
    "\n",
    "\n",
    "for year in edict.keys():\n",
    "    for grade in edict[year]['grades'].keys():\n",
    "        if grade not in pdata.keys():\n",
    "            pdata[grade] = {}\n",
    "        for Type in edict[year]['grades'][grade].keys():\n",
    "            if Type not in pdata[grade].keys():\n",
    "                pdata[grade][Type] = {}\n",
    "            for source in edict[year]['grades'][grade][Type].keys():\n",
    "                if source not in pdata[grade][Type].keys():\n",
    "                    pdata[grade][Type][source] = {}\n",
    "                pdata[grade][Type][source][year] = edict[year]['grades'][grade][Type][source]\n",
    "            \n",
    "#pdata"
   ]
  },
  {
   "cell_type": "code",
   "execution_count": null,
   "metadata": {},
   "outputs": [],
   "source": [
    "import numpy as np\n",
    "import matplotlib.pyplot as plt\n",
    "\n",
    "def set_data(pdata,ddict,Type,source,grade):\n",
    "    if grade not in ddict.keys():\n",
    "        ddict[grade] = {}\n",
    "    if Type not in ddict[grade].keys():\n",
    "        ddict[grade][Type] = {}\n",
    "    if source not in ddict[grade][Type].keys():\n",
    "        ddict[grade][Type][source] = {}\n",
    "    ddict[grade][Type][source]['x'] = make_array()\n",
    "    ddict[grade][Type][source]['y'] = make_array()\n",
    "    for year in pdata[grade][Type][source].keys():\n",
    "        ddict[grade][Type][source]['x'] = np.append(ddict[grade][Type][source]['x'],year)\n",
    "        ddict[grade][Type][source]['y'] = np.append(ddict[grade][Type][source]['y'],pdata[grade][Type][source][year])\n",
    "    return(ddict)\n",
    "\n",
    "ddict = {}\n",
    "\n",
    "for grade_no in np.arange(1,12+1):\n",
    "    grade = str(grade_no)\n",
    "    set_data(pdata,ddict,'forecast','NESD2021',grade)\n",
    "    set_data(pdata,ddict,'forecast','NESD1819',grade)\n",
    "    set_data(pdata,ddict,'actual','NESD2021',grade)\n",
    "    set_data(pdata,ddict,'actual','NESD1819',grade)\n",
    "    set_data(pdata,ddict,'actual','RIDE_Oct',grade)\n",
    "    set_data(pdata,ddict,'forecast','M_and_M',grade)\n",
    "    set_data(pdata,ddict,'actual','M_and_M',grade)\n",
    "    set_data(pdata,ddict,'forecast','M_and_M_low',grade)\n",
    "    set_data(pdata,ddict,'forecast','M_and_M_high',grade)"
   ]
  },
  {
   "cell_type": "code",
   "execution_count": null,
   "metadata": {},
   "outputs": [],
   "source": [
    "Colors = {'RIDE_Oct':'black','NESD1819':'limegreen','NESD2021':'turquoise',\\\n",
    "              'M_and_M':'orangered','M_and_M_low':'firebrick','M_and_M_high':'lightcoral'}"
   ]
  },
  {
   "cell_type": "code",
   "execution_count": null,
   "metadata": {},
   "outputs": [],
   "source": [
    "import numpy as np\n",
    "import matplotlib.pyplot as plt\n",
    "\n",
    "def plot_grade(ddict,grade,colors):\n",
    "    \n",
    "    ax = plt.axes([0, 0, 1.78, 1.78])\n",
    "    \n",
    "    for Type in ddict[grade].keys():\n",
    "        for source in ddict[grade][Type].keys():\n",
    "            if (source != 'RIDE_Oct'):\n",
    "                if (Type == 'forecast'):\n",
    "                    plt.plot(ddict[grade][Type][source]['x'],\\\n",
    "                        ddict[grade][Type][source]['y'],\\\n",
    "                        label=source + ' ' + Type,linestyle='--',color=colors[source])\n",
    "                else:\n",
    "                    plt.plot(ddict[grade][Type][source]['x'],\\\n",
    "                        ddict[grade][Type][source]['y'],\\\n",
    "                        label=source + ' ' + Type,linestyle='-',color=colors[source])\n",
    "            if 'RIDE_Oct' in ddict[grade][Type].keys():\n",
    "                source = 'RIDE_Oct'\n",
    "                plt.plot(ddict[grade][Type][source]['x'],\\\n",
    "                    ddict[grade][Type][source]['y'],\\\n",
    "                    label=source + ' ' + Type,linestyle='-',color=colors[source])\n",
    "    plt.legend(loc=\"lower left\")\n",
    "    \n",
    "    ax.set_xlabel('Year', fontsize = 18)\n",
    "    ax.set_ylabel('Enrollment', fontsize = 18)\n",
    "    ax.set_title('Enrollment and Forecast History - Grade ' + grade, fontsize = 20)\n",
    "\n",
    "    plt.show()\n",
    "    return"
   ]
  },
  {
   "cell_type": "code",
   "execution_count": null,
   "metadata": {
    "scrolled": false
   },
   "outputs": [],
   "source": [
    "for grade in ddict.keys():\n",
    "    plot_grade(ddict,grade,Colors)"
   ]
  }
 ],
 "metadata": {
  "kernelspec": {
   "display_name": "Python 3",
   "language": "python",
   "name": "python3"
  },
  "language_info": {
   "codemirror_mode": {
    "name": "ipython",
    "version": 3
   },
   "file_extension": ".py",
   "mimetype": "text/x-python",
   "name": "python",
   "nbconvert_exporter": "python",
   "pygments_lexer": "ipython3",
   "version": "3.8.5"
  }
 },
 "nbformat": 4,
 "nbformat_minor": 2
}

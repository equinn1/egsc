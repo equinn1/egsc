{
 "cells": [
  {
   "cell_type": "markdown",
   "metadata": {},
   "source": [
    "## Read earnings reports\n",
    "\n",
    "E. Quinn 12/22/2019\n",
    "\n",
    "This notebook uses pdfminer to extract the information from the individual earnings report\n",
    "\n",
    "The documentation for pdfminer is at:\n",
    "\n",
    "https://buildmedia.readthedocs.org/media/pdf/pdfminer-docs/latest/pdfminer-docs.pdf"
   ]
  },
  {
   "cell_type": "markdown",
   "metadata": {},
   "source": [
    "## Import standard python datascience packages"
   ]
  },
  {
   "cell_type": "code",
   "execution_count": null,
   "metadata": {},
   "outputs": [],
   "source": [
    "import math\n",
    "import re\n",
    "import copy\n",
    "import numpy as np\n",
    "import scipy as sc\n",
    "import pandas as pd\n",
    "import matplotlib.pyplot as plt\n",
    "import seaborn as sns\n",
    "%matplotlib inline"
   ]
  },
  {
   "cell_type": "code",
   "execution_count": null,
   "metadata": {},
   "outputs": [],
   "source": [
    "from datetime import *\n",
    "from datascience import *"
   ]
  },
  {
   "cell_type": "markdown",
   "metadata": {},
   "source": [
    "## Import pdfminer packages"
   ]
  },
  {
   "cell_type": "code",
   "execution_count": null,
   "metadata": {},
   "outputs": [],
   "source": [
    "from pdfminer.pdfparser import PDFParser\n",
    "from pdfminer.pdfdocument import PDFDocument\n",
    "from pdfminer.pdfpage import PDFPage\n",
    "from pdfminer.pdfpage import PDFTextExtractionNotAllowed\n",
    "from pdfminer.pdfinterp import PDFResourceManager\n",
    "from pdfminer.pdfinterp import PDFPageInterpreter\n",
    "from pdfminer.pdfdevice import PDFDevice\n",
    "from pdfminer.layout import LAParams\n",
    "from pdfminer.converter import PDFPageAggregator\n",
    "from pdfminer.pdfpage import PDFPage\n",
    "from pdfminer.layout import LTTextBoxHorizontal"
   ]
  },
  {
   "cell_type": "markdown",
   "metadata": {},
   "source": [
    "### Show the directory we are running in"
   ]
  },
  {
   "cell_type": "code",
   "execution_count": null,
   "metadata": {},
   "outputs": [],
   "source": [
    "!pwd"
   ]
  },
  {
   "cell_type": "markdown",
   "metadata": {},
   "source": [
    "## Read the pdf and create a dictionary with the contents of each text box"
   ]
  },
  {
   "cell_type": "markdown",
   "metadata": {},
   "source": [
    "### Function read_earnings() reads the earnings report and returns a dictionary containing the contents\n",
    "\n",
    "Strategy for this document:  \n",
    "\n",
    "Save information from each element in the LTTextBox objects in a dictionary including:\n",
    "\n",
    "- x0 horizontal coordinate of the upper left corner of the text box\n",
    "- x1 horizontal coordinate of the lower right corner of the text box\n",
    "- y0 vertical coordinate of the upper left corner of the text box\n",
    "- y1 vertical coordinate of the lower right corner of the text box\n",
    "- page number \n",
    "- sequence number of text box within this page\n",
    "- text contained in the text box, converted to ascii\n",
    "\n",
    "Parsing the text is complicated by the fact that that a text box may span multiple columns and/or rows, and the text box groupings vary quite a bit depending on the page contents and layout.\n",
    "\n",
    "However, with a bit of luck the structure of the document will allow the contents to be deciphered with the following heuristics:\n",
    "\n",
    "- Text boxes containing left justified columns will tend to have nearly the same x0 coordinates\n",
    "- Text boxes containing right justified columns will tend to have nearly the same x1 coordinates\n",
    "- The codes for fund, account code, and object code are numeric and have fixed lengths\n",
    "- Extraneous information is often preceded or followed by a series of underscore and newline characters\n",
    "- Last name can be distinguished because is the only field that is all characters followed by a comma\n",
    "- Last name may be preceded by between one and three numerical fields:  fund, account, object.  If it is, the x0 value is shifted to the left.\n",
    "    - Three numerical fields precede the name:  assume they are fund, account, object\n",
    "    - Two numerical fields precede the name: assume they are account, object\n",
    "    - One numerical field precedes the name: assume it is object\n",
    "    "
   ]
  },
  {
   "cell_type": "code",
   "execution_count": null,
   "metadata": {},
   "outputs": [],
   "source": [
    "def read_earnings(path):\n",
    "    document = open(path, 'rb')                                     #read a pdf and create a document object\n",
    "    rsrcmgr = PDFResourceManager()                                  #create a resource manager\n",
    "    laparams = LAParams()                                           #set the parameters for analysis\n",
    "    device = PDFPageAggregator(rsrcmgr, laparams=laparams)          #create a PDF page aggregator object\n",
    "    interpreter = PDFPageInterpreter(rsrcmgr, device)\n",
    "    \n",
    "    pdf={}                                                          #dictionary to hold the results\n",
    "\n",
    "    pageno = -1                                                     #initialize page coounter to zero\n",
    "\n",
    "    for page in PDFPage.get_pages(document):                        #loop through the pdf page by page\n",
    "        pageno = pageno + 1                                         #increment the page number\n",
    "        pdf[pageno] = {}                                            #dictionary for this page\n",
    "        interpreter.process_page(page)                              # receive the LTPage object for the page.\n",
    "        layout = device.get_result()                                # create layout object\n",
    "        tbox_no=0                                                   # index for element number\n",
    "        for element in layout:\n",
    "            if (type(element).__name__=='LTTextBoxHorizontal'):     #loop through text boxes\n",
    "                tbox_no += 1                                        #increment text box number\n",
    "                pdf[pageno][tbox_no] = {}                           #dictionary for text boxes within page\n",
    "                x0 = round(element.x0,2)                            #x0 coordinate of textbox corner\n",
    "                x1 = round(element.x1,2)                            #x1 coordinate of textbox corner\n",
    "                y0 = round(element.y0,2)                            #y0 coordinate of textbox corner\n",
    "                y1 = round(element.y1,2)                            #y1 coordinate of textbox corner\n",
    "                txt = element.get_text().encode('ascii', 'ignore')  #text converted to ascii\n",
    "                pdf[pageno][tbox_no]['x0'] = x0                     #create x0 coordinate entry\n",
    "                pdf[pageno][tbox_no]['x1'] = x1                     #create x1 coordinate entry\n",
    "                pdf[pageno][tbox_no]['y0'] = y0                     #create y0 coordinate entry\n",
    "                pdf[pageno][tbox_no]['y1'] = y1                     #create y1 coordinate entry\n",
    "\n",
    "                pdf[pageno][tbox_no]['text'] = ''.join(chr(c) for c in txt) #convert bytes to string\n",
    "    return(pdf)"
   ]
  },
  {
   "cell_type": "markdown",
   "metadata": {},
   "source": [
    "### Utility functions"
   ]
  },
  {
   "cell_type": "code",
   "execution_count": null,
   "metadata": {},
   "outputs": [],
   "source": [
    "#remove the commas from earnings and rate values\n",
    "\n",
    "def remove_commas(st):\n",
    "    newstr = st.replace(',','')                     #remove commas from string\n",
    "    return(newstr)"
   ]
  },
  {
   "cell_type": "code",
   "execution_count": null,
   "metadata": {},
   "outputs": [],
   "source": [
    "#remove the headings fields \n",
    "\n",
    "def remove_headings(st):\n",
    "    lines = st.split('\\n')                         #split the string at newline characters '\\n'\n",
    "    for line in lines:                             #loop through the resulting lines\n",
    "        if (line.startswith('FUND ') |\\\n",
    "           (line.startswith('POSITION')) |\\\n",
    "           (line.startswith('RATE')) |\\\n",
    "           (line.startswith('ACCT-')) |\\\n",
    "           (line.startswith('_'))):                #check for strings that appear only in headings\n",
    "            try:\n",
    "                newline_index = st.index('\\n')     #if present, remove this line from the text string\n",
    "                st = st[newline_index+1:]\n",
    "            except ValueError:\n",
    "                print('Value Error',st)            #recover from Value Error and print string\n",
    "        else:\n",
    "            return(st)                             #if no headings, just return\n",
    "    return('')"
   ]
  },
  {
   "cell_type": "markdown",
   "metadata": {},
   "source": [
    "### Read labels for accounting codes"
   ]
  },
  {
   "cell_type": "code",
   "execution_count": null,
   "metadata": {},
   "outputs": [],
   "source": [
    "acct_df = pd.read_csv(\"../earnings_acct_codes_2017_UCOA.csv\")\n",
    "acct_dct = acct_df.to_dict()\n",
    "\n",
    "accd = {}\n",
    "\n",
    "for i in acct_dct['acct-code'].keys():\n",
    "    acct = str(acct_dct['acct-code'][i])\n",
    "    if (acct not in accd.keys()):\n",
    "        accd[acct] = acct_dct['desc'][i]"
   ]
  },
  {
   "cell_type": "markdown",
   "metadata": {},
   "source": [
    "### Build a dictionary with only those text boxes containing names\n",
    "\n",
    "Use the following algorithm to identify text boxes that contain names:\n",
    "\n",
    "- x0, horizontal coordinate of the upper left corner of the text box, is less than 162\n",
    "- the text string contains at least one comma"
   ]
  },
  {
   "cell_type": "code",
   "execution_count": null,
   "metadata": {},
   "outputs": [],
   "source": [
    "def get_names(dct):\n",
    "\n",
    "    dnames = {}\n",
    "\n",
    "    fund = ''\n",
    "    acct = ''\n",
    "    obj  = ''\n",
    "    \n",
    "    for page in sorted(dct.keys()):                                #loop through text box dictionary by page # \n",
    "        if (page not in dnames.keys()):                            #page number is highest level key\n",
    "            dnames[page] = {}                                      #initialize entry for this page\n",
    "        for tb in sorted(dct[page].keys()):                        #loop through all text boxes on this page\n",
    "            if (dct[page][tb]['x0'] < 162.0):                      #those with names start to the left of x0=162\n",
    "                txt = str(dct[page][tb]['text'])                   #convert the 'text' element to a string\n",
    "                if (',' in txt):                                   #every name contains a comma\n",
    "                    txt = remove_headings(txt)\n",
    "                    lines = txt.split('\\n')                        #split text into lines\n",
    "                    words = lines[0].split()                       #split first line into words\n",
    "                    for word in words:                             #loop through and strip out fund, acct, obj\n",
    "                        if (word.isdigit()):\n",
    "                            if (len(word)==4):                     # 4 digits means fund\n",
    "                                fund = word\n",
    "                            if (len(word)==8):                     # 8 digits means acct-code\n",
    "                                acct = word\n",
    "                            if (len(word)==5):                     # 5 digits means obj\n",
    "                                obj = word\n",
    "                            txt = txt[len(word)+1:]                # remove fund/acct/obj from txt\n",
    "                    dnames[page][tb] = {}                          #initialize dictionary for this page\n",
    "                    dnames[page][tb]['x0'] = dct[page][tb]['x0']\n",
    "                    dnames[page][tb]['x1'] = dct[page][tb]['x1']\n",
    "                    dnames[page][tb]['y0'] = dct[page][tb]['y0']\n",
    "                    dnames[page][tb]['y1'] = dct[page][tb]['y1']\n",
    "                    dnames[page][tb]['fund'] = fund\n",
    "                    dnames[page][tb]['acct'] = acct\n",
    "                    dnames[page][tb]['obj'] = obj\n",
    "                    dnames[page][tb]['text'] = txt\n",
    "    return(dnames)"
   ]
  },
  {
   "cell_type": "markdown",
   "metadata": {},
   "source": [
    "### Consolidate text boxes that overlap on the vertical scale and contain names"
   ]
  },
  {
   "cell_type": "code",
   "execution_count": null,
   "metadata": {},
   "outputs": [],
   "source": [
    "def consolidate_name_boxes(names):\n",
    "    newnames = {}\n",
    "    \n",
    "    for page in sorted(names.keys()):                                        #loop through pages of pdf\n",
    "        newnames[page] = {}                                                  #initialize new names dictionary\n",
    "        skip = make_array()                                                  #initialize list of boxes to skip\n",
    "    \n",
    "        for tb in sorted(names[page].keys()):                                #loop through text boxes on this page\n",
    "            for tb2 in sorted(names[page].keys()):                           #compare this one to the others\n",
    "                if ((tb2 > tb) & \\\n",
    "                    (names[page][tb]['y0'] <= names[page][tb2]['y1']) & \\\n",
    "                    (names[page][tb2]['y0'] <= names[page][tb]['y1'])):      \n",
    "                    d = {}                                                   #initialize replacement entry\n",
    "                    d['x0'] = names[page][tb]['x0']                          #keep x0    \n",
    "                    d['x1'] = names[page][tb2]['x1']                         #replace x1 with tb2 value\n",
    "                    d['y0'] = names[page][tb2]['y0']                         #replace y0 with tb2 value\n",
    "                    d['y1'] = names[page][tb]['y1']                          #keep y1 value\n",
    "                    d['text'] = names[page][tb]['text'] +\\\n",
    "                        names[page][tb2]['text']                             #contatenate text strings\n",
    "                    d['fund'] = names[page][tb]['fund']                      #copy fund, acct, and obj\n",
    "                    d['acct'] = names[page][tb]['acct']\n",
    "                    d['obj'] = names[page][tb]['obj']\n",
    "                    newnames[page][tb2] = d                                  #plug into dictionary\n",
    "                    skip = np.append(skip,tb)                                #add old boxes to skip list\n",
    "                    skip = np.append(skip,tb2)\n",
    "            if (tb not in skip):                                             #if no match, check skip list \n",
    "                newnames[page][tb] = names[page][tb]                         #just copy if not in skip list\n",
    "                    \n",
    "    return(newnames)"
   ]
  },
  {
   "cell_type": "markdown",
   "metadata": {},
   "source": [
    "### Match consolidated text boxes with names to text boxes for other columns"
   ]
  },
  {
   "cell_type": "code",
   "execution_count": null,
   "metadata": {},
   "outputs": [],
   "source": [
    "def get_matches(names,pdf):\n",
    "\n",
    "    for page in sorted(names.keys()):                                       #loop through pages\n",
    "        for tb in sorted(names[page].keys()):                               #loop through text boxes\n",
    "            y0 = names[page][tb]['y0']                                      #extract vertical coordinates\n",
    "            y1 = names[page][tb]['y1']\n",
    "            txt = names[page][tb]['text']                                   #extract text\n",
    "           \n",
    "            for tb2 in sorted(pdf[page].keys()):                            #loop through the other boxes in pdf\n",
    "                if (tb != tb2):                                             #ignore if same box as names\n",
    "                    tx0 = pdf[page][tb2]['x0']                              #get horizontal offset\n",
    "                    ty0 = pdf[page][tb2]['y0']                              #check whether the vertical \n",
    "                    ty1 = pdf[page][tb2]['y1']                              #range of this box overlaps that\n",
    "                    if ((y0 <= ty1) & (ty0 <= y1)):                         #of the name box\n",
    "                        txt = remove_headings(pdf[page][tb2]['text'])\n",
    "                        if ((437.0 < tx0) & (tx0 < 440.0)):                 #match to POSITION\n",
    "                            names[page][tb]['positions'] = txt\n",
    "                        if ((509.0 < tx0) & (tx0 < 533.0)):                 #match to RATE \n",
    "                            names[page][tb]['rates'] = remove_commas(txt)\n",
    "                        if ((558.0 < tx0) & (tx0 < 630.0)):                 #match to ACCT-EARNINGS\n",
    "                            names[page][tb]['earnings'] = remove_commas(txt)\n",
    "    return                                                              "
   ]
  },
  {
   "cell_type": "markdown",
   "metadata": {},
   "source": [
    "### Get sum of earnings lines\n",
    "\n",
    "Used for balancing to total on earnings report"
   ]
  },
  {
   "cell_type": "code",
   "execution_count": null,
   "metadata": {},
   "outputs": [],
   "source": [
    "def balancing_totals(dct):\n",
    "    \n",
    "    total=0.0                                                       #initialize grand totals\n",
    "\n",
    "    for page in dct.keys():                                         #loop through pages of earnings report\n",
    "        for tb in dct[page].keys():                                 #loop through the text boxes on this page\n",
    "            names    = dct[page][tb]['text'].split('\\n')            #split the names string into lines\n",
    "            earnings = dct[page][tb]['earnings'].split('\\n')        #split the earnings string into lines\n",
    "            \n",
    "            for i in np.arange(len(names)):                         #loop through names\n",
    "                if (len(names[i]) > 1):                             #\n",
    "                    earnamt = float(earnings[i])                    #convert the corresponding earnings to float\n",
    "                    total += earnamt                                #add to running total\n",
    "                \n",
    "    print(round(total,2))                                           #print the grand total\n",
    "\n",
    "    return"
   ]
  },
  {
   "cell_type": "markdown",
   "metadata": {},
   "source": [
    "### Salary matrix"
   ]
  },
  {
   "cell_type": "code",
   "execution_count": null,
   "metadata": {},
   "outputs": [],
   "source": [
    "#start with 2015-2016 salary matrix\n",
    "\n",
    "npcba_1516 =  np.array([[41286, 42900, 43871, 44505, 44893, 45186],\n",
    "                        [44871, 46484, 47454, 48085, 48474, 48771],\n",
    "                        [48494, 50106, 51078, 51709, 52098, 52393],\n",
    "                        [52118, 53729, 54700, 55332, 55722, 56018],\n",
    "                        [55743, 57354, 58328, 58958, 59347, 59642],\n",
    "                        [59366, 60979, 61951, 62583, 62974, 63266],\n",
    "                        [62991, 64605, 65574, 66206, 66596, 66892],\n",
    "                        [66616, 68228, 69199, 69829, 69806, 70515],\n",
    "                        [71741, 73353, 74323, 74954, 75345, 75639],\n",
    "                        [78898, 80675, 81743, 82438, 82866, 83190]])\n",
    "npcba_1415 = np.around(npcba_1516/1.02,0)                          #divide by 1.02 to get 2014-2015\n",
    "npcba_1314 = np.around(npcba_1516/(1.025*1.02),0)                  #divide by 1.02*1.025 for 2013-2014\n",
    "npcba_1213 = np.around((npcba_1516/(1.025*1.02*1.01)),0)           #divide by 1.02*1.025*1.01 for steps 1-9 2012-2013\n",
    "npcba_1213[9,:] = np.around(npcba_1516[9,:]/(1.025*1.02*1.0225))   #divide by 1.02$1.025*1.0225 for step 10 2012-2013\n",
    "npcba_1617 = npcba_1516                                            #2016-2017 is the same as 2015-2016\n",
    "npcba_1718 = np.around(1.02*npcba_1516,0)                          #multiply 2015-2016 by 1.02 to get 2017-2018\n",
    "npcba_1819 = np.around(1.0225*1.025*npcba_1516,0)                  #muntiply 2015-2016 by 1.02*1.0225 to get 2018-2019 \n",
    "npcba_1920 = np.around(1.0225*1.025*npcba_1516,0)                  #2019-2020 same as 2018-2019 \n",
    "npcba_2021 = np.around(1.02*1.0225*1.025*npcba_1516,0)             #2020-2021 2% increase\n",
    "npcba_2122 = np.around(1.0225*1.02*1.0225*1.025*npcba_1516,0)      #2021-2022 2.25% increase \n",
    "\n",
    "cba = np.zeros((10, 10, 6))                                         #combine into 3-D numpy array\n",
    "cba[9,:,:] = npcba_1213\n",
    "cba[8,:,:] = npcba_1314\n",
    "cba[7,:,:] = npcba_1415\n",
    "cba[6,:,:] = npcba_1516\n",
    "cba[5,:,:] = npcba_1617\n",
    "cba[4,:,:] = npcba_1718\n",
    "cba[3,:,:] = npcba_1819\n",
    "cba[2,:,:] = npcba_1920\n",
    "cba[1,:,:] = npcba_2021\n",
    "cba[0,:,:] = npcba_2122"
   ]
  },
  {
   "cell_type": "markdown",
   "metadata": {},
   "source": [
    "### Lookup function:  find step given salary "
   ]
  },
  {
   "cell_type": "code",
   "execution_count": null,
   "metadata": {},
   "outputs": [],
   "source": [
    "def get_step(rate,salary_matrix):                                           #determine step value\n",
    "    cats = ['B','B+30','M','M+30','CAGS/M2','D']                            #categories\n",
    "    years = ['2022','2021','2020','2019','2018','2017','2016']              #years\n",
    "    salary = round(184.0*rate,0)                                            #salary is 184 times daily rate\n",
    "    lower = salary - 1.0                                                    #lower limit for tolerance\n",
    "    upper = salary + 1.0                                                    #upper limit for tolerance\n",
    "    for i in np.arange(3,6):                                                #search salary matrix for a match\n",
    "        for j in np.arange(10):\n",
    "            for k in np.arange(6):\n",
    "                if((lower <= salary_matrix[i,j,k]) & \\\n",
    "                   (salary_matrix[i,j,k] <= upper)):                        #computed salary within $1 of CBA\n",
    "                    step = str(years[i]) + '-' + cats[k] + '-' + str(j+1)   #code is:  yyyy-cat-step\n",
    "                    return(step)\n",
    "    return('')"
   ]
  },
  {
   "cell_type": "markdown",
   "metadata": {},
   "source": [
    "### Determine FTE value"
   ]
  },
  {
   "cell_type": "code",
   "execution_count": null,
   "metadata": {},
   "outputs": [],
   "source": [
    "def get_fte(rate,earnings):\n",
    "    fte = np.NaN\n",
    "    fractions = [1/2.,1/3.,2/3.,1/4.,3/4.,1/5.,2/5.,3/5.,4/5.,1/6.,5/6.,\\\n",
    "                 1/7.,2/7.,3/7.,4/7.,5/7.,6/7.,1/8.,3/8.,5/8.,7/8.,\\\n",
    "                1/9.,2/9.,4/9.,5/9.,7/9.,8/9.,1/10.,3/10.,7/10.,9/10.,1.0]\n",
    "    payments  = [21.,26.]\n",
    "    min_abs_diff = 100000.\n",
    "    \n",
    "    if ((earnings > 150.) & (earnings < 4500.)):\n",
    "        for paymts in payments:\n",
    "            for frac in fractions:\n",
    "                diff = abs(earnings - frac*rate*184/paymts)\n",
    "                if (diff < min_abs_diff):\n",
    "                    min_abs_diff = diff\n",
    "                    fte = frac\n",
    "    return(fte)"
   ]
  },
  {
   "cell_type": "markdown",
   "metadata": {},
   "source": [
    "### Determine number of payments"
   ]
  },
  {
   "cell_type": "code",
   "execution_count": null,
   "metadata": {},
   "outputs": [],
   "source": [
    "def get_number_of_payments(rate,earnings):\n",
    "    number_of_payments = np.NaN\n",
    "    fractions = [1/2.,1/3.,2/3.,1/4.,3/4.,1/5.,2/5.,3/5.,4/5.,1/6.,5/6.,\\\n",
    "                 1/7.,2/7.,3/7.,4/7.,5/7.,6/7.,1/8.,3/8.,5/8.,7/8.,\\\n",
    "                1/9.,2/9.,4/9.,5/9.,7/9.,8/9.,1/10.,3/10.,7/10.,9/10.,1.0]\n",
    "    payments  = [21.,26.]\n",
    "    min_abs_diff = 100000.\n",
    "    \n",
    "    if ((earnings > 150.) & (earnings < 4500.)):\n",
    "        for paymts in payments:\n",
    "            for frac in fractions:\n",
    "                diff = abs(earnings - frac*rate*184/paymts)\n",
    "                if (diff < min_abs_diff):\n",
    "                    min_abs_diff = diff\n",
    "                    number_of_payments = paymts \n",
    "    return(number_of_payments)"
   ]
  },
  {
   "cell_type": "markdown",
   "metadata": {},
   "source": [
    "### Build a dictionary of payroll dates from FY2010 to FY2026"
   ]
  },
  {
   "cell_type": "code",
   "execution_count": null,
   "metadata": {},
   "outputs": [],
   "source": [
    "def get_payperiods():\n",
    "    \n",
    "    payperiods = {}                                      #initialize payperiods dictionary\n",
    "\n",
    "    delta = timedelta(days=14)                           #14 days per pay period\n",
    "    x = date(2009,7,3)                                   #first pay period of FY2010\n",
    "    fiscal_year = 2010-1                                 #initialize fiscal year\n",
    "    last_month=6                                         #so that it will update to 2010 at the start\n",
    "\n",
    "    while (x < date(2026,7,1)):                          #generate pay periods through the end of FY2026\n",
    "        if ((x.month == 7) & (last_month == 6)):         #test for new fiscal year\n",
    "            fiscal_year += 1                             #  increment fiscal year\n",
    "            count = 0                                    #  set payperiod count to zero\n",
    "        fseq = 1 + count % 26                            #  compute payperiod sequence number\n",
    "        if (fiscal_year not in payperiods.keys()):       #check whether fiscal year is in dictionary yet\n",
    "            payperiods[fiscal_year] = {}                 #if not, add it\n",
    "        payperiods[fiscal_year][fseq] = x                #add payperiod to dictionary\n",
    "        count += 1                                       #increment the payperiod count\n",
    "        last_month = x.month                             #save current month to detect fiscal year end\n",
    "        x += delta                                       #increment date by 14 days\n",
    "        \n",
    "    return(payperiods)"
   ]
  },
  {
   "cell_type": "markdown",
   "metadata": {},
   "source": [
    "### Assign dates where possible"
   ]
  },
  {
   "cell_type": "code",
   "execution_count": null,
   "metadata": {},
   "outputs": [],
   "source": [
    "def assign_dates(rsal,pdays):\n",
    "    \n",
    "    fyears = {}\n",
    "    \n",
    "    for ix in rsal.keys():                #build a dictionary with entries for each fiscal year\n",
    "        fyear = rsal[ix]['fyear']\n",
    "        if fyear not in fyears.keys():\n",
    "            fyears[fyear] = {}\n",
    "        acct = rsal[ix]['acct']\n",
    "        if (acct not in fyears[fyear].keys()):\n",
    "            fyears[fyear][acct] = {}\n",
    "            fyears[fyear][acct]['min_payments'] = 26\n",
    "            fyears[fyear][acct]['max_payments'] = 0\n",
    "            fyears[fyear][acct]['n_payments']   = 0\n",
    "            fyears[fyear][acct]['payments'] = {}\n",
    "        if 'payments' in rsal[ix].keys():\n",
    "            payments = rsal[ix]['payments']\n",
    "        if (payments == payments):\n",
    "            if (payments < fyears[fyear][acct]['min_payments']):\n",
    "                fyears[fyear][acct]['min_payments'] = rsal[ix]['payments']\n",
    "            if (payments > fyears[fyear][acct]['max_payments']):\n",
    "                fyears[fyear][acct]['max_payments'] = rsal[ix]['payments']\n",
    "        fyears[fyear][acct]['n_payments'] += 1\n",
    "        fyears[fyear][acct]['payments'][ix] = {}\n",
    "\n",
    "    for fyear in fyears.keys():\n",
    "        for acct in fyears[fyear].keys():\n",
    "            if ((fyears[fyear][acct]['min_payments'] == fyears[fyear][acct]['max_payments'])):    #no change in payments\n",
    "                n_payments = fyears[fyear][acct]['n_payments']\n",
    "                if (n_payments==26.0):\n",
    "                    dix = 1\n",
    "                    for nix in fyears[fyear][acct]['payments'].keys():\n",
    "                        fyears[fyear][acct]['payments'][nix]['date'] = paydays[fyear][dix]\n",
    "                        dix += 1\n",
    "                elif (n_payments ==23.0):\n",
    "                    dix = 4\n",
    "                    for nix in fyears[fyear][acct]['payments'].keys():\n",
    "                        fyears[fyear][acct]['payments'][nix]['date'] = paydays[fyear][dix]\n",
    "                        dix += 1\n",
    "                elif (n_payments ==21.0):\n",
    "                    dix = 4\n",
    "                    for nix in fyears[fyear][acct]['payments'].keys():\n",
    "                        fyears[fyear][acct]['payments'][nix]['date'] = paydays[fyear][dix]\n",
    "                        dix += 1\n",
    "                elif (fyears[fyear][acct]['n_payments']==3.0):\n",
    "                    dix = 1\n",
    "                    for nix in fyears[fyear][acct]['payments'].keys():\n",
    "                        fyears[fyear][acct]['payments'][nix]['date'] = paydays[fyear][dix]\n",
    "                        dix += 1\n",
    "    return(fyears)"
   ]
  },
  {
   "cell_type": "markdown",
   "metadata": {},
   "source": [
    "### Get dictionary of paydays: FY2010-FY2023"
   ]
  },
  {
   "cell_type": "code",
   "execution_count": null,
   "metadata": {},
   "outputs": [],
   "source": [
    "paydays = get_payperiods()"
   ]
  },
  {
   "cell_type": "markdown",
   "metadata": {},
   "source": [
    "### Read the FY2017 earnings report"
   ]
  },
  {
   "cell_type": "code",
   "execution_count": null,
   "metadata": {},
   "outputs": [],
   "source": [
    "p17 = read_earnings('../FY17 Gene_Redacted.pdf')"
   ]
  },
  {
   "cell_type": "markdown",
   "metadata": {},
   "source": [
    "### Read the FY2018 earnings report"
   ]
  },
  {
   "cell_type": "code",
   "execution_count": null,
   "metadata": {},
   "outputs": [],
   "source": [
    "p18 = read_earnings('../FY18 Gene_Redacted.pdf')"
   ]
  },
  {
   "cell_type": "markdown",
   "metadata": {},
   "source": [
    "### Process the FY17 Earnings report"
   ]
  },
  {
   "cell_type": "code",
   "execution_count": null,
   "metadata": {},
   "outputs": [],
   "source": [
    "dnames17 = get_names(p17)                                   #extract name records from pdf\n",
    "consolidated_names17 = consolidate_name_boxes(dnames17)     #consolidate overlapping text boxes containing names\n",
    "get_matches(consolidated_names17,p17)                       #match text boxes for other columns by vertical pos"
   ]
  },
  {
   "cell_type": "markdown",
   "metadata": {},
   "source": [
    "### Process the FY18 Earnings report"
   ]
  },
  {
   "cell_type": "code",
   "execution_count": null,
   "metadata": {},
   "outputs": [],
   "source": [
    "dnames18 = get_names(p18)                                   #extract name records from pdf\n",
    "consolidated_names18 = consolidate_name_boxes(dnames18)     #consolidate overlapping text boxes containing names\n",
    "get_matches(consolidated_names18,p18)                       #match text boxes for other columns by vertical pos"
   ]
  },
  {
   "cell_type": "markdown",
   "metadata": {},
   "source": [
    "### Check sum of earnings against total on earnings reports"
   ]
  },
  {
   "cell_type": "code",
   "execution_count": null,
   "metadata": {},
   "outputs": [],
   "source": [
    "balancing_totals(consolidated_names17)     #FY2017 earnings report total is $22,608,024.34"
   ]
  },
  {
   "cell_type": "code",
   "execution_count": null,
   "metadata": {},
   "outputs": [],
   "source": [
    "balancing_totals(consolidated_names18)     #FY2018 earnings report total is $22,409,915.41"
   ]
  },
  {
   "cell_type": "markdown",
   "metadata": {},
   "source": [
    "### Get dictionary of people"
   ]
  },
  {
   "cell_type": "code",
   "execution_count": null,
   "metadata": {},
   "outputs": [],
   "source": [
    "people = {}\n",
    "\n",
    "ay = {}                                                           #combine FY17 and FY18\n",
    "ay[2017] = consolidated_names17\n",
    "ay[2018] = consolidated_names18\n",
    "                                                                  #build people dictionary for all years \n",
    "for year in ay.keys():                                            # loop through years\n",
    "    for page in ay[year].keys():                                  # loop through pages of earnings report\n",
    "        for tb in ay[year][page].keys():                          # loop through text boxes on each page\n",
    "            fund = ay[year][page][tb]['fund']\n",
    "            acct = ay[year][page][tb]['acct']\n",
    "            obj  = ay[year][page][tb]['obj']\n",
    "            \n",
    "            txt  = ay[year][page][tb]['text']                      # pick up names\n",
    "            positions = ay[year][page][tb]['positions']\n",
    "            rates     = ay[year][page][tb]['rates']\n",
    "            earnings  = ay[year][page][tb]['earnings']\n",
    "            \n",
    "            lines  = txt.split('\\n')                               # split names string into lines\n",
    "            plines = positions.split('\\n')\n",
    "            rlines = rates.split('\\n')\n",
    "            elines = earnings.split('\\n')\n",
    "            \n",
    "            for i in np.arange(len(lines)):                       # add name to people dictionary\n",
    "                if (len(lines[i]) > 1):\n",
    "                    name = lines[i]\n",
    "                    if (name not in people.keys()):\n",
    "                        people[name] = {}\n",
    "                    if (fund not in people[name].keys()):\n",
    "                        people[name][fund] = {}\n",
    "                    if (acct not in people[name][fund].keys()):\n",
    "                        people[name][fund][acct] = {}\n",
    "                    if (obj not in people[name][fund][acct].keys()):\n",
    "                        people[name][fund][acct][obj] = {}\n",
    "                        \n",
    "                    seq = 1+len(people[name][fund][acct][obj].keys())\n",
    "                    \n",
    "                    people[name][fund][acct][obj][seq] = {}\n",
    "                    people[name][fund][acct][obj][seq]['position'] = plines[i]\n",
    "                    rate = float(rlines[i])\n",
    "                    people[name][fund][acct][obj][seq]['rate'] = rate\n",
    "                    earnings = float(elines[i])\n",
    "                    people[name][fund][acct][obj][seq]['earnings'] = earnings\n",
    "                    people[name][fund][acct][obj][seq]['fyear'] = year\n",
    "                    if (rate > 200.0):\n",
    "                        step = get_step(rate,cba)\n",
    "                        people[name][fund][acct][obj][seq]['step'] = step\n",
    "                        fte = get_fte(rate,earnings)\n",
    "                        people[name][fund][acct][obj][seq]['fte'] = fte\n",
    "                        payments = get_number_of_payments(rate,earnings)\n",
    "                        people[name][fund][acct][obj][seq]['payments'] = payments"
   ]
  },
  {
   "cell_type": "markdown",
   "metadata": {},
   "source": [
    "### Summarize regular salary for entries on CBA salary matrix"
   ]
  },
  {
   "cell_type": "code",
   "execution_count": null,
   "metadata": {},
   "outputs": [],
   "source": [
    "regsal = {}                                                   #dictionary for summary by name\n",
    "\n",
    "for name in people.keys():                                    #loop through people by name\n",
    "    for fund in people[name].keys():                          #loop through fund, acct-code\n",
    "        for acct in people[name][fund].keys():\n",
    "            for obj in people[name][fund][acct].keys():       #select only obj=51110 regular salary\n",
    "                if (obj == '51110'):\n",
    "                    for seq in people[name][fund][acct][obj].keys():                 #select only if step coded\n",
    "                        if ('step' in people[name][fund][acct][obj][seq].keys()):    #add to summary dictionary\n",
    "                            if (name not in regsal.keys()):\n",
    "                                regsal[name] = {}\n",
    "                            rseq = 1+len(regsal[name].keys())\n",
    "                            regsal[name][rseq] = {}\n",
    "                            regsal[name][rseq]['fyear'] = people[name][fund][acct][obj][seq]['fyear']\n",
    "                            regsal[name][rseq]['acct']  = acct\n",
    "                            regsal[name][rseq]['step']  = people[name][fund][acct][obj][seq]['step']\n",
    "                            regsal[name][rseq]['fte']  = people[name][fund][acct][obj][seq]['fte']\n",
    "                            regsal[name][rseq]['payments']  = people[name][fund][acct][obj][seq]['payments']\n",
    "                            regsal[name][rseq]['earnings'] = people[name][fund][acct][obj][seq]['earnings']"
   ]
  },
  {
   "cell_type": "markdown",
   "metadata": {},
   "source": [
    "### Add dates"
   ]
  },
  {
   "cell_type": "code",
   "execution_count": null,
   "metadata": {},
   "outputs": [],
   "source": [
    "for name in regsal.keys():\n",
    "    pdates = assign_dates(regsal[name],paydays)\n",
    "    for fyear in pdates.keys():\n",
    "        for acct in pdates[fyear].keys():\n",
    "            for ix in pdates[fyear][acct]['payments'].keys():\n",
    "                try:\n",
    "                    regsal[name][ix]['date'] = pdates[fyear][acct]['payments'][ix]['date']\n",
    "                except KeyError:\n",
    "                    regsal[name][ix]['date'] = np.NaN"
   ]
  },
  {
   "cell_type": "markdown",
   "metadata": {},
   "source": [
    "### Print results for those with step values"
   ]
  },
  {
   "cell_type": "code",
   "execution_count": null,
   "metadata": {
    "scrolled": false
   },
   "outputs": [],
   "source": [
    "print(\"Names with step values: \",len(regsal))         #show the number of distinct names\n",
    "\n",
    "for name in regsal.keys():                            #compute totals by fiscal year and percent increase\n",
    "    totsal = {}\n",
    "    print('\\n',name)                                  #start of data for this employee\n",
    "    for seq in regsal[name].keys():                   #loop through earnings entries and add them up by fyear\n",
    "        fyear = regsal[name][seq]['fyear']\n",
    "        if (fyear not in totsal.keys()):\n",
    "            totsal[fyear] = 0.0\n",
    "        acct  = regsal[name][seq]['acct'] \n",
    "        try:\n",
    "            acct_desc = accd[acct]\n",
    "        except KeyError:\n",
    "            acct_desc = '(no label)'\n",
    "        step  = regsal[name][seq]['step']\n",
    "        fte  = round(regsal[name][seq]['fte'],1)\n",
    "        payments  = regsal[name][seq]['payments']\n",
    "        earnings = regsal[name][seq]['earnings']\n",
    "        try:\n",
    "            pdate = regsal[name][seq]['date']\n",
    "        except KeyError:\n",
    "            pdate = '(no date)'\n",
    "        totsal[fyear]+= earnings\n",
    "        print(seq,fyear,acct,acct_desc,pdate,fte,step, payments,earnings)\n",
    "    totstr = ''\n",
    "    for fy in totsal.keys():\n",
    "        totstr += str(fy) + ' ' + str(round(totsal[fy],2)) + ' '\n",
    "    pct_increase = ' '\n",
    "    if(len(totsal)==2):                             #if more than one year, compute percent change                              \n",
    "        pct_increase = '  percent change: ' +\\\n",
    "        str(round(100*((totsal[2018]/totsal[2017])-1.0),2))\n",
    "    totstr = totstr + pct_increase\n",
    "    print('\\n',name,' total regular salary: ',totstr)"
   ]
  }
 ],
 "metadata": {
  "kernelspec": {
   "display_name": "Python 3",
   "language": "python",
   "name": "python3"
  },
  "language_info": {
   "codemirror_mode": {
    "name": "ipython",
    "version": 3
   },
   "file_extension": ".py",
   "mimetype": "text/x-python",
   "name": "python",
   "nbconvert_exporter": "python",
   "pygments_lexer": "ipython3",
   "version": "3.7.5"
  }
 },
 "nbformat": 4,
 "nbformat_minor": 2
}

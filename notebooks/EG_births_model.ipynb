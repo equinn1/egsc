{
 "cells": [
  {
   "cell_type": "markdown",
   "metadata": {},
   "source": [
    "# EG_births_model\n",
    "\n",
    "E. Quinn 4/5/2021\n",
    "\n",
    "Probability model for births"
   ]
  },
  {
   "cell_type": "markdown",
   "metadata": {},
   "source": [
    "### Import standard python datascience packages"
   ]
  },
  {
   "cell_type": "code",
   "execution_count": null,
   "metadata": {},
   "outputs": [],
   "source": [
    "import sys\n",
    "import math\n",
    "import re\n",
    "import copy as cp\n",
    "import numpy as np\n",
    "import scipy as sc\n",
    "import pandas as pd\n",
    "import matplotlib.pyplot as plt\n",
    "import seaborn as sns\n",
    "import pickle\n",
    "%matplotlib inline"
   ]
  },
  {
   "cell_type": "code",
   "execution_count": null,
   "metadata": {},
   "outputs": [],
   "source": [
    "from datetime import datetime, timedelta, date\n",
    "from datascience import *\n",
    "import uuid\n",
    "import random"
   ]
  },
  {
   "cell_type": "code",
   "execution_count": null,
   "metadata": {},
   "outputs": [],
   "source": [
    "from scipy.stats import nbinom\n",
    "import numpy.random as npr"
   ]
  },
  {
   "cell_type": "markdown",
   "metadata": {},
   "source": [
    "### Overview\n",
    "\n",
    "This notebook builds a probability model for EG births using data from the 2020-2021 the NESDEC. \n",
    "\n",
    "It uses birth counts for the 18 years 2004-2020.\n",
    "\n",
    "To summarize the results:\n",
    "\n",
    "* A negative binomial model fits the data well.\n",
    "* Medians, interquartile ranges, and 95%confidence intervals computed from the model are consistent with the data.\n",
    "* The model extends to total births in a multiyear period. Results for multi-year models are consistent with the data for consecutive years. "
   ]
  },
  {
   "cell_type": "markdown",
   "metadata": {},
   "source": [
    "### Implications of the Model\n",
    "\n",
    "* A model with independent, identical distributions of births in every year, while almost surely an oversimplification, never the less is a decent approximation; it captures the behavior well.\n",
    "* The fact that the model fits the data well suggests that the expected number of births (population times birth rate) has remained fairly constant over the data period.  \n",
    "* The observed variation is about what one would expect by pure chance, there are no outliers.\n",
    "* We expect the number of births to fall between 96 and 114  50% of the time.\n",
    "* We expect the number of births to fall between 85 and 127  90% of the time.\n",
    "* We expect the number of births to fall between 81 and 131  95% of the time."
   ]
  },
  {
   "cell_type": "markdown",
   "metadata": {},
   "source": [
    "### Set path to data files"
   ]
  },
  {
   "cell_type": "code",
   "execution_count": null,
   "metadata": {},
   "outputs": [],
   "source": [
    "data_path = '../'\n",
    "!pwd"
   ]
  },
  {
   "cell_type": "markdown",
   "metadata": {},
   "source": [
    "### Get EG Birth Counts\n",
    "\n",
    "* Read births for 2005-2020 from 2020-2021 NESDEC data into an array\n",
    "* Add 98 births for 2004 from Milone and MacBroom 2019 demographic study"
   ]
  },
  {
   "cell_type": "code",
   "execution_count": null,
   "metadata": {},
   "outputs": [],
   "source": [
    "ta = np.genfromtxt(data_path+'NESDEC_2020_2021.csv', delimiter=\",\",skip_header=1)\n",
    "births_array = np.empty((17,2))\n",
    "births_array[0:17,0,] = np.arange(2004,2021)\n",
    "births_array[0,1] = 98\n",
    "births_array[1:17,1,] = ta[0:16,2,]\n",
    "print(births_array)"
   ]
  },
  {
   "cell_type": "markdown",
   "metadata": {},
   "source": [
    "### Get mean and variance of counts"
   ]
  },
  {
   "cell_type": "code",
   "execution_count": null,
   "metadata": {},
   "outputs": [],
   "source": [
    "mu = np.mean(births_array[:,1,])\n",
    "var = np.var(births_array[:,1,])\n",
    "\n",
    "print('Mean births: ',mu,' births variance: ',var)"
   ]
  },
  {
   "cell_type": "markdown",
   "metadata": {},
   "source": [
    "### Determine model and parameters\n",
    "\n",
    "The variance is considerably larger than the mean, indicating *overdispersion*, so a Poisson model will not fit.\n",
    "\n",
    "As and alternative, we consider a __[negative binomial distribution](https://en.wikipedia.org/wiki/Negative_binomial_distribution)__ with probability function:\n",
    "\n",
    "$$P(Y=y) = {y + r -1 \\choose y}(1-p)^{r}p^y,\\quad y=0,1,2,3,...$$\n",
    "\n",
    "We can estimate the parameters $r$ and $p$ using the *method of moments*.  We equate the sample mean and variance to the formulas for the expected value and variance of $y$:\n",
    "\n",
    "$$ \\frac{pr}{1-p} = 105.29 $$\n",
    "\n",
    "$$ \\frac{pr}{(1-p)^2} = 165.38$$\n",
    "\n",
    "and solve the system for $r$ and $p$ to obtain:\n",
    "* $\\hat{p}$ = 0.3633\n",
    "* $\\hat{r}$ = 184.49\n",
    "\n",
    "These are the parameters for a negative binomial random variable with mean $105.29$ and variance $165.38$."
   ]
  },
  {
   "cell_type": "markdown",
   "metadata": {},
   "source": [
    "### Compute method of moments estimates for r and p"
   ]
  },
  {
   "cell_type": "code",
   "execution_count": null,
   "metadata": {},
   "outputs": [],
   "source": [
    "p = (165.38 - 105.29)/165.38\n",
    "print('Method of moments estimate for p:',p)\n",
    "r = 105.29*(1-p)/p\n",
    "print('Method of moments estimate for r:',r)"
   ]
  },
  {
   "cell_type": "markdown",
   "metadata": {},
   "source": [
    "### Define function for computing and printing percentiles"
   ]
  },
  {
   "cell_type": "code",
   "execution_count": null,
   "metadata": {},
   "outputs": [],
   "source": [
    "def compute_percentiles(years,r,p,ymin,ymax):\n",
    "    q1   = nbinom.ppf(0.25,years*r,1-p)               #first quartile\n",
    "    q2   = nbinom.ppf(0.5,years*r,1-p)                #median\n",
    "    q3   = nbinom.ppf(0.75,years*r,1-p)               #third quartile\n",
    "    p05  = nbinom.ppf(0.05,years*r,1-p)               #lower bound - 90% CI           \n",
    "    p95  = nbinom.ppf(0.95,years*r,1-p)               #upper bound - 90% CI                              \n",
    "    p025 = nbinom.ppf(0.025,years*r,1-p)              #lower bound - 95% CI\n",
    "    p975 = nbinom.ppf(0.975,years*r,1-p)              #upper bound - 95% CI\n",
    "    plo  = round(nbinom.cdf(ymin,years*r,1-p),4)        #percentile of smallest observed value\n",
    "    phi  = round(nbinom.cdf(ymax,years*r,1-p),4)       #percentile of largest observed value\n",
    "    ptuple = (p025,p975,q1,q2,q3)                     #tuple of values for graphs\n",
    "\n",
    "    print('Quartiles',q1,'median',q2,'third quartile',q3,'\\n')\n",
    "    print('Interquartile range',q3-q1,'\\n')\n",
    "    print('90 percent confidence interval:',p05,'-',p95,'  width:',p95-p05,'\\n')\n",
    "    print('95 percent confidence interval',p025,'-',p975,'  width:',p975-p025,'\\n')\n",
    "    print('Percentiles of largest and smallest observed values:  largest:',phi,' smallest:',plo)\n",
    "    return(ptuple)"
   ]
  },
  {
   "cell_type": "markdown",
   "metadata": {},
   "source": [
    "### Compute single-year quartiles and confidence interval bounds\n",
    "\n",
    "With 18 observations, we expect 1.8 observations to fall outside a 90% CI.  In the sample, there were two.\n",
    "\n",
    "We expect 0.9 observations to fall outside a 95% CI.  In this sample, one year landed on the lower bound, 81, so these results are in line with expectations."
   ]
  },
  {
   "cell_type": "code",
   "execution_count": null,
   "metadata": {},
   "outputs": [],
   "source": [
    "ptuple = compute_percentiles(1,r,p,81,126)"
   ]
  },
  {
   "cell_type": "markdown",
   "metadata": {},
   "source": [
    "### Plot births data"
   ]
  },
  {
   "cell_type": "code",
   "execution_count": null,
   "metadata": {},
   "outputs": [],
   "source": [
    "years = []\n",
    "for y in births_array[:,0]:\n",
    "    years.append(int(y))\n",
    "births = births_array[:,1]\n",
    "    \n",
    "l95 = ptuple[0]*np.ones(len(years))\n",
    "u95 = ptuple[1]*np.ones(len(years))\n",
    "q1  = ptuple[2]*np.ones(len(years))\n",
    "q2  = ptuple[3]*np.ones(len(years))\n",
    "q3  = ptuple[4]*np.ones(len(years))\n",
    "\n",
    "ax = plt.axes([0, 0, 1.78, 1.78])\n",
    "ax.set_xticks(years)\n",
    "ax.set_xticklabels(years, fontsize=12)\n",
    "plt.plot(years, births)\n",
    "plt.plot(years, u95, color='green', label='95% confidence interval (model)')\n",
    "plt.plot(years, l95, color='green')\n",
    "plt.plot(years, q1,color='red', label='Interquartile range (model)')\n",
    "plt.plot(years, q2,color='black', label='Median (model)')\n",
    "plt.plot(years, q3,color='red')\n",
    "plt.legend(loc=\"upper left\")\n",
    "plt.ylim([0, 150])\n",
    "\n",
    "ax.set_xlabel('Year', fontsize = 18)\n",
    "ax.set_ylabel('EG Births', fontsize = 18)\n",
    "ax.set_title('EG Births, quartiles, and 95% confidence limits', fontsize = 20)\n",
    "plt.show()\n",
    "plt.close()"
   ]
  },
  {
   "cell_type": "markdown",
   "metadata": {},
   "source": [
    "### Derivation of the distribution of multi-year totals\n",
    "\n",
    "If we assume that the births in successive years are independently distributed, we can derive the distribution of the total births in two or more years.\n",
    "\n",
    "With the independence assumption, the moment generating function of the distribution of the sum will be the product of the moment generating functions for the years in the sum.\n",
    "\n",
    "Since we have assumed the same distribution for the number of births every year, the common moment generating function is that of a negative binomial random variable with parameters $r$ and $p$:\n",
    "\n",
    "$$ M_y(t) = \\left(\\frac{1-p}{1-pe^t}\\right)^r$$\n",
    "\n",
    "For the sum of two years, the moment generating function of the sum is the product:\n",
    "\n",
    "$$ M_{2y}(t) = \\left(\\frac{1-p}{1-pe^t}\\right)^r\\left(\\frac{1-p}{1-pe^t}\\right)^r = \\left(\\frac{1-p}{1-pe^t}\\right)^{2r}$$\n",
    "\n",
    "which we can recognize as the moment generating function of a negative binomial random variable with parameters $2r$ and $p$.\n",
    "\n",
    "We can extend this to sums of more than two years, the result being that the sum of $n$ independent negative binomial random variables with parameters $r$ and $p$ has a negative binomial distribution with parameters $n\\cdot r$ and $p$. "
   ]
  },
  {
   "cell_type": "markdown",
   "metadata": {},
   "source": [
    "### Compute quartiles and confidence interval bounds for sums of two consecutive years"
   ]
  },
  {
   "cell_type": "code",
   "execution_count": null,
   "metadata": {},
   "outputs": [],
   "source": [
    "ptuple = compute_percentiles(2,r,p,164,240)"
   ]
  },
  {
   "cell_type": "markdown",
   "metadata": {},
   "source": [
    "### Plot births totals for consecutive years"
   ]
  },
  {
   "cell_type": "code",
   "execution_count": null,
   "metadata": {},
   "outputs": [],
   "source": [
    "years = np.arange(2005,2021)\n",
    "print(len(years))\n",
    "\n",
    "data1 = births_array[0:len(years),1]\n",
    "data2 = births_array[1:len(years)+1,1]\n",
    "data=data1+data2\n",
    "\n",
    "l95 = ptuple[0]*np.ones(len(years))\n",
    "u95 = ptuple[1]*np.ones(len(years))\n",
    "q1  = ptuple[2]*np.ones(len(years))\n",
    "q2  = ptuple[3]*np.ones(len(years))\n",
    "q3  = ptuple[4]*np.ones(len(years))\n",
    "\n",
    "ax = plt.axes([0, 0, 1.78, 1.78])\n",
    "ax.set_xticks(years)\n",
    "ax.set_xticklabels(years, fontsize=12)\n",
    "plt.plot(years, data)\n",
    "plt.plot(years, u95, color='green', label='95% confidence interval (model)')\n",
    "plt.plot(years, l95, color='green')\n",
    "plt.plot(years, q1,color='red', label='Interquartile range (model)')\n",
    "plt.plot(years, q2,color='black', label='Median (model)')\n",
    "plt.plot(years, q3,color='red')\n",
    "plt.legend(loc=\"upper left\")\n",
    "plt.ylim([0, 280])\n",
    "\n",
    "ax.set_xlabel('Year', fontsize = 18)\n",
    "ax.set_ylabel('EG Births in Two Consecutive Years', fontsize = 18)\n",
    "ax.set_title('EG Births in Two Consecutive Years, Quartiles, and 95% Confidence Limits', fontsize = 20)\n",
    "plt.show()\n",
    "plt.close()"
   ]
  },
  {
   "cell_type": "markdown",
   "metadata": {},
   "source": [
    "### Compute quartiles and confidence interval bounds for sums of three consecutive years"
   ]
  },
  {
   "cell_type": "code",
   "execution_count": null,
   "metadata": {},
   "outputs": [],
   "source": [
    "ptuple = compute_percentiles(3,r,p,283,355)"
   ]
  },
  {
   "cell_type": "markdown",
   "metadata": {},
   "source": [
    "### Plot births totals for three consecutive years"
   ]
  },
  {
   "cell_type": "code",
   "execution_count": null,
   "metadata": {},
   "outputs": [],
   "source": [
    "years = np.arange(2006,2021)\n",
    "\n",
    "data1 = births_array[0:len(years),1]\n",
    "data2 = births_array[1:len(years)+1,1]\n",
    "data3 = births_array[2:len(years)+2,1]\n",
    "data=data1+data2+data3\n",
    "    \n",
    "l95 = ptuple[0]*np.ones(len(years))\n",
    "u95 = ptuple[1]*np.ones(len(years))\n",
    "q1  = ptuple[2]*np.ones(len(years))\n",
    "q2  = ptuple[3]*np.ones(len(years))\n",
    "q3  = ptuple[4]*np.ones(len(years))\n",
    "\n",
    "ax = plt.axes([0, 0, 1.78, 1.78])\n",
    "ax.set_xticks(years)\n",
    "ax.set_xticklabels(years, fontsize=14)\n",
    "plt.plot(years, data)\n",
    "plt.plot(years, u95, color='green', label='95% confidence interval (model)')\n",
    "plt.plot(years, l95, color='green')\n",
    "plt.plot(years, q1,color='red', label='Interquartile range (model)')\n",
    "plt.plot(years, q2,color='black', label='Median (model)')\n",
    "plt.plot(years, q3,color='red')\n",
    "plt.legend(loc=\"upper left\")\n",
    "plt.ylim([0, 410])\n",
    "\n",
    "ax.set_ylabel('EG Births in Three Consecutive Years', fontsize = 18)\n",
    "ax.set_xlabel('Year', fontsize = 18)\n",
    "ax.set_title('EG Births in Three Consecutive Years, Quartiles, and 95% Confidence Limits', fontsize = 20)\n",
    "plt.show()\n",
    "plt.close()"
   ]
  },
  {
   "cell_type": "markdown",
   "metadata": {},
   "source": [
    "### Compute four-year quartiles and confidence interval bounds"
   ]
  },
  {
   "cell_type": "code",
   "execution_count": null,
   "metadata": {},
   "outputs": [],
   "source": [
    "ptuple = compute_percentiles(4,r,p,394,474)"
   ]
  },
  {
   "cell_type": "markdown",
   "metadata": {},
   "source": [
    "### Plot births totals for four consecutive years"
   ]
  },
  {
   "cell_type": "code",
   "execution_count": null,
   "metadata": {},
   "outputs": [],
   "source": [
    "years = np.arange(2007,2021)\n",
    "\n",
    "data1 = births_array[0:len(years),1]\n",
    "data2 = births_array[1:len(years)+1,1]\n",
    "data3 = births_array[2:len(years)+2,1]\n",
    "data4 = births_array[3:len(years)+3,1]\n",
    "data=data1+data2+data3+data4\n",
    "    \n",
    "l95 = ptuple[0]*np.ones(len(years))\n",
    "u95 = ptuple[1]*np.ones(len(years))\n",
    "q1  = ptuple[2]*np.ones(len(years))\n",
    "q2  = ptuple[3]*np.ones(len(years))\n",
    "q3  = ptuple[4]*np.ones(len(years))\n",
    "\n",
    "ax = plt.axes([0, 0, 1.78, 1.78])\n",
    "ax.set_xticks(years)\n",
    "ax.set_xticklabels(years)\n",
    "plt.plot(years, data)\n",
    "plt.plot(years, u95, color='green', label='95% confidence interval (model)')\n",
    "plt.plot(years, l95, color='green')\n",
    "plt.plot(years, q1,color='red', label='Interquartile range (model)')\n",
    "plt.plot(years, q2,color='black', label='Median (model)')\n",
    "plt.plot(years, q3,color='red')\n",
    "plt.legend(loc=\"upper left\")\n",
    "plt.ylim([0, 540])\n",
    "\n",
    "ax.set_ylabel('EG Births in Four Consecutive Years', fontsize = 18)\n",
    "ax.set_title('EG Births in Four Consecutive Years, Quartiles, and 95% Confidence Limits', fontsize = 20)\n",
    "plt.show()\n",
    "plt.close()"
   ]
  }
 ],
 "metadata": {
  "kernelspec": {
   "display_name": "Python 3",
   "language": "python",
   "name": "python3"
  },
  "language_info": {
   "codemirror_mode": {
    "name": "ipython",
    "version": 3
   },
   "file_extension": ".py",
   "mimetype": "text/x-python",
   "name": "python",
   "nbconvert_exporter": "python",
   "pygments_lexer": "ipython3",
   "version": "3.8.5"
  }
 },
 "nbformat": 4,
 "nbformat_minor": 2
}

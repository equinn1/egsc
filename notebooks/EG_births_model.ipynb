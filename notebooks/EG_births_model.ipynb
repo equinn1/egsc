{
 "cells": [
  {
   "cell_type": "markdown",
   "metadata": {},
   "source": [
    "# EG_births_model\n",
    "\n",
    "E. Quinn 4/5/2021\n",
    "\n",
    "Probability model for births"
   ]
  },
  {
   "cell_type": "markdown",
   "metadata": {},
   "source": [
    "### Import standard python datascience packages"
   ]
  },
  {
   "cell_type": "code",
   "execution_count": 78,
   "metadata": {},
   "outputs": [],
   "source": [
    "import sys\n",
    "import math\n",
    "import re\n",
    "import copy as cp\n",
    "import numpy as np\n",
    "import scipy as sc\n",
    "import pandas as pd\n",
    "import matplotlib.pyplot as plt\n",
    "#plt.switch_backend('WebAgg')\n",
    "import seaborn as sns\n",
    "import pickle\n",
    "%matplotlib inline"
   ]
  },
  {
   "cell_type": "code",
   "execution_count": 79,
   "metadata": {},
   "outputs": [],
   "source": [
    "from datetime import datetime, timedelta, date\n",
    "from datascience import *\n",
    "import uuid\n",
    "import random"
   ]
  },
  {
   "cell_type": "code",
   "execution_count": 80,
   "metadata": {},
   "outputs": [],
   "source": [
    "from scipy.stats import nbinom\n",
    "import numpy.random as npr"
   ]
  },
  {
   "cell_type": "markdown",
   "metadata": {},
   "source": [
    "### Overview\n",
    "\n",
    "This notebook builds a probability model for EG births using data from the 2020-2021 the NESDEC. \n",
    "\n",
    "It uses birth counts for the 18 years 2004-2020.\n",
    "\n",
    "To summarize the results:\n",
    "\n",
    "* A negative binomial model fits the data well\n",
    "* The model produces single-year confidence intervals that are consistent with the data\n",
    "* The model extends to total births in a multiyear period. These confidence intervals are also consistent with the data. "
   ]
  },
  {
   "cell_type": "markdown",
   "metadata": {},
   "source": [
    "### Implications\n",
    "\n",
    "* The fact that a model that assumes an independent, identical distribution for each year fits the data well is evidence that the birth rate in EG has remained fairly constant over the data period, and it is reasonable to consider the variation we see as purely random fluctuations.\n",
    "\n",
    "* Under this model the expected number of births in a year is 105, and with 90% confidence we expect the number of births to fall within 20 either side of that (the 90% CI being [85,127]).\n",
    "\n",
    "\n"
   ]
  },
  {
   "cell_type": "markdown",
   "metadata": {},
   "source": [
    "### Set path to data files"
   ]
  },
  {
   "cell_type": "code",
   "execution_count": 81,
   "metadata": {},
   "outputs": [
    {
     "name": "stdout",
     "output_type": "stream",
     "text": [
      "/home/gquinn/EG/school_committee/enrollment/notebooks\r\n"
     ]
    }
   ],
   "source": [
    "data_path = '../'\n",
    "!pwd"
   ]
  },
  {
   "cell_type": "markdown",
   "metadata": {},
   "source": [
    "### Get EG Birth Counts\n",
    "\n",
    "* Read births for 2005-2020 from 2020-2021 NESDEC data into an array\n",
    "* Add 98 births for 2004 from Milone and MacBroom 2019 demographic study"
   ]
  },
  {
   "cell_type": "code",
   "execution_count": 82,
   "metadata": {},
   "outputs": [
    {
     "name": "stdout",
     "output_type": "stream",
     "text": [
      "[[2004.   98.]\n",
      " [2005.  102.]\n",
      " [2006.  112.]\n",
      " [2007.   99.]\n",
      " [2008.  107.]\n",
      " [2009.   91.]\n",
      " [2010.   97.]\n",
      " [2011.  116.]\n",
      " [2012.   99.]\n",
      " [2013.  121.]\n",
      " [2014.  119.]\n",
      " [2015.  115.]\n",
      " [2016.  119.]\n",
      " [2017.   81.]\n",
      " [2018.   83.]\n",
      " [2019.  126.]\n",
      " [2020.  105.]]\n"
     ]
    }
   ],
   "source": [
    "ta = np.genfromtxt(data_path+'NESDEC_2020_2021.csv', delimiter=\",\",skip_header=1)\n",
    "births_array = np.empty((17,2))\n",
    "births_array[0:17,0,] = np.arange(2004,2021)\n",
    "births_array[0,1] = 98\n",
    "births_array[1:17,1,] = ta[0:16,2,]\n",
    "print(births_array)"
   ]
  },
  {
   "cell_type": "markdown",
   "metadata": {},
   "source": [
    "### Get mean and variance of counts"
   ]
  },
  {
   "cell_type": "code",
   "execution_count": 83,
   "metadata": {},
   "outputs": [
    {
     "name": "stdout",
     "output_type": "stream",
     "text": [
      "Mean births:  105.29411764705883  births variance:  165.3840830449827\n"
     ]
    }
   ],
   "source": [
    "mu = np.mean(births_array[:,1,])\n",
    "var = np.var(births_array[:,1,])\n",
    "\n",
    "print('Mean births: ',mu,' births variance: ',var)"
   ]
  },
  {
   "cell_type": "markdown",
   "metadata": {},
   "source": [
    "### Determine model and parameters\n",
    "\n",
    "The variance is considerably larger than the mean, indicating *overdispersion*, so a Poisson model will not fit.\n",
    "\n",
    "As and alternative, we consider a __[negative binomial distribution](https://en.wikipedia.org/wiki/Negative_binomial_distribution)__ with probability function:\n",
    "\n",
    "$$P(Y=y) = {y + r -1 \\choose y}(1-p)^{r}p^y,\\quad y=0,1,2,3,...$$\n",
    "\n",
    "We can estimate the parameters $r$ and $p$ using the *method of moments*.  We equate the sample mean and variance to the formulas for the expected value and variance of $y$:\n",
    "\n",
    "$$ \\frac{pr}{1-p} = 105.29 $$\n",
    "\n",
    "$$ \\frac{pr}{(1-p)^2} = 165.38$$\n",
    "\n",
    "and solve the system for $r$ and $p$ to obtain:\n",
    "* $\\hat{p}$ = 0.3633\n",
    "* $\\hat{r}$ = 184.49\n",
    "\n",
    "These are the parameters for a negative binomial random variable with mean $105.29$ and variance $165.38$."
   ]
  },
  {
   "cell_type": "markdown",
   "metadata": {},
   "source": [
    "### Compute method of moments estimates for r and p"
   ]
  },
  {
   "cell_type": "code",
   "execution_count": 84,
   "metadata": {},
   "outputs": [
    {
     "name": "stdout",
     "output_type": "stream",
     "text": [
      "Method of moments estimate for p: 0.3633450235820534\n",
      "Method of moments estimate for r: 184.4896671659178\n"
     ]
    }
   ],
   "source": [
    "p = (165.38 - 105.29)/165.38\n",
    "print('Method of moments estimate for p:',p)\n",
    "r = 105.29*(1-p)/p\n",
    "print('Method of moments estimate for r:',r)"
   ]
  },
  {
   "cell_type": "markdown",
   "metadata": {},
   "source": [
    "### Compute single-year quartiles and confidence interval bounds\n",
    "\n",
    "With 18 observations, we expect 1.8 observations to fall outside a 90% CI.  In the sample, there were two.\n",
    "\n",
    "We expect 0.9 observations to fall outside a 95% CI.  In this sample, one year landed on the lower bound, 81, so these results are in line with expectations."
   ]
  },
  {
   "cell_type": "code",
   "execution_count": 85,
   "metadata": {},
   "outputs": [
    {
     "name": "stdout",
     "output_type": "stream",
     "text": [
      "Single year quantiles - first quartile 96.0 median 105.0 third quartile 114.0\n",
      "\n",
      "90 percent confidence interval 85.0 127.0\n",
      "\n",
      "95 percent confidence interval 81.0 131.0\n",
      "\n",
      "Percentiles of largest and smallest observed values:  largest: 0.02698009384805631  smallest: 0.9459781710220091\n"
     ]
    }
   ],
   "source": [
    "q25 = nbinom.ppf(0.25,r,1-p)               #first quartile\n",
    "q50 = nbinom.ppf(0.5,r,1-p)                #median\n",
    "q75 = nbinom.ppf(0.75,r,1-p)               #third quartile\n",
    "q05 = nbinom.ppf(0.05,r,1-p)               #lower bound - 90% CI           \n",
    "q95 = nbinom.ppf(0.95,r,1-p)               #upper bound - 90% CI                              \n",
    "q025 = nbinom.ppf(0.025,r,1-p)             #lower bound - 95% CI\n",
    "q975 = nbinom.ppf(0.975,r,1-p)             #upper bound - 95% CI\n",
    "plo = nbinom.cdf(81,r,1-p)                 #percentile of smallest observed value\n",
    "phi= nbinom.cdf(126,r,1-p)                 #percentile of largest observed value\n",
    "print('Single year quantiles - first quartile',q25,'median',q50,'third quartile',q75)\n",
    "print()\n",
    "print('90 percent confidence interval',q05,q95)\n",
    "print()\n",
    "print('95 percent confidence interval',q025,q975)\n",
    "print()\n",
    "print('Percentiles of largest and smallest observed values:  largest:',plo,' smallest:',phi)"
   ]
  },
  {
   "cell_type": "markdown",
   "metadata": {},
   "source": [
    "### Derive distribution of multi-year totals\n",
    "\n",
    "If we assume that the births in successive years are independently distributed, we can derive the distribution of the total births in two or more years.\n",
    "\n",
    "With the independence assumption, the moment generating function of the distribution of the sum will be the product of the moment generating functions for the years in the sum.\n",
    "\n",
    "Since this model has no trends, the years have identical distributions for the number of births, and one common moment generating function for a negative binomial random variable with parameters $r$ and $p$ is:\n",
    "\n",
    "$$ M_y(t) = \\left(\\frac{1-p}{1-pe^t}\\right)^r$$\n",
    "\n",
    "For the sum of two years, the moment generating function of the sum is the product:\n",
    "\n",
    "$$ M_{2y}(t) = \\left(\\frac{1-p}{1-pe^t}\\right)^r\\left(\\frac{1-p}{1-pe^t}\\right)^r = \\left(\\frac{1-p}{1-pe^t}\\right)^{2r}$$\n",
    "\n",
    "which we can recognize as the moment generating function of a negative binomial random variable with parameters $2r$ and $p$.\n",
    "\n",
    "We can extend this to sums of more than two years, the result being that the sum of $n$ independent negative binomial random variables with parameters $r$ and $p$ has a negative binomial distribution with parameters $n\\cdot r$ and $p$. "
   ]
  },
  {
   "cell_type": "markdown",
   "metadata": {},
   "source": [
    "### Compute quartiles and confidence interval bounds for sums of two consecutive years\n",
    "\n",
    "The smallest total was outside both the 90% and 95% CIs.  Its p-value was 0.004, or 1 in 250. \n",
    "\n",
    "The largest total was inside both CIs.\n",
    "\n",
    "The smallest value is an outlier."
   ]
  },
  {
   "cell_type": "code",
   "execution_count": 86,
   "metadata": {},
   "outputs": [
    {
     "name": "stdout",
     "output_type": "stream",
     "text": [
      "Two year total quantiles - first quartile 198.0 median 210.0 third quartile 223.0\n",
      "\n",
      "90 percent confidence interval 181.0 241.0\n",
      "\n",
      "95 percent confidence interval 176.0 247.0\n",
      "\n",
      "Percentiles of largest and smallest sums of consecutive years:  largest: 0.9468  smallest: 0.004\n"
     ]
    }
   ],
   "source": [
    "years = 2\n",
    "q25 = nbinom.ppf(0.25,years*r,1-p)               #first quartile\n",
    "q50 = nbinom.ppf(0.5,years*r,1-p)                #median\n",
    "q75 = nbinom.ppf(0.75,years*r,1-p)               #third quartile\n",
    "q05 = nbinom.ppf(0.05,years*r,1-p)               #lower bound - 90% CI           \n",
    "q95 = nbinom.ppf(0.95,years*r,1-p)               #upper bound - 90% CI                              \n",
    "q025 = nbinom.ppf(0.025,years*r,1-p)             #lower bound - 95% CI\n",
    "q975 = nbinom.ppf(0.975,years*r,1-p)             #upper bound - 95% CI\n",
    "plo = round(nbinom.cdf(164,years*r,1-p),4)       #percentile of smallest observed sum\n",
    "phi = round(nbinom.cdf(240,years*r,1-p),4)       #percentile of largest observed sum\n",
    "print('Two year total quantiles - first quartile',q25,'median',q50,'third quartile',q75)\n",
    "print()\n",
    "print('90 percent confidence interval',q05,q95)\n",
    "print()\n",
    "print('95 percent confidence interval',q025,q975)\n",
    "print()\n",
    "print('Percentiles of largest and smallest sums of consecutive years:  largest:',phi,' smallest:',plo)"
   ]
  },
  {
   "cell_type": "markdown",
   "metadata": {},
   "source": [
    "### Compute quartiles and confidence interval bounds for sums of three consecutive years\n",
    "\n",
    "Both the smallest and largest totals are within the CIs.\n",
    "\n",
    "The lowest sum of three consecutive years contains the two-year outlier, but when you add the third year, it falls into the CI.  \n",
    "\n",
    "These results are in line with expectations."
   ]
  },
  {
   "cell_type": "code",
   "execution_count": 87,
   "metadata": {},
   "outputs": [
    {
     "name": "stdout",
     "output_type": "stream",
     "text": [
      "Three year total quantiles - first quartile 301.0 median 316.0 third quartile 331.0\n",
      "\n",
      "90 percent confidence interval 280.0 353.0\n",
      "\n",
      "95 percent confidence interval 273.0 361.0\n",
      "\n",
      "Percentiles of largest and smallest sums of consecutive years:  largest: 0.9597  smallest: 0.0704\n"
     ]
    }
   ],
   "source": [
    "years = 3\n",
    "q25 = nbinom.ppf(0.25,years*r,1-p)               #first quartile\n",
    "q50 = nbinom.ppf(0.5,years*r,1-p)                #median\n",
    "q75 = nbinom.ppf(0.75,years*r,1-p)               #third quartile\n",
    "q05 = nbinom.ppf(0.05,years*r,1-p)               #lower bound - 90% CI           \n",
    "q95 = nbinom.ppf(0.95,years*r,1-p)               #upper bound - 90% CI                              \n",
    "q025 = nbinom.ppf(0.025,years*r,1-p)             #lower bound - 95% CI\n",
    "q975 = nbinom.ppf(0.975,years*r,1-p)             #upper bound - 95% CI\n",
    "plo = round(nbinom.cdf(283,years*r,1-p),4)       #percentile of smallest observed sum\n",
    "phi = round(nbinom.cdf(355,years*r,1-p),4)       #percentile of largest observed sum\n",
    "print('Three year total quantiles - first quartile',q25,'median',q50,'third quartile',q75)\n",
    "print()\n",
    "print('90 percent confidence interval',q05,q95)\n",
    "print()\n",
    "print('95 percent confidence interval',q025,q975)\n",
    "print()\n",
    "print('Percentiles of largest and smallest sums of consecutive years:  largest:',phi,' smallest:',plo)"
   ]
  },
  {
   "cell_type": "markdown",
   "metadata": {},
   "source": [
    "### Compute four-year quartiles and confidence interval bounds\n",
    "\n",
    "The largest and smallest sums of four consecutive years are well within both the 90% and 95% CIs"
   ]
  },
  {
   "cell_type": "code",
   "execution_count": 88,
   "metadata": {},
   "outputs": [
    {
     "name": "stdout",
     "output_type": "stream",
     "text": [
      "Four year total quantiles - first quartile 404.0 median 421.0 third quartile 438.0\n",
      "\n",
      "90 percent confidence interval 379.0 464.0\n",
      "\n",
      "95 percent confidence interval 372.0 473.0\n",
      "\n",
      "Percentiles of largest and smallest sums of consecutive years:  largest: 0.9074  smallest: 0.1497\n"
     ]
    }
   ],
   "source": [
    "years = 4\n",
    "q25 = nbinom.ppf(0.25,years*r,1-p)               #first quartile\n",
    "q50 = nbinom.ppf(0.5,years*r,1-p)                #median\n",
    "q75 = nbinom.ppf(0.75,years*r,1-p)               #third quartile\n",
    "q05 = nbinom.ppf(0.05,years*r,1-p)               #lower bound - 90% CI           \n",
    "q95 = nbinom.ppf(0.95,years*r,1-p)               #upper bound - 90% CI                              \n",
    "q025 = nbinom.ppf(0.025,years*r,1-p)             #lower bound - 95% CI\n",
    "q975 = nbinom.ppf(0.975,years*r,1-p)             #upper bound - 95% CI\n",
    "plo = round(nbinom.cdf(394,years*r,1-p),4)       #percentile of smallest observed sum\n",
    "phi = round(nbinom.cdf(455,years*r,1-p),4)       #percentile of largest observed sum\n",
    "print('Four year total quantiles - first quartile',q25,'median',q50,'third quartile',q75)\n",
    "print()\n",
    "print('90 percent confidence interval',q05,q95)\n",
    "print()\n",
    "print('95 percent confidence interval',q025,q975)\n",
    "print()\n",
    "print('Percentiles of largest and smallest sums of consecutive years:  largest:',phi,' smallest:',plo)"
   ]
  }
 ],
 "metadata": {
  "kernelspec": {
   "display_name": "Python 3",
   "language": "python",
   "name": "python3"
  },
  "language_info": {
   "codemirror_mode": {
    "name": "ipython",
    "version": 3
   },
   "file_extension": ".py",
   "mimetype": "text/x-python",
   "name": "python",
   "nbconvert_exporter": "python",
   "pygments_lexer": "ipython3",
   "version": "3.8.5"
  }
 },
 "nbformat": 4,
 "nbformat_minor": 2
}

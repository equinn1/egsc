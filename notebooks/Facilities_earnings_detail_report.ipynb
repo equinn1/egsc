{
 "cells": [
  {
   "cell_type": "markdown",
   "metadata": {},
   "source": [
    "## Process earnings reports data from saved pickle\n",
    "\n",
    "E. Quinn 12/20/2020"
   ]
  },
  {
   "cell_type": "markdown",
   "metadata": {},
   "source": [
    "## Import standard python datascience packages"
   ]
  },
  {
   "cell_type": "code",
   "execution_count": 1,
   "metadata": {},
   "outputs": [],
   "source": [
    "import sys\n",
    "import math\n",
    "import re\n",
    "import copy\n",
    "import numpy as np\n",
    "import scipy as sc\n",
    "import pandas as pd\n",
    "import matplotlib.pyplot as plt\n",
    "import seaborn as sns\n",
    "import pickle\n",
    "%matplotlib inline"
   ]
  },
  {
   "cell_type": "code",
   "execution_count": 2,
   "metadata": {},
   "outputs": [],
   "source": [
    "from datetime import datetime, timedelta, date\n",
    "from datascience import *\n",
    "import uuid\n",
    "import random"
   ]
  },
  {
   "cell_type": "markdown",
   "metadata": {},
   "source": [
    "### Import custom SC classes"
   ]
  },
  {
   "cell_type": "code",
   "execution_count": 3,
   "metadata": {},
   "outputs": [],
   "source": [
    "sys.path.append(\"/home/gquinn/EG/school_committee/egsc/py_egsc\")"
   ]
  },
  {
   "cell_type": "code",
   "execution_count": 4,
   "metadata": {},
   "outputs": [],
   "source": [
    "from payperiod import Payperiod\n",
    "from ucoa_labels import UCOA_labels\n",
    "from eg_acct_codes import EG_acct_codes\n",
    "from pay_check import Pay_check, Check_lineitem\n",
    "from people import Person, Teacher\n",
    "from scenario import Scenario\n",
    "from salaries import *\n",
    "from roles import Role, Teacher, Para, Sped_Para"
   ]
  },
  {
   "cell_type": "code",
   "execution_count": 5,
   "metadata": {},
   "outputs": [
    {
     "name": "stdout",
     "output_type": "stream",
     "text": [
      "Help on Facilities_rates in module salaries object:\n",
      "\n",
      "class Facilities_rates(builtins.object)\n",
      " |  Methods defined here:\n",
      " |  \n",
      " |  __init__(self)\n",
      " |      Salaries and rates from facilities collective bargaining agreement\n",
      " |  \n",
      " |  get_cba_matrix(self)\n",
      " |      Returns the salary and rate matrix\n",
      " |  \n",
      " |  get_cba_matrix_by_year(self, school_year)\n",
      " |      Returns the cba salary and rate matrix for a given school year\n",
      " |  \n",
      " |  ----------------------------------------------------------------------\n",
      " |  Data descriptors defined here:\n",
      " |  \n",
      " |  __dict__\n",
      " |      dictionary for instance variables (if defined)\n",
      " |  \n",
      " |  __weakref__\n",
      " |      list of weak references to the object (if defined)\n",
      "\n"
     ]
    }
   ],
   "source": [
    "salaries = Teacher_salary()\n",
    "facilities_rates = Facilities_rates()\n",
    "help(facilities_rates)"
   ]
  },
  {
   "cell_type": "markdown",
   "metadata": {},
   "source": [
    "### Show the directory we are running in"
   ]
  },
  {
   "cell_type": "code",
   "execution_count": 6,
   "metadata": {},
   "outputs": [
    {
     "name": "stdout",
     "output_type": "stream",
     "text": [
      "/home/gquinn/EG/school_committee/finance_subcommittee/notebooks\r\n"
     ]
    }
   ],
   "source": [
    "!pwd"
   ]
  },
  {
   "cell_type": "markdown",
   "metadata": {},
   "source": [
    "### Load RIDE UCOA labels "
   ]
  },
  {
   "cell_type": "code",
   "execution_count": 7,
   "metadata": {},
   "outputs": [
    {
     "name": "stdout",
     "output_type": "stream",
     "text": [
      "Help on UCOA_labels in module ucoa_labels object:\n",
      "\n",
      "class UCOA_labels(builtins.object)\n",
      " |  Methods defined here:\n",
      " |  \n",
      " |  __init__(self)\n",
      " |      UCOA_labels class provides labels for UCOA fields\n",
      " |  \n",
      " |  get_label(self, col, code)\n",
      " |      Usage: get_label(col,code) returns the code for field col\n",
      " |  \n",
      " |  get_labels_dictionary(self)\n",
      " |      Returns the UCOA labels dictionary\n",
      " |  \n",
      " |  ----------------------------------------------------------------------\n",
      " |  Data descriptors defined here:\n",
      " |  \n",
      " |  __dict__\n",
      " |      dictionary for instance variables (if defined)\n",
      " |  \n",
      " |  __weakref__\n",
      " |      list of weak references to the object (if defined)\n",
      "\n"
     ]
    }
   ],
   "source": [
    "ucoa_labels = UCOA_labels()\n",
    "    \n",
    "help(ucoa_labels)"
   ]
  },
  {
   "cell_type": "markdown",
   "metadata": {},
   "source": [
    "### EG accounting codes class\n",
    "\n",
    "provides descriptions for EG accounting codes and mapping to UCOA codes"
   ]
  },
  {
   "cell_type": "code",
   "execution_count": 8,
   "metadata": {},
   "outputs": [
    {
     "name": "stdout",
     "output_type": "stream",
     "text": [
      "Help on EG_acct_codes in module eg_acct_codes object:\n",
      "\n",
      "class EG_acct_codes(builtins.object)\n",
      " |  Methods defined here:\n",
      " |  \n",
      " |  __init__(self)\n",
      " |      Initialize self.  See help(type(self)) for accurate signature.\n",
      " |  \n",
      " |  check_eg_acct_desc6(self, acct)\n",
      " |      check whether first 6 digits map an acct6 key\n",
      " |  \n",
      " |  get_UCOA_from_acct(self, acct, ucl)\n",
      " |  \n",
      " |  get_UCOA_from_acct6(self, acct6, ucl)\n",
      " |  \n",
      " |  get_eg_acct_UCOA(self, acct)\n",
      " |      Provides UCOA codes for accounting codes in EG MUNIS system.\n",
      " |  \n",
      " |  get_eg_acct_codes(self)\n",
      " |      Returns dictionary of account codes.\n",
      " |  \n",
      " |  get_eg_acct_desc(self, acct)\n",
      " |      Provides descriptions for accounting codes in EG MUNIS system.\n",
      " |  \n",
      " |  get_eg_acct_desc6(self, acct)\n",
      " |      Provides descriptions for accounting codes in EG MUNIS system.\n",
      " |  \n",
      " |  get_loc_from_acct(self, acct, ucl)\n",
      " |  \n",
      " |  ----------------------------------------------------------------------\n",
      " |  Data descriptors defined here:\n",
      " |  \n",
      " |  __dict__\n",
      " |      dictionary for instance variables (if defined)\n",
      " |  \n",
      " |  __weakref__\n",
      " |      list of weak references to the object (if defined)\n",
      "\n"
     ]
    }
   ],
   "source": [
    "eg_acct_codes = EG_acct_codes()\n",
    "    \n",
    "help(eg_acct_codes)"
   ]
  },
  {
   "cell_type": "markdown",
   "metadata": {},
   "source": [
    "### Load serialized people object produced from earnings report"
   ]
  },
  {
   "cell_type": "code",
   "execution_count": 9,
   "metadata": {},
   "outputs": [
    {
     "data": {
      "text/plain": [
       "898"
      ]
     },
     "execution_count": 9,
     "metadata": {},
     "output_type": "execute_result"
    }
   ],
   "source": [
    "#Load data (deserialize)\n",
    "with open('../../finance_subcommittee/people_12_27_2020.pkl', 'rb') as handle:\n",
    "    people = pickle.load(handle)\n",
    "    \n",
    "len(people)"
   ]
  },
  {
   "cell_type": "code",
   "execution_count": 10,
   "metadata": {},
   "outputs": [],
   "source": [
    "file1 = open('../facilities_earnings_detail_12_27_2020.csv','w')\n",
    "\n",
    "hstr = '\"Name\",\"Role\",\"School Year\",\"Fiscal Year\",\"Payperiod Number\",' + \\\n",
    "    '\"Check Date\",\"Check Number\",\"Payment Type\",\"Fund\",\"Acct\",\"Acct Desc\",\"Obj\",' +\\\n",
    "    '\"Obj Desc\",\"Rate\",\"Earnings\",\"Job\",\"O/T\",\"Earnings\",\"Rate\",\"Hours\"\\n'\n",
    "file1.write(hstr)\n",
    "\n",
    "for name in people.keys():\n",
    "    hstr = '\"' + name + '\",'\n",
    "    roles = people[name].get_roles()\n",
    "    for role in roles.keys():\n",
    "        if (str(type(roles[role])) == \"<class 'roles.Facilities'>\"):\n",
    "            hstr2 =  hstr + '\"' + role + '\",\"'\n",
    "            pp = roles[role].get_payperiods()\n",
    "            for syr in pp.keys():\n",
    "                hstr3 = hstr2 + syr + '\",'\n",
    "                for pseq in pp[syr].keys():\n",
    "                    fyear = pp[syr][pseq].get_fiscal_year()\n",
    "                    hstr4 = hstr3 + str(fyear) + ',' + str(pseq) + ','\n",
    "                    paychecks = pp[syr][pseq].get_checks()\n",
    "                    for ckey in paychecks.keys():\n",
    "                        check_date = paychecks[ckey].get_date()\n",
    "                        check_number= paychecks[ckey].get_number()\n",
    "                        hstr5 = hstr4 + str(check_date) + ',' + str(check_number)\n",
    "                        itms = paychecks[ckey].get_items()\n",
    "                        for itmkey in itms.keys():\n",
    "                            fund = itms[itmkey].get_fund()\n",
    "                            acct = itms[itmkey].get_acct()\n",
    "                            obj  = itms[itmkey].get_obj()\n",
    "                            rate = itms[itmkey].get_rate()\n",
    "                            accdesc = itms[itmkey].get_acct_desc()\n",
    "                            objdesc = itms[itmkey].get_obj_desc()\n",
    "                            earnings = itms[itmkey].get_earnings()\n",
    "                            payment_type = itms[itmkey].get_payment_type()\n",
    "                            stepinfo = itms[itmkey].get_stepinfo()\n",
    "                            hstr6 = hstr5 + ',' + str(payment_type) + ',' + fund + ',' + \\\n",
    "                                acct + ',' + accdesc + ',' + obj + ',' + objdesc + ',' + \\\n",
    "                                str(rate) + ',' + str(earnings)\n",
    "                            hstr7 = hstr6\n",
    "                            if (stepinfo is not None): \n",
    "                                if(len(stepinfo) > 1):\n",
    "                                    job = stepinfo['job']\n",
    "                                    overtime = stepinfo['overtime']\n",
    "                                    si_earnings = stepinfo['earnings']\n",
    "                                    si_rate = stepinfo['rate']\n",
    "                                    hours = stepinfo['hours']\n",
    "                                    hstr7 = hstr6 + ',' + job + ',' + str(overtime) + ',' + \\\n",
    "                                        str(si_earnings) + ',' + str(si_rate) + ',' + \\\n",
    "                                    str(hours)\n",
    "                            hstr7 = hstr7 + '\\n'\n",
    "                            file1.write(hstr7)\n",
    "file1.close()"
   ]
  }
 ],
 "metadata": {
  "kernelspec": {
   "display_name": "Python 3",
   "language": "python",
   "name": "python3"
  },
  "language_info": {
   "codemirror_mode": {
    "name": "ipython",
    "version": 3
   },
   "file_extension": ".py",
   "mimetype": "text/x-python",
   "name": "python",
   "nbconvert_exporter": "python",
   "pygments_lexer": "ipython3",
   "version": "3.8.5"
  }
 },
 "nbformat": 4,
 "nbformat_minor": 4
}

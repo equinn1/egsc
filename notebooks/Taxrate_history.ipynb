{
 "cells": [
  {
   "cell_type": "markdown",
   "metadata": {},
   "source": [
    "# Joint meeting graphics\n",
    "\n"
   ]
  },
  {
   "cell_type": "markdown",
   "metadata": {},
   "source": [
    "### Import standard python datascience packages"
   ]
  },
  {
   "cell_type": "code",
   "execution_count": null,
   "metadata": {},
   "outputs": [],
   "source": [
    "import sys\n",
    "import math\n",
    "import re\n",
    "import copy as cp\n",
    "import numpy as np\n",
    "import scipy as sc\n",
    "import pandas as pd\n",
    "import matplotlib.pyplot as plt\n",
    "import matplotlib.patches as mpatches\n",
    "import seaborn as sns\n",
    "import pickle\n",
    "%matplotlib inline"
   ]
  },
  {
   "cell_type": "code",
   "execution_count": null,
   "metadata": {},
   "outputs": [],
   "source": [
    "from datetime import datetime, timedelta, date\n",
    "from datascience import *\n",
    "import uuid\n",
    "import random"
   ]
  },
  {
   "cell_type": "code",
   "execution_count": null,
   "metadata": {},
   "outputs": [],
   "source": [
    "from scipy.stats import nbinom\n",
    "import numpy.random as npr"
   ]
  },
  {
   "cell_type": "code",
   "execution_count": null,
   "metadata": {},
   "outputs": [],
   "source": [
    "!pwd"
   ]
  },
  {
   "cell_type": "code",
   "execution_count": null,
   "metadata": {},
   "outputs": [],
   "source": [
    "colors = ['c','cadetblue','teal','darkcyan','deepskyblue','dodgerblue','steelblue','cornflowerblue']"
   ]
  },
  {
   "cell_type": "code",
   "execution_count": null,
   "metadata": {},
   "outputs": [],
   "source": [
    "patches = [mpatches.Patch(color=colors[0], label='2000 cycle'),\n",
    "            mpatches.Patch(color=colors[1], label='2003 cycle'),\n",
    "            mpatches.Patch(color=colors[2], label='2006 cycle'),\n",
    "            mpatches.Patch(color=colors[3], label='2009 cycle'),\n",
    "            mpatches.Patch(color=colors[4], label='2012 cycle'),\n",
    "            mpatches.Patch(color=colors[5], label='2015 cycle'),\n",
    "            mpatches.Patch(color=colors[6], label='2018 cycle'),\n",
    "            mpatches.Patch(color=colors[7], label='2021 cycle')]\n",
    "plt.legend(handles=patches)"
   ]
  },
  {
   "cell_type": "code",
   "execution_count": null,
   "metadata": {},
   "outputs": [],
   "source": [
    "taxrates = pd.read_csv('../historical_tax_rates.csv',dtype={'FD': np.int32,\\\n",
    "    'RC': np.int32, 'Year': np.int32},index_col='Year').sort_values('Year', ascending = True)\n",
    "taxrates"
   ]
  },
  {
   "cell_type": "code",
   "execution_count": null,
   "metadata": {},
   "outputs": [],
   "source": [
    "taxrates_adj = pd.read_csv('../historical_tax_rates_adjusted.csv',dtype={'FD': np.int32,\\\n",
    "    'RC': np.int32, 'Year': np.int32},index_col='Year').sort_values('Year', ascending = True)\n",
    "taxrates_adj"
   ]
  },
  {
   "cell_type": "code",
   "execution_count": null,
   "metadata": {},
   "outputs": [],
   "source": [
    "longterm = pd.read_csv('../Town_and_Fire_District_tax_rates.csv',dtype={'Fiscal Year': np.int32,\\\n",
    "    'Tax Year': np.int32},index_col='Fiscal Year').sort_values('Fiscal Year', ascending = True)\n",
    "longterm"
   ]
  },
  {
   "cell_type": "markdown",
   "metadata": {},
   "source": [
    "### 2011-2016 vanilla bar graph"
   ]
  },
  {
   "cell_type": "code",
   "execution_count": null,
   "metadata": {},
   "outputs": [],
   "source": [
    "years = np.arange(2011,2017)\n",
    "t2 = taxrates.query('index in @years')\n",
    "cols = []\n",
    "pchs = []\n",
    "pcix = []\n",
    "for i in t2['RC'].values:\n",
    "    cols = np.append(cols,colors[i-1])\n",
    "    pcix.append(i)\n",
    "pcix = set(pcix)\n",
    "for i in pcix:\n",
    "    pchs.append(patches[i-1])\n",
    "f, ax = plt.subplots(figsize = (12,8))\n",
    "p = plt.bar(range(len(t2['EG'].values)),t2['EG'].values,width=0.4,color=cols)\n",
    "ax.set_ylim(17, 24.5) \n",
    "f.suptitle('Residential Property Tax Rate', fontsize=21)\n",
    "ax.set_title(\"(Period with Alleged 51% Tax Bill Increase)\",fontsize = 18)\n",
    "ax.set_ylabel( \"Tax Rate\",fontsize=18)\n",
    "ax.set_xlabel( \"Fiscal Year\",fontsize=18)\n",
    "plt.xticks(np.arange(t2.shape[0]))\n",
    "ax.set_xticklabels(t2.index.values, rotation=0,fontsize=13 )\n",
    "f.set_facecolor('#FFFFFF')\n",
    "plt.yticks(fontsize=13)\n",
    "plt.legend(handles=pchs,loc=1, bbox_to_anchor=(1.12,0.1))\n",
    "plt.savefig('../images/joint_meeting_figure1.png')"
   ]
  },
  {
   "cell_type": "code",
   "execution_count": null,
   "metadata": {},
   "outputs": [],
   "source": [
    "dir(f)"
   ]
  },
  {
   "cell_type": "code",
   "execution_count": null,
   "metadata": {},
   "outputs": [],
   "source": [
    "years = np.arange(2011,2017)\n",
    "t2 = taxrates_adj.query('index in @years')\n",
    "cols = []\n",
    "pchs = []\n",
    "pcix = []\n",
    "for i in t2['RC'].values:\n",
    "    cols = np.append(cols,colors[i-1])\n",
    "    pcix.append(i)\n",
    "pcix = set(pcix)\n",
    "for i in pcix:\n",
    "    pchs.append(patches[i-1])\n",
    "f, ax = plt.subplots(figsize = (12,8))\n",
    "f.set_facecolor('#FFFFFF')\n",
    "p = plt.bar(range(len(t2['EG'].values)),t2['EG'].values,width=0.4,color=cols)\n",
    "ax.set_ylim(17, 24.5) \n",
    "f.suptitle('Residential Property Tax Rate', fontsize=21)\n",
    "ax.set_title(\"(Period with Alleged 51% Tax Bill Increase - Including Fire District in 2012)\",fontsize = 18)\n",
    "ax.set_ylabel( \"Tax Rate\",fontsize=18)\n",
    "ax.set_xlabel( \"Fiscal Year\",fontsize=18)\n",
    "plt.xticks(np.arange(t2.shape[0]))\n",
    "ax.set_xticklabels(t2.index.values, rotation=0,fontsize=13 )\n",
    "plt.yticks(fontsize=13)\n",
    "plt.legend(handles=pchs,loc=1, bbox_to_anchor=(1.12,0.1))\n",
    "plt.savefig('../images/joint_meeting_figure2.png')"
   ]
  },
  {
   "cell_type": "markdown",
   "metadata": {},
   "source": [
    "### 2011-2016 bar graph with scale starting at zero"
   ]
  },
  {
   "cell_type": "code",
   "execution_count": null,
   "metadata": {},
   "outputs": [],
   "source": [
    "years = np.arange(2011,2017)\n",
    "#t2 = taxrates.query('index in @years')\n",
    "t2 = taxrates_adj.query('index in @years')\n",
    "cols = []\n",
    "pchs = []\n",
    "pcix = []\n",
    "for i in t2['RC'].values:\n",
    "    cols = np.append(cols,colors[i-1])\n",
    "    pcix.append(i)\n",
    "pcix = set(pcix)\n",
    "for i in pcix:\n",
    "    pchs.append(patches[i-1])\n",
    "f, ax = plt.subplots(figsize = (12,8))\n",
    "f.set_facecolor('#FFFFFF')\n",
    "p = plt.bar(range(len(t2['EG'].values)),t2['EG'].values,width=0.4,color=cols)\n",
    "ax.set_ylim(0, 24.5) \n",
    "f.suptitle('Residential Property Tax Rate', fontsize=21)\n",
    "ax.set_title(\"(Period with Alleged 51% Tax Bill Increase - Full Scale)\",fontsize = 18)\n",
    "ax.set_ylabel( \"Tax Rate\",fontsize=18)\n",
    "ax.set_xlabel( \"Fiscal Year\",fontsize=18)\n",
    "ax.set_xticklabels(np.append(0,t2.index.values), rotation=0,fontsize=13 )\n",
    "ylabels = np.arange(0,25,2)\n",
    "plt.yticks(fontsize=13)\n",
    "plt.legend(handles=pchs,loc=1, bbox_to_anchor=(1.12,0.1))\n",
    "plt.savefig('../images/joint_meeting_figure3.png')\n",
    "plt.ylim([0, 25])\n",
    "plt.show()\n"
   ]
  },
  {
   "cell_type": "markdown",
   "metadata": {},
   "source": [
    "### Graph including 2004-2005 real estate boom"
   ]
  },
  {
   "cell_type": "code",
   "execution_count": null,
   "metadata": {},
   "outputs": [],
   "source": [
    "years = np.arange(2000,2017)\n",
    "#t2 = taxrates.query('index in @years')\n",
    "t2 = taxrates_adj.query('index in @years')\n",
    "\n",
    "cols = []\n",
    "pchs = []\n",
    "pcix = []\n",
    "for i in t2['RC'].values:\n",
    "    cols = np.append(cols,colors[i-1])\n",
    "    pcix.append(i)\n",
    "pcix = set(pcix)\n",
    "for i in pcix:\n",
    "    pchs.append(patches[i-1])\n",
    "\n",
    "f, ax = plt.subplots(figsize = (12,8))\n",
    "f.set_facecolor('#FFFFFF')\n",
    "p = plt.bar(range(len(t2['EG'].values)),t2['EG'].values,width=0.5,color=cols)\n",
    "ax.set_ylim(0, 28.5) \n",
    "f.suptitle('Residential Property Tax Rate', fontsize=20)\n",
    "ax.set_title(\"(Period Including 2004-2006 Real Estate Boom)\",fontsize = 16)\n",
    "ax.set_ylabel( \"Tax Rate\",fontsize=16)\n",
    "ax.set_xlabel( \"Fiscal Year\",fontsize=16)\n",
    "ax.set_xticks(np.arange(t2.shape[0]))\n",
    "ax.set_xticklabels(t2.index.values, rotation=0,fontsize=11 )\n",
    "ylabels = np.arange(0,28,2)\n",
    "plt.yticks(fontsize=13)\n",
    "plt.legend(handles=pchs,loc=1, bbox_to_anchor=(1.12,0.2))\n",
    "plt.savefig('../images/joint_meeting_figure4.png')\n",
    "plt.show()\n"
   ]
  },
  {
   "cell_type": "markdown",
   "metadata": {},
   "source": [
    "### Graph including FY2017 tax rate cut"
   ]
  },
  {
   "cell_type": "code",
   "execution_count": null,
   "metadata": {},
   "outputs": [],
   "source": [
    "years = np.arange(2000,2018)\n",
    "#t2 = taxrates.query('index in @years')\n",
    "t2 = taxrates_adj.query('index in @years')\n",
    "cols = []\n",
    "pchs = []\n",
    "pcix = []\n",
    "for i in t2['RC'].values:\n",
    "    cols = np.append(cols,colors[i-1])\n",
    "    pcix.append(i)\n",
    "pcix = set(pcix)\n",
    "for i in pcix:\n",
    "    pchs.append(patches[i-1])\n",
    "f, ax = plt.subplots(figsize = (12,8))\n",
    "f.set_facecolor('#FFFFFF')\n",
    "p = plt.bar(range(len(t2['EG'].values)),t2['EG'].values,width=0.5,color=cols)\n",
    "ax.set_ylim(0, 28.5) \n",
    "f.suptitle('FY2017: Tax Rate Cut from \\$24.06 to \\$23.66', fontsize=20)\n",
    "ax.set_title(\"School Appropriation Increased by 2.26% for 2016-2017 School Year (\\$729k fund balance)\",fontsize = 16)\n",
    "ax.set_ylabel( \"Tax Rate\",fontsize=16)\n",
    "ax.set_xlabel( \"Fiscal Year\",fontsize=16)\n",
    "ax.set_xticks(np.arange(t2.shape[0]))\n",
    "ax.set_xticklabels(t2.index.values, rotation=0,fontsize=11 )\n",
    "ylabels = np.arange(0,28,2)\n",
    "plt.yticks(fontsize=13)\n",
    "plt.legend(handles=pchs,loc=1, bbox_to_anchor=(1.12,0.2))\n",
    "plt.savefig('../images/joint_meeting_figure5.png')\n",
    "plt.show()\n"
   ]
  },
  {
   "cell_type": "markdown",
   "metadata": {},
   "source": [
    "### Graph including FY2018"
   ]
  },
  {
   "cell_type": "code",
   "execution_count": null,
   "metadata": {},
   "outputs": [],
   "source": [
    "years = np.arange(2000,2019)\n",
    "#t2 = taxrates.query('index in @years')\n",
    "t2 = taxrates_adj.query('index in @years')\n",
    "cols = []\n",
    "pchs = []\n",
    "pcix = []\n",
    "for i in t2['RC'].values:\n",
    "    cols = np.append(cols,colors[i-1])\n",
    "    pcix.append(i)\n",
    "pcix = set(pcix)\n",
    "for i in pcix:\n",
    "    pchs.append(patches[i-1])\n",
    "f, ax = plt.subplots(figsize = (12,8))\n",
    "f.set_facecolor('#FFFFFF')\n",
    "p = plt.bar(range(len(t2['EG'].values)),t2['EG'].values,width=0.5,color=cols)\n",
    "ax.set_ylim(0, 28.5) \n",
    "f.suptitle('FY2018: Revaluation Year - New Tax Rate \\$23.00', fontsize=20)\n",
    "ax.set_title(\"Schools Level Funded for 2017-2018 School Year\",fontsize = 16)\n",
    "ax.set_ylabel( \"Tax Rate\",fontsize=16)\n",
    "ax.set_xlabel( \"Fiscal Year\",fontsize=16)\n",
    "ax.set_xticks(np.arange(t2.shape[0]))\n",
    "ax.set_xticklabels(t2.index.values, rotation=0,fontsize=11 )\n",
    "ylabels = np.arange(0,28,2)\n",
    "plt.yticks(fontsize=13)\n",
    "plt.legend(handles=pchs,loc=1, bbox_to_anchor=(1.12,0.2))\n",
    "plt.savefig('../images/joint_meeting_figure6.png')\n",
    "plt.show()"
   ]
  },
  {
   "cell_type": "markdown",
   "metadata": {},
   "source": [
    "### Graph including FY2019"
   ]
  },
  {
   "cell_type": "code",
   "execution_count": null,
   "metadata": {
    "scrolled": false
   },
   "outputs": [],
   "source": [
    "years = np.arange(2000,2020)\n",
    "#t2 = taxrates.query('index in @years')\n",
    "t2 = taxrates_adj.query('index in @years')\n",
    "cols = []\n",
    "pchs = []\n",
    "pcix = []\n",
    "for i in t2['RC'].values:\n",
    "    cols = np.append(cols,colors[i-1])\n",
    "    pcix.append(i)\n",
    "pcix = set(pcix)\n",
    "for i in pcix:\n",
    "    pchs.append(patches[i-1])\n",
    "f, ax = plt.subplots(figsize = (12,8))\n",
    "f.set_facecolor('#FFFFFF')\n",
    "p = plt.bar(range(len(t2['EG'].values)),t2['EG'].values,width=0.5,color=cols)\n",
    "ax.set_ylim(0, 28.5) \n",
    "f.suptitle('FY2019: Residential Tax Rate Raised from \\$23.00 to \\$23.21', fontsize=20)\n",
    "ax.set_title(\"School Appropriation Increased 3.89% for 2018-2019 School Year\",fontsize = 16)\n",
    "ax.set_ylabel( \"Tax Rate\",fontsize=16)\n",
    "ax.set_xlabel( \"Fiscal Year\",fontsize=16)\n",
    "ax.set_xticks(np.arange(t2.shape[0]))\n",
    "ax.set_xticklabels(t2.index.values, rotation=0,fontsize=11 )\n",
    "ylabels = np.arange(0,28,2)\n",
    "plt.yticks(fontsize=13)\n",
    "plt.legend(handles=pchs,loc=1, bbox_to_anchor=(1.12,0.2))\n",
    "plt.savefig('../images/joint_meeting_figure7.png')\n",
    "plt.show()"
   ]
  },
  {
   "cell_type": "markdown",
   "metadata": {},
   "source": [
    "### Graph to date with proposed FY2022 rates"
   ]
  },
  {
   "cell_type": "code",
   "execution_count": null,
   "metadata": {
    "scrolled": false
   },
   "outputs": [],
   "source": [
    "years = np.arange(2000,2022)\n",
    "#t2 = taxrates.query('index in @years')\n",
    "t2 = taxrates_adj.query('index in @years')\n",
    "cols = []\n",
    "pchs = []\n",
    "pcix = []\n",
    "for i in t2['RC'].values:\n",
    "    cols = np.append(cols,colors[i-1])\n",
    "    pcix.append(i)\n",
    "pcix = set(pcix)\n",
    "for i in pcix:\n",
    "    pchs.append(patches[i-1])\n",
    "f, ax = plt.subplots(figsize = (14,8))\n",
    "f.set_facecolor('#FFFFFF')\n",
    "p = plt.bar(range(len(t2['EG'].values)),t2['EG'].values,width=0.5,color=cols)\n",
    "ax.set_ylim(0, 28.5) \n",
    "f.suptitle('FY2022: Revaluation Year - Proposed Residential Rates \\$21.01 or \\$21.15', fontsize=20)\n",
    "ax.set_title(\"Two bars for 2021 are Superintendents and Town Managers Rates\",fontsize = 16)\n",
    "ax.set_ylabel( \"Tax Rate\",fontsize=16)\n",
    "ax.set_xlabel( \"Fiscal Year\",fontsize=16)\n",
    "ax.set_xticks(np.arange(t2.shape[0]))\n",
    "ax.set_xticklabels(t2.index.values, rotation=0,fontsize=11 )\n",
    "ylabels = np.arange(0,28,2)\n",
    "plt.yticks(fontsize=13)\n",
    "plt.legend(handles=pchs,loc=1, bbox_to_anchor=(1.12,0.2))\n",
    "plt.savefig('../images/joint_meeting_figure8.png')\n",
    "plt.show()"
   ]
  },
  {
   "cell_type": "code",
   "execution_count": null,
   "metadata": {},
   "outputs": [],
   "source": [
    "years = np.arange(1941,2023)\n",
    "t2 = longterm.query('index in @years')\n",
    "\n",
    "f, ax = plt.subplots(figsize = (16,8))\n",
    "f.set_facecolor('#FFFFFF')\n",
    "p = plt.bar(range(len(t2[' Town Tax Rate '].values)),t2[' Town Tax Rate '].values,width=0.6,color='dodgerblue')\n",
    "ax.set_ylim(0, 55) \n",
    "f.suptitle('Long Term Residential Property Tax Rates', fontsize=21)\n",
    "ax.set_title(\"(1941-2022)\",fontsize = 18)\n",
    "ax.set_ylabel( \"Tax Rate\",fontsize=18)\n",
    "ax.set_xlabel( \"Fiscal Year\",fontsize=18)\n",
    "plt.xticks(np.arange(t2.shape[0]))\n",
    "ax.set_xticklabels(t2.index.values, rotation=270,fontsize=11 )\n",
    "plt.yticks(fontsize=13)\n",
    "plt.savefig('../images/joint_meeting_figure9.png')"
   ]
  }
 ],
 "metadata": {
  "kernelspec": {
   "display_name": "Python 3",
   "language": "python",
   "name": "python3"
  },
  "language_info": {
   "codemirror_mode": {
    "name": "ipython",
    "version": 3
   },
   "file_extension": ".py",
   "mimetype": "text/x-python",
   "name": "python",
   "nbconvert_exporter": "python",
   "pygments_lexer": "ipython3",
   "version": "3.8.5"
  }
 },
 "nbformat": 4,
 "nbformat_minor": 2
}

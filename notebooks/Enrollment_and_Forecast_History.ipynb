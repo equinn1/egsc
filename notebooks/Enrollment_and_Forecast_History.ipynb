{
 "cells": [
  {
   "cell_type": "markdown",
   "metadata": {},
   "source": [
    "# Enrollment_and_Forecast_History\n",
    "\n",
    "E. Quinn 4/29/2021\n",
    "\n",
    "Enrollment data and projections from various sources"
   ]
  },
  {
   "cell_type": "markdown",
   "metadata": {},
   "source": [
    "### Import standard python datascience packages"
   ]
  },
  {
   "cell_type": "code",
   "execution_count": null,
   "metadata": {},
   "outputs": [],
   "source": [
    "import sys\n",
    "import math\n",
    "import re\n",
    "import copy as cp\n",
    "import numpy as np\n",
    "import scipy as sc\n",
    "import pandas as pd\n",
    "import matplotlib.pyplot as plt\n",
    "#plt.switch_backend('WebAgg')\n",
    "import seaborn as sns\n",
    "import pickle\n",
    "%matplotlib inline"
   ]
  },
  {
   "cell_type": "code",
   "execution_count": null,
   "metadata": {},
   "outputs": [],
   "source": [
    "from datetime import datetime, timedelta, date\n",
    "from datascience import *\n",
    "import uuid\n",
    "import random"
   ]
  },
  {
   "cell_type": "code",
   "execution_count": null,
   "metadata": {},
   "outputs": [],
   "source": [
    "from scipy.stats import nbinom\n",
    "from scipy.stats import poisson\n",
    "from scipy.stats import binom\n",
    "from scipy.stats import betabinom\n",
    "import numpy.random as npr"
   ]
  },
  {
   "cell_type": "markdown",
   "metadata": {},
   "source": [
    "### Set path to data files"
   ]
  },
  {
   "cell_type": "code",
   "execution_count": null,
   "metadata": {},
   "outputs": [],
   "source": [
    "data_path = '../'\n",
    "!pwd"
   ]
  },
  {
   "cell_type": "markdown",
   "metadata": {},
   "source": [
    "### Define enrollment dictionary"
   ]
  },
  {
   "cell_type": "code",
   "execution_count": null,
   "metadata": {},
   "outputs": [],
   "source": [
    "edict = {}\n",
    "\n",
    "for year in np.arange(1990,2050):\n",
    "    edict[year] = {}\n",
    "    edict[year]['school_year'] = str(year) + '-' + str(year+1)\n",
    "    edict[year]['grades'] = {}\n",
    "    \n",
    "#edict"
   ]
  },
  {
   "cell_type": "markdown",
   "metadata": {},
   "source": [
    "### SBS Births data 1990-2005"
   ]
  },
  {
   "cell_type": "code",
   "execution_count": null,
   "metadata": {},
   "outputs": [],
   "source": [
    "sbsb = pd.read_table('../SBS_2006_Demographics.csv',sep=',')\n",
    "sbsbd = sbsb.to_dict()\n",
    "\n",
    "for i in sbsbd['Year'].keys():\n",
    "    year = sbsbd['Year'][i]\n",
    "    births = sbsbd['Births'][i]\n",
    "    if 'Birth' not in edict[year]['grades'].keys():\n",
    "        edict[year]['grades']['Birth'] = {}\n",
    "    if 'actual' not in edict[year]['grades']['Birth'].keys():\n",
    "        edict[year]['grades']['Birth']['actual'] = {}\n",
    "    edict[year]['grades']['Birth']['actual']['SBS'] = births     "
   ]
  },
  {
   "cell_type": "markdown",
   "metadata": {},
   "source": [
    "### SBS  Total Enrollment Forecasts"
   ]
  },
  {
   "cell_type": "code",
   "execution_count": null,
   "metadata": {},
   "outputs": [],
   "source": [
    "sbst = pd.read_table('../SBS_2006_Forecasts.csv',sep=',')\n",
    "sbstd = sbst.to_dict()\n",
    "        \n",
    "for i in sbstd['Syear'].keys():\n",
    "    year = int(sbstd['Syear'][i][:4])\n",
    "    count = sbstd['Total'][i]\n",
    "    Type = sbstd['Type'][i]\n",
    "    if 'Total_enrollment' not in edict[year].keys():\n",
    "        edict[year]['Total_enrollment'] = {}\n",
    "    if Type not in edict[year]['Total_enrollment'].keys():\n",
    "        edict[year]['Total_enrollment'][Type] = {}\n",
    "    edict[year]['Total_enrollment'][Type]['SBS'] = count"
   ]
  },
  {
   "cell_type": "markdown",
   "metadata": {},
   "source": [
    "### NESDEC 2020-2021"
   ]
  },
  {
   "cell_type": "code",
   "execution_count": null,
   "metadata": {
    "scrolled": true
   },
   "outputs": [],
   "source": [
    "nesd2021 = pd.read_table('../NESDEC_2020_2021.csv',sep=',')\n",
    "nesd2021d = nesd2021.to_dict()\n",
    "\n",
    "for i in nesd2021d['Byear'].keys():\n",
    "    year = nesd2021d['Byear'][i]\n",
    "    births = nesd2021d['Births'][i]\n",
    "    if 'Birth' not in edict[year]['grades'].keys():\n",
    "        edict[year]['grades']['Birth'] = {}\n",
    "    if (year <= 2019):\n",
    "        if 'actual' not in edict[year]['grades']['Birth'].keys():\n",
    "            edict[year]['grades']['Birth']['actual'] = {}\n",
    "        edict[year]['grades']['Birth']['actual']['NESD2021'] = births\n",
    "    else:\n",
    "        if 'forecast' not in edict[year]['grades']['Birth'].keys():\n",
    "            edict[year]['grades']['Birth']['forecast'] = {}\n",
    "        edict[year]['grades']['Birth']['forecast']['NESD2021'] = births\n",
    "        \n",
    "for i in nesd2021d['Year'].keys():\n",
    "    year = nesd2021d['Year'][i]\n",
    "    for grade in nesd2021d.keys():\n",
    "        if grade not in ['Year','Byear','Births']:\n",
    "            count = nesd2021d[grade][i]\n",
    "            if grade not in edict[year]['grades'].keys():\n",
    "                edict[year]['grades'][grade] = {}\n",
    "            if (year <= 2020):\n",
    "                if  'actual' not in edict[year]['grades'][grade].keys():\n",
    "                    edict[year]['grades'][grade]['actual'] = {}\n",
    "                edict[year]['grades'][grade]['actual']['NESD2021'] = count\n",
    "            else:\n",
    "                if  'forecast' not in edict[year]['grades'][grade].keys():\n",
    "                    edict[year]['grades'][grade]['forecast'] = {}\n",
    "                edict[year]['grades'][grade]['forecast']['NESD2021'] = count"
   ]
  },
  {
   "cell_type": "markdown",
   "metadata": {},
   "source": [
    "### NESDEC 2018-2019"
   ]
  },
  {
   "cell_type": "code",
   "execution_count": null,
   "metadata": {},
   "outputs": [],
   "source": [
    "nesd1819 = pd.read_table('../NESDEC_2018_2019.csv',sep=',')\n",
    "nesd1819d = nesd1819.to_dict()\n",
    "\n",
    "actual_births_through = 2016\n",
    "actual_enrollment_through = 2018\n",
    "\n",
    "for i in nesd1819d['Byear'].keys():\n",
    "    year = nesd1819d['Byear'][i]\n",
    "    births = nesd1819d['Births'][i]\n",
    "    if 'Birth' not in edict[year]['grades'].keys():\n",
    "        edict[year]['grades']['Birth'] = {}\n",
    "    if (year <= actual_births_through):\n",
    "        if 'actual' not in edict[year]['grades']['Birth'].keys():\n",
    "            edict[year]['grades']['Birth']['actual'] = {}\n",
    "        edict[year]['grades']['Birth']['actual']['NESD1819'] = births\n",
    "    else:\n",
    "        if 'forecast' not in edict[year]['grades']['Birth'].keys():\n",
    "            edict[year]['grades']['Birth']['forecast'] = {}\n",
    "        edict[year]['grades']['Birth']['forecast']['NESD1819'] = births\n",
    "        \n",
    "for i in nesd1819d['Year'].keys():\n",
    "    year = nesd1819d['Year'][i]\n",
    "    for grade in nesd1819d.keys():\n",
    "        if grade not in ['Year','Byear','Births']:\n",
    "            count = nesd1819d[grade][i]\n",
    "            if grade not in edict[year]['grades'].keys():\n",
    "                edict[year]['grades'][grade] = {}\n",
    "            if (year <= actual_enrollment_through):\n",
    "                if  'actual' not in edict[year]['grades'][grade].keys():\n",
    "                    edict[year]['grades'][grade]['actual'] = {}\n",
    "                edict[year]['grades'][grade]['actual']['NESD1819'] = count\n",
    "            else:\n",
    "                if  'forecast' not in edict[year]['grades'][grade].keys():\n",
    "                    edict[year]['grades'][grade]['forecast'] = {}\n",
    "                edict[year]['grades'][grade]['forecast']['NESD1819'] = count"
   ]
  },
  {
   "cell_type": "markdown",
   "metadata": {},
   "source": [
    "### RIDE October Enrollment"
   ]
  },
  {
   "cell_type": "code",
   "execution_count": null,
   "metadata": {},
   "outputs": [],
   "source": [
    "od = {}\n",
    "\n",
    "October = pd.read_csv(data_path + 'RIDE_October_enrollment.csv')\n",
    "\n",
    "October.head()\n",
    "\n",
    "ocd = October.to_dict()\n",
    "\n",
    "for i in ocd['Year'].keys():\n",
    "    year = ocd['Year'][i]\n",
    "    grade = ocd['Grade'][i]\n",
    "    count = ocd['Total'][i]\n",
    "    if (grade == 'KF'):                   #recode 'KF' to 'K' - full day kindergarten\n",
    "        grade = 'K'\n",
    "    if (grade == 'PK'):                   #recode 'PK' to 'PKG'  not full day Pre-K\n",
    "        grade = 'PKG'\n",
    "    if (grade == 'PF'):                   #recode 'PF' to 'PK'   full day pre-K\n",
    "        grade = 'PK'\n",
    "    \n",
    "    if (grade == 'TO'):\n",
    "        if 'Total_enrollment' not in edict[year].keys():\n",
    "            edict[year]['Total_enrollment'] = {}\n",
    "        if 'actual' not in edict[year]['Total_enrollment'].keys():\n",
    "            edict[year]['Total_enrollment']['actual'] = {}\n",
    "        edict[year]['Total_enrollment']['actual']['RIDE_Oct'] = count\n",
    "    else:\n",
    "        if grade not in edict[year]['grades'].keys():\n",
    "            edict[year]['grades'][grade] = {}\n",
    "        if 'actual' not in edict[year]['grades'][grade].keys():\n",
    "            edict[year]['grades'][grade]['actual'] = {}\n",
    "        edict[year]['grades'][grade]['actual']['RIDE_Oct'] = count"
   ]
  },
  {
   "cell_type": "markdown",
   "metadata": {},
   "source": [
    "### Read 2019 Milone and MacBroom Historical Data"
   ]
  },
  {
   "cell_type": "code",
   "execution_count": null,
   "metadata": {
    "scrolled": true
   },
   "outputs": [],
   "source": [
    "mmbhist = pd.read_table(data_path+'Milone_MacBroom2019_Hist.csv',sep=',')\n",
    "mmbhistd = mmbhist.to_dict()\n",
    "\n",
    "actuals_through = 2018\n",
    "\n",
    "for i in mmbhistd['Byear'].keys():\n",
    "    year = mmbhistd['Byear'][i]\n",
    "    births = mmbhistd['Births'][i]\n",
    "    if 'Birth' not in edict[year]['grades'].keys():\n",
    "        edict[year]['grades']['Birth'] = {}\n",
    "    if (year <= actuals_through):\n",
    "        if 'actual' not in edict[year]['grades']['Birth'].keys():\n",
    "            edict[year]['grades']['Birth']['actual'] = {}\n",
    "        edict[year]['grades']['Birth']['actual']['M_and_M'] = births\n",
    "    else:\n",
    "        if 'forecast' not in edict[year]['grades']['Birth'].keys():\n",
    "            edict[year]['grades']['Birth']['forecast'] = {}\n",
    "        edict[year]['grades']['Birth']['forecast']['M_and_M'] = births\n",
    "        \n",
    "for i in mmbhistd['Year'].keys():\n",
    "    year = mmbhistd['Year'][i]\n",
    "    for grade in mmbhistd.keys():\n",
    "        if grade not in ['Year','Byear','Births']:\n",
    "            count = mmbhistd[grade][i]\n",
    "            if grade not in edict[year]['grades'].keys():\n",
    "                edict[year]['grades'][grade] = {}\n",
    "            if (year <= actuals_through):\n",
    "                if  'actual' not in edict[year]['grades'][grade].keys():\n",
    "                    edict[year]['grades'][grade]['actual'] = {}\n",
    "                edict[year]['grades'][grade]['actual']['M_and_M'] = count\n",
    "            else:\n",
    "                if  'forecast' not in edict[year]['grades'][grade].keys():\n",
    "                    edict[year]['grades'][grade]['forecast'] = {}\n",
    "                edict[year]['grades'][grade]['forecast']['M_and_M'] = count"
   ]
  },
  {
   "cell_type": "markdown",
   "metadata": {},
   "source": [
    "### Milone and MacBroom Projections"
   ]
  },
  {
   "cell_type": "code",
   "execution_count": null,
   "metadata": {
    "scrolled": true
   },
   "outputs": [],
   "source": [
    "mmbhist = pd.read_table(data_path+'Milone_MacBroom2019_Proj.csv',sep=',')\n",
    "mmbhistd = mmbhist.to_dict()\n",
    "\n",
    "actuals_through = 2018\n",
    "\n",
    "for i in mmbhistd['Byear'].keys():\n",
    "    year = mmbhistd['Byear'][i]\n",
    "    births = mmbhistd['Births'][i]\n",
    "    if 'Birth' not in edict[year]['grades'].keys():\n",
    "        edict[year]['grades']['Birth'] = {}\n",
    "    if (year <= actuals_through):\n",
    "        if 'actual' not in edict[year]['grades']['Birth'].keys():\n",
    "            edict[year]['grades']['Birth']['actual'] = {}\n",
    "        edict[year]['grades']['Birth']['actual']['M_and_M'] = births\n",
    "    else:\n",
    "        if 'forecast' not in edict[year]['grades']['Birth'].keys():\n",
    "            edict[year]['grades']['Birth']['forecast'] = {}\n",
    "        edict[year]['grades']['Birth']['forecast']['M_and_M'] = births\n",
    "        \n",
    "for i in mmbhistd['Year '].keys():\n",
    "    year = mmbhistd['Year '][i]\n",
    "    for grade in mmbhistd.keys():\n",
    "        if grade not in ['Year ','Byear','Births']:\n",
    "            count = mmbhistd[grade][i]\n",
    "            if grade not in edict[year]['grades'].keys():\n",
    "                edict[year]['grades'][grade] = {}\n",
    "            if (year <= actuals_through):\n",
    "                if  'actual' not in edict[year]['grades'][grade].keys():\n",
    "                    edict[year]['grades'][grade]['actual'] = {}\n",
    "                edict[year]['grades'][grade]['actual']['M_and_M'] = count\n",
    "            else:\n",
    "                if  'forecast' not in edict[year]['grades'][grade].keys():\n",
    "                    edict[year]['grades'][grade]['forecast'] = {}\n",
    "                edict[year]['grades'][grade]['forecast']['M_and_M'] = count"
   ]
  },
  {
   "cell_type": "markdown",
   "metadata": {},
   "source": [
    "### Read 2019 Milone and MacBroom Low End Projections"
   ]
  },
  {
   "cell_type": "code",
   "execution_count": null,
   "metadata": {},
   "outputs": [],
   "source": [
    "mmbp_Low = pd.read_table(data_path+'Milone_MacBroom2019_Proj_L.csv',sep=',')\n",
    "mmbp_Lowd = mmbp_Low.to_dict()\n",
    "\n",
    "actuals_through = 2018\n",
    "\n",
    "for i in mmbp_Lowd['Byear'].keys():\n",
    "    year = mmbp_Lowd['Byear'][i]\n",
    "    births = mmbp_Lowd['Births'][i]\n",
    "    if 'Birth' not in edict[year]['grades'].keys():\n",
    "        edict[year]['grades']['Birth'] = {}\n",
    "    if (year <= actuals_through):\n",
    "        if 'actual' not in edict[year]['grades']['Birth'].keys():\n",
    "            edict[year]['grades']['Birth']['actual'] = {}\n",
    "        edict[year]['grades']['Birth']['actual']['M_and_M_low'] = births\n",
    "    else:\n",
    "        if 'forecast' not in edict[year]['grades']['Birth'].keys():\n",
    "            edict[year]['grades']['Birth']['forecast'] = {}\n",
    "        edict[year]['grades']['Birth']['forecast']['M_and_M_low'] = births\n",
    "        \n",
    "for i in mmbp_Lowd['Year'].keys():\n",
    "    year = mmbp_Lowd['Year'][i]\n",
    "    for grade in mmbp_Lowd.keys():\n",
    "        if grade not in ['Year','Byear','Births']:\n",
    "            count = mmbp_Lowd[grade][i]\n",
    "            if grade not in edict[year]['grades'].keys():\n",
    "                edict[year]['grades'][grade] = {}\n",
    "            if (year <= actuals_through):\n",
    "                if  'actual' not in edict[year]['grades'][grade].keys():\n",
    "                    edict[year]['grades'][grade]['actual'] = {}\n",
    "                edict[year]['grades'][grade]['actual']['M_and_M_low'] = count\n",
    "            else:\n",
    "                if  'forecast' not in edict[year]['grades'][grade].keys():\n",
    "                    edict[year]['grades'][grade]['forecast'] = {}\n",
    "                edict[year]['grades'][grade]['forecast']['M_and_M_low'] = count"
   ]
  },
  {
   "cell_type": "markdown",
   "metadata": {},
   "source": [
    "### Read 2019 Milone and MacBroom High End Projections"
   ]
  },
  {
   "cell_type": "code",
   "execution_count": null,
   "metadata": {},
   "outputs": [],
   "source": [
    "mmbp_High = pd.read_table(data_path+'Milone_MacBroom2019_Proj_H.csv',sep=',')\n",
    "mmbp_Highd = mmbp_High.to_dict()\n",
    "\n",
    "actuals_through = 2018\n",
    "\n",
    "for i in mmbp_Highd['Byear'].keys():\n",
    "    year = mmbp_Highd['Byear'][i]\n",
    "    births = mmbp_Highd['Births'][i]\n",
    "    if 'Birth' not in edict[year]['grades'].keys():\n",
    "        edict[year]['grades']['Birth'] = {}\n",
    "    if (year <= actuals_through):\n",
    "        if 'actual' not in edict[year]['grades']['Birth'].keys():\n",
    "            edict[year]['grades']['Birth']['actual'] = {}\n",
    "        edict[year]['grades']['Birth']['actual']['M_and_M_high'] = births\n",
    "    else:\n",
    "        if 'forecast' not in edict[year]['grades']['Birth'].keys():\n",
    "            edict[year]['grades']['Birth']['forecast'] = {}\n",
    "        edict[year]['grades']['Birth']['forecast']['M_and_M_high'] = births\n",
    "        \n",
    "for i in mmbp_Highd['Year'].keys():\n",
    "    year = mmbp_Highd['Year'][i]\n",
    "    for grade in mmbp_Highd.keys():\n",
    "        if grade not in ['Year','Byear','Births']:\n",
    "            count = mmbp_Highd[grade][i]\n",
    "            if grade not in edict[year]['grades'].keys():\n",
    "                edict[year]['grades'][grade] = {}\n",
    "            if (year <= actuals_through):\n",
    "                if  'actual' not in edict[year]['grades'][grade].keys():\n",
    "                    edict[year]['grades'][grade]['actual'] = {}\n",
    "                edict[year]['grades'][grade]['actual']['M_and_M_high'] = count\n",
    "            else:\n",
    "                if  'forecast' not in edict[year]['grades'][grade].keys():\n",
    "                    edict[year]['grades'][grade]['forecast'] = {}\n",
    "                edict[year]['grades'][grade]['forecast']['M_and_M_high'] = count"
   ]
  },
  {
   "cell_type": "markdown",
   "metadata": {},
   "source": [
    "### Save to pickle Enrollment_and_Forecast_History_mm_dd_yyyy.pkl"
   ]
  },
  {
   "cell_type": "code",
   "execution_count": null,
   "metadata": {
    "scrolled": false
   },
   "outputs": [],
   "source": [
    "current_date = date.today()\n",
    "fname = '../Enrollment_and_Forecast_History_' + str(current_date.month) + '_' + \\\n",
    "    str(current_date.day) + '_' + str(current_date.year) + '.pkl'\n",
    "with open(fname, 'wb') as handle:\n",
    "    pickle.dump(edict, handle)"
   ]
  }
 ],
 "metadata": {
  "kernelspec": {
   "display_name": "Python 3",
   "language": "python",
   "name": "python3"
  },
  "language_info": {
   "codemirror_mode": {
    "name": "ipython",
    "version": 3
   },
   "file_extension": ".py",
   "mimetype": "text/x-python",
   "name": "python",
   "nbconvert_exporter": "python",
   "pygments_lexer": "ipython3",
   "version": "3.8.5"
  }
 },
 "nbformat": 4,
 "nbformat_minor": 2
}

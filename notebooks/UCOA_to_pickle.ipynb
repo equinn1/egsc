{
 "cells": [
  {
   "cell_type": "markdown",
   "metadata": {},
   "source": [
    "### Write UCOA data to a pickle \n",
    "\n",
    "E.Quinn 7/8/2020\n",
    "\n",
    "Save expense, revenue, and capital/debt service data to pickles"
   ]
  },
  {
   "cell_type": "markdown",
   "metadata": {},
   "source": [
    "## Import standard python datascience packages"
   ]
  },
  {
   "cell_type": "code",
   "execution_count": null,
   "metadata": {},
   "outputs": [],
   "source": [
    "import math\n",
    "import re\n",
    "import numpy as np\n",
    "import scipy as sc\n",
    "import pandas as pd\n",
    "import matplotlib.pyplot as plt\n",
    "import seaborn as sns\n",
    "import cloudpickle\n",
    "%matplotlib inline"
   ]
  },
  {
   "cell_type": "code",
   "execution_count": null,
   "metadata": {},
   "outputs": [],
   "source": [
    "pd.set_option(\"display.max_rows\",1000)\n",
    "pd.get_option(\"display.max_rows\")\n",
    "pd.set_option('display.max_columns', 50)"
   ]
  },
  {
   "cell_type": "markdown",
   "metadata": {},
   "source": [
    "### Read UCOA revenue history"
   ]
  },
  {
   "cell_type": "code",
   "execution_count": null,
   "metadata": {},
   "outputs": [],
   "source": [
    "px= [\"../RIDE/UCOA_files/Revenue_2017_2018.csv\",\\\n",
    "    \"../RIDE/UCOA_files/Revenue_2016_2017.csv\",\\\n",
    "    \"../RIDE/UCOA_files/Revenue_2015_2016.csv\",\\\n",
    "    \"../RIDE/UCOA_files/Revenue_2014_2015.csv\",\\\n",
    "    \"../RIDE/UCOA_files/Revenue_2013_2014.csv\",\\\n",
    "    \"../RIDE/UCOA_files/Revenue_2012_2013.csv\",\\\n",
    "    \"../RIDE/UCOA_files/Revenue_2011_2012.csv\",\\\n",
    "    \"../RIDE/UCOA_files/Revenue_2010_2011.csv\",\\\n",
    "    \"../RIDE/UCOA_files/Revenue_2009_2010.csv\"]\n",
    "\n",
    "pds = []\n",
    "\n",
    "fyear = 2018\n",
    "\n",
    "for path in px:\n",
    "    df1 = pd.read_csv(path)\n",
    "    df1['fyear'] = fyear\n",
    "    fyear = fyear - 1\n",
    "    if ('District ID' in df1.columns):\n",
    "        df1 = df1.rename(columns={'District ID': 'Dist No'})\n",
    "    if ('Object' in df1.columns):\n",
    "        df1 = df1.rename(columns={'Object': 'Obj',\\\n",
    "            'Revenue Object Description':'Object Description'})\n",
    "    try:\n",
    "        pds.append(df1.loc[df1['Dist No']==90.0])\n",
    "    except KeyError:\n",
    "        print(\"KeyError: \",path,df1.columns)\n",
    "        \n",
    "UCOA_revenue = pd.concat(pds, axis=0, sort=False)\n",
    "with open('../UCOA_revenue.pkl', 'wb') as handle:\n",
    "    cloudpickle.dump(UCOA_revenue, handle)"
   ]
  },
  {
   "cell_type": "markdown",
   "metadata": {},
   "source": [
    "### Read UCOA expense history"
   ]
  },
  {
   "cell_type": "code",
   "execution_count": null,
   "metadata": {},
   "outputs": [],
   "source": [
    "px= [\"../RIDE/UCOA_files/Expense_2017_2018.csv\",\\\n",
    "    \"../RIDE/UCOA_files/Expense_2016_2017.csv\",\\\n",
    "    \"../RIDE/UCOA_files/Expense_2015_2016.csv\",\\\n",
    "    \"../RIDE/UCOA_files/Expense_2014_2015.csv\",\\\n",
    "    \"../RIDE/UCOA_files/Expense_2013_2014.csv\",\\\n",
    "    \"../RIDE/UCOA_files/Expense_2012_2013.csv\",\\\n",
    "    \"../RIDE/UCOA_files/Expense_2011_2012.csv\",\\\n",
    "    \"../RIDE/UCOA_files/Expense_2010_2011.csv\",\\\n",
    "    \"../RIDE/UCOA_files/Expense_2009_2010.csv\"]\n",
    "\n",
    "pds = []\n",
    "\n",
    "fyear = 2018\n",
    "\n",
    "for path in px:\n",
    "    df1 = pd.read_csv(path)\n",
    "    df1['fyear'] = fyear\n",
    "    fyear = fyear - 1\n",
    "    if ('District ID' in df1.columns):\n",
    "        df1 = df1.rename(columns={'District ID': 'Dist No'})\n",
    "    if ('Object' in df1.columns):\n",
    "        df1 = df1.rename(columns={'Object': 'Obj',\\\n",
    "            'Revenue Object Description':'Object Description'})\n",
    "    try:\n",
    "        pds.append(df1.loc[df1['Dist No']==90.0])\n",
    "    except KeyError:\n",
    "        print(\"KeyError: \",path,df1.columns)\n",
    "        \n",
    "UCOA_expense = pd.concat(pds, axis=0, sort=False)\n",
    "with open('../UCOA_expense.pkl', 'wb') as handle:\n",
    "    cloudpickle.dump(UCOA_expense, handle)"
   ]
  },
  {
   "cell_type": "markdown",
   "metadata": {},
   "source": [
    "### Read UCOA capital and debt service  history"
   ]
  },
  {
   "cell_type": "code",
   "execution_count": null,
   "metadata": {
    "scrolled": true
   },
   "outputs": [],
   "source": [
    "px= [\"../RIDE/UCOA_files/Capital_2017_2018.csv\",\\\n",
    "    \"../RIDE/UCOA_files/Capital_2016_2017.csv\",\\\n",
    "    \"../RIDE/UCOA_files/Capital_2015_2016.csv\",\\\n",
    "    \"../RIDE/UCOA_files/Capital_2014_2015.csv\",\\\n",
    "    \"../RIDE/UCOA_files/Capital_2013_2014.csv\",\\\n",
    "    \"../RIDE/UCOA_files/Capital_2012_2013.csv\",\\\n",
    "    \"../RIDE/UCOA_files/Capital_2011_2012.csv\",\\\n",
    "    \"../RIDE/UCOA_files/Capital_2010_2011.csv\",\\\n",
    "    \"../RIDE/UCOA_files/Capital_2009_2010.csv\"]\n",
    "\n",
    "pds = []\n",
    "\n",
    "fyear = 2018\n",
    "\n",
    "for path in px:\n",
    "    df1 = pd.read_csv(path)\n",
    "    df1['fyear'] = fyear\n",
    "    fyear = fyear - 1\n",
    "    if ('District ID' in df1.columns):\n",
    "        df1 = df1.rename(columns={'District ID': 'Dist No'})\n",
    "    if ('Object' in df1.columns):\n",
    "        df1 = df1.rename(columns={'Object': 'Obj',\\\n",
    "            'Revenue Object Description':'Object Description'})\n",
    "    try:\n",
    "        pds.append(df1.loc[df1['Dist No']==90.0])\n",
    "    except KeyError:\n",
    "        print(\"KeyError: \",path,df1.columns)\n",
    "        \n",
    "UCOA_capital_and_debt_service = pd.concat(pds, axis=0, sort=False)\n",
    "with open('../UCOA_capital_and_debt_service.pkl', 'wb') as handle:\n",
    "    cloudpickle.dump(UCOA_capital_and_debt_service, handle)"
   ]
  }
 ],
 "metadata": {
  "kernelspec": {
   "display_name": "Python 3",
   "language": "python",
   "name": "python3"
  },
  "language_info": {
   "codemirror_mode": {
    "name": "ipython",
    "version": 3
   },
   "file_extension": ".py",
   "mimetype": "text/x-python",
   "name": "python",
   "nbconvert_exporter": "python",
   "pygments_lexer": "ipython3",
   "version": "3.8.3"
  }
 },
 "nbformat": 4,
 "nbformat_minor": 2
}

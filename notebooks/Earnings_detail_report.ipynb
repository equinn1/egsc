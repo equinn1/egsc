{
 "cells": [
  {
   "cell_type": "markdown",
   "metadata": {},
   "source": [
    "## Process earnings reports data from saved pickle\n",
    "\n",
    "E. Quinn 12/20/2020"
   ]
  },
  {
   "cell_type": "markdown",
   "metadata": {},
   "source": [
    "## Import standard python datascience packages"
   ]
  },
  {
   "cell_type": "code",
   "execution_count": null,
   "metadata": {},
   "outputs": [],
   "source": [
    "import sys\n",
    "import math\n",
    "import re\n",
    "import copy\n",
    "import numpy as np\n",
    "import scipy as sc\n",
    "import pandas as pd\n",
    "import matplotlib.pyplot as plt\n",
    "import seaborn as sns\n",
    "import pickle\n",
    "%matplotlib inline"
   ]
  },
  {
   "cell_type": "code",
   "execution_count": null,
   "metadata": {},
   "outputs": [],
   "source": [
    "from datetime import datetime, timedelta, date\n",
    "from datascience import *\n",
    "import uuid\n",
    "import random"
   ]
  },
  {
   "cell_type": "markdown",
   "metadata": {},
   "source": [
    "### Import custom SC classes"
   ]
  },
  {
   "cell_type": "code",
   "execution_count": null,
   "metadata": {},
   "outputs": [],
   "source": [
    "sys.path.append(\"/home/gquinn/EG/school_committee/py_EGSC\")"
   ]
  },
  {
   "cell_type": "code",
   "execution_count": null,
   "metadata": {},
   "outputs": [],
   "source": [
    "from cba_salaries import Teacher_salaries \n",
    "from payperiod import Payperiod\n",
    "from ucoa_labels import UCOA_labels\n",
    "from eg_acct_codes import EG_acct_codes\n",
    "from pay_check import Pay_check, Check_lineitem\n",
    "from person import Person\n",
    "from scenario import Scenario"
   ]
  },
  {
   "cell_type": "code",
   "execution_count": null,
   "metadata": {},
   "outputs": [],
   "source": [
    "ts = Teacher_salaries()\n",
    "help(ts)"
   ]
  },
  {
   "cell_type": "markdown",
   "metadata": {},
   "source": [
    "### Show the directory we are running in"
   ]
  },
  {
   "cell_type": "code",
   "execution_count": null,
   "metadata": {},
   "outputs": [],
   "source": [
    "!pwd"
   ]
  },
  {
   "cell_type": "markdown",
   "metadata": {},
   "source": [
    "### Load RIDE UCOA labels "
   ]
  },
  {
   "cell_type": "code",
   "execution_count": null,
   "metadata": {},
   "outputs": [],
   "source": [
    "UCOA_labels = UCOA_labels()\n",
    "    \n",
    "#help(UCOA_labels)"
   ]
  },
  {
   "cell_type": "markdown",
   "metadata": {},
   "source": [
    "### EG accounting codes class\n",
    "\n",
    "provides descriptions for EG accounting codes and mapping to UCOA codes"
   ]
  },
  {
   "cell_type": "code",
   "execution_count": null,
   "metadata": {},
   "outputs": [],
   "source": [
    "EG_acct_codes = EG_acct_codes()\n",
    "    \n",
    "#help(EG_acct_codes)"
   ]
  },
  {
   "cell_type": "markdown",
   "metadata": {},
   "source": [
    "### Load teacher salary matrix code"
   ]
  },
  {
   "cell_type": "code",
   "execution_count": null,
   "metadata": {},
   "outputs": [],
   "source": [
    "teacher_salary_matrix = Teacher_salaries()\n",
    "    \n",
    "#help(teacher_salary_matrix)"
   ]
  },
  {
   "cell_type": "markdown",
   "metadata": {},
   "source": [
    "### Load serialized people object produced from earnings report"
   ]
  },
  {
   "cell_type": "code",
   "execution_count": null,
   "metadata": {},
   "outputs": [],
   "source": [
    "#Load data (deserialize)\n",
    "with open('../../finance_subcommittee/people_12_21_2020.pkl', 'rb') as handle:\n",
    "    people = pickle.load(handle)\n",
    "    \n",
    "len(people)"
   ]
  },
  {
   "cell_type": "code",
   "execution_count": null,
   "metadata": {},
   "outputs": [],
   "source": [
    "people"
   ]
  },
  {
   "cell_type": "code",
   "execution_count": null,
   "metadata": {},
   "outputs": [],
   "source": [
    "file1 = open('../earnings_detail.csv','w')\n",
    "\n",
    "hstr = '\"Name\",\"School Year\",\"Check Date\",\"Check Number\",\"Position\",\"Fund\",' \\\n",
    "    + '\"Acct\",\"Acct Description\",\"Obj\",\"Obj Description\",\"Earnings\",' \\\n",
    "    + '\"Step\",\"Payments\",\"FTE\",\"Salary\"\\n'\n",
    "file1.write(hstr)\n",
    "\n",
    "for name in people.keys():\n",
    "    hstr = '\"' + name + '\",\"'\n",
    "    pp = people[name].get_payperiods()\n",
    "    for syr in pp.keys():\n",
    "        hstr2 = hstr + syr + '\",'\n",
    "        for pseq in pp[syr].keys():\n",
    "            #hstr3 = hstr2 + str(pseq) + ','\n",
    "            hstr3 = hstr2\n",
    "            cks = pp[syr][pseq].get_checks()\n",
    "            for ckey in cks.keys():\n",
    "                cdate = cks[ckey].get_date()\n",
    "                cnumbr= cks[ckey].get_number()\n",
    "                hstr4 = hstr3 + str(cdate) + ',' + str(cnumbr) + ','\n",
    "                itms = cks[ckey].get_items()\n",
    "                for itmkey in itms.keys():\n",
    "                    fund = itms[itmkey].get_fund()\n",
    "                    acct = itms[itmkey].get_acct()\n",
    "                    obj  = itms[itmkey].get_obj()\n",
    "                    pos  = itms[itmkey].get_position()\n",
    "                    rate = itms[itmkey].get_rate()\n",
    "                    accdesc = itms[itmkey].get_acct_desc()\n",
    "                    objdesc = itms[itmkey].get_obj_desc()\n",
    "                    earn    = itms[itmkey].get_earnings()\n",
    "                    stepinfo = itms[itmkey].get_stepinfo()\n",
    "                    if 'step' in stepinfo.keys():\n",
    "                        step = stepinfo['step']\n",
    "                    else:\n",
    "                        step = ''\n",
    "                    if 'payments' in stepinfo.keys():\n",
    "                        pmts = stepinfo['payments']\n",
    "                    else:\n",
    "                        pmts = ''\n",
    "                    if 'fte' in stepinfo.keys():\n",
    "                        fte = stepinfo['fte']\n",
    "                    else:\n",
    "                        fte = ''\n",
    "                    if 'salary' in stepinfo.keys():\n",
    "                        sal = stepinfo['salary']\n",
    "                    else:\n",
    "                        sal = ''\n",
    "                    hstr5 = hstr4 + pos + ',' + str(fund) + ',' + str(acct) + ',' + \\\n",
    "                    str(accdesc) + ',' + str(obj) + ',' + str(objdesc) + ',' + \\\n",
    "                    str(earn) + ',' + step + ',' + str(pmts) + ',' + str(fte) + ',' + \\\n",
    "                    str(sal) + '\\n'\n",
    "                    file1.write(hstr5)\n",
    "file1.close()"
   ]
  }
 ],
 "metadata": {
  "kernelspec": {
   "display_name": "Python 3",
   "language": "python",
   "name": "python3"
  },
  "language_info": {
   "codemirror_mode": {
    "name": "ipython",
    "version": 3
   },
   "file_extension": ".py",
   "mimetype": "text/x-python",
   "name": "python",
   "nbconvert_exporter": "python",
   "pygments_lexer": "ipython3",
   "version": "3.8.5"
  }
 },
 "nbformat": 4,
 "nbformat_minor": 4
}

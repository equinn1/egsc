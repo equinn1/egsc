{
 "cells": [
  {
   "cell_type": "markdown",
   "metadata": {},
   "source": [
    "## Build earnings reports (Bayesian OO version)\n",
    "\n",
    "E. Quinn 1/16/2021\n",
    "\n",
    "Build people data structure from PDF earnings reports"
   ]
  },
  {
   "cell_type": "markdown",
   "metadata": {},
   "source": [
    "## Import standard python datascience packages"
   ]
  },
  {
   "cell_type": "code",
   "execution_count": 1,
   "metadata": {},
   "outputs": [],
   "source": [
    "import sys\n",
    "import math\n",
    "import re\n",
    "import copy as cp\n",
    "import numpy as np\n",
    "import scipy as sc\n",
    "import pandas as pd\n",
    "import matplotlib.pyplot as plt\n",
    "import seaborn as sns\n",
    "import pickle\n",
    "%matplotlib inline"
   ]
  },
  {
   "cell_type": "code",
   "execution_count": 2,
   "metadata": {},
   "outputs": [],
   "source": [
    "from datetime import datetime, timedelta, date\n",
    "from datascience import *\n",
    "import uuid\n",
    "import random"
   ]
  },
  {
   "cell_type": "code",
   "execution_count": 3,
   "metadata": {},
   "outputs": [],
   "source": [
    "sys.path.append(\"/home/gquinn/EG/school_committee/finance_subcommittee/py_egsc\")"
   ]
  },
  {
   "cell_type": "markdown",
   "metadata": {},
   "source": [
    "### Import custom SC classes - Bayesian versions"
   ]
  },
  {
   "cell_type": "code",
   "execution_count": 4,
   "metadata": {},
   "outputs": [],
   "source": [
    "from person import Person\n",
    "from ucoa_labels import UCOA_labels\n",
    "from eg_acct_codes import EG_acct_codes\n",
    "from pay_check import Pay_check, Check_lineitem\n",
    "from roles_Bayes import *                          #import Bayesian roles.py\n",
    "from scenario import Scenario\n",
    "from salaries import *\n",
    "from payperiod_Bayes import Payperiod"
   ]
  },
  {
   "cell_type": "markdown",
   "metadata": {},
   "source": [
    "### Show the directory we are running in"
   ]
  },
  {
   "cell_type": "code",
   "execution_count": 5,
   "metadata": {},
   "outputs": [
    {
     "name": "stdout",
     "output_type": "stream",
     "text": [
      "/home/gquinn/EG/school_committee/finance_subcommittee/notebooks\r\n"
     ]
    }
   ],
   "source": [
    "!pwd"
   ]
  },
  {
   "cell_type": "markdown",
   "metadata": {},
   "source": [
    "### Load RIDE UCOA labels "
   ]
  },
  {
   "cell_type": "code",
   "execution_count": 6,
   "metadata": {},
   "outputs": [],
   "source": [
    "ucoa_labels = UCOA_labels()\n",
    "#help(ucoa_labels)"
   ]
  },
  {
   "cell_type": "markdown",
   "metadata": {},
   "source": [
    "### EG accounting codes class\n",
    "\n",
    "provides descriptions for EG accounting codes and mapping to UCOA codes"
   ]
  },
  {
   "cell_type": "code",
   "execution_count": 7,
   "metadata": {},
   "outputs": [],
   "source": [
    "eg_acct_codes = EG_acct_codes()\n",
    "#help(eg_acct_codes)"
   ]
  },
  {
   "cell_type": "markdown",
   "metadata": {},
   "source": [
    "### Read PDF structure from pickle"
   ]
  },
  {
   "cell_type": "code",
   "execution_count": 8,
   "metadata": {},
   "outputs": [
    {
     "data": {
      "text/plain": [
       "6"
      ]
     },
     "execution_count": 8,
     "metadata": {},
     "output_type": "execute_result"
    }
   ],
   "source": [
    "#Load data (deserialize)\n",
    "with open('../../finance_subcommittee/ll_1_1_2021.pkl', 'rb') as handle:\n",
    "    ll = pickle.load(handle)\n",
    "    \n",
    "len(ll)"
   ]
  },
  {
   "cell_type": "markdown",
   "metadata": {},
   "source": [
    "### Build a dictionary of people"
   ]
  },
  {
   "cell_type": "code",
   "execution_count": 9,
   "metadata": {
    "scrolled": true
   },
   "outputs": [
    {
     "data": {
      "text/plain": [
       "898"
      ]
     },
     "execution_count": 9,
     "metadata": {},
     "output_type": "execute_result"
    }
   ],
   "source": [
    "def build_people(ll):\n",
    "    people = {}\n",
    "    for year in ll.keys():\n",
    "        for page in ll[year].keys():\n",
    "            for tb in ll[year][page].keys():\n",
    "                names         = ll[year][page][tb]['names']\n",
    "                positions     = ll[year][page][tb]['positions']\n",
    "                for i in np.arange(len(names)):\n",
    "                    name            = names[i]\n",
    "                    if (name not in people.keys()):\n",
    "                        people[name] = Person(name)\n",
    "    return(people)\n",
    "\n",
    "people = build_people(ll)\n",
    "len(people)"
   ]
  },
  {
   "cell_type": "markdown",
   "metadata": {},
   "source": [
    "### Add payperiods, checks, and lineitems"
   ]
  },
  {
   "cell_type": "code",
   "execution_count": 10,
   "metadata": {
    "scrolled": false
   },
   "outputs": [
    {
     "data": {
      "text/plain": [
       "898"
      ]
     },
     "execution_count": 10,
     "metadata": {},
     "output_type": "execute_result"
    }
   ],
   "source": [
    "def add_roles(ll,people):\n",
    "    for year in ll.keys():\n",
    "        for page in ll[year].keys():\n",
    "            for tb in ll[year][page].keys():\n",
    "                check_numbers = ll[year][page][tb]['checks']\n",
    "                names         = ll[year][page][tb]['names']\n",
    "                check_dates   = ll[year][page][tb]['dates']\n",
    "                fund          = ll[year][page][tb]['fund']\n",
    "                acct          = ll[year][page][tb]['acct']\n",
    "                obj           = ll[year][page][tb]['obj']\n",
    "                positions     = ll[year][page][tb]['positions']\n",
    "                rates         = ll[year][page][tb]['rates']\n",
    "                earnings      = ll[year][page][tb]['earnings']\n",
    "                obj_desc      = ucoa_labels.get_label('Obj',obj)\n",
    "                acct_desc     = eg_acct_codes.get_eg_acct_desc(acct)\n",
    "                acct_UCOA     = eg_acct_codes.get_eg_acct_UCOA(acct)\n",
    "                ftekey        = acct+obj\n",
    "            \n",
    "                for i in np.arange(len(names)):             #loop through columns\n",
    "                    name            = names[i]              #name\n",
    "                    date_str        = check_dates[i]        #check date\n",
    "                    check_number    = check_numbers[i]      #check number\n",
    "                    position        = positions[i]          #position determines role\n",
    "                    rate            = rates[i]              #rate\n",
    "                    earned          = earnings[i]           #earnings\n",
    "                \n",
    "                    person          = people[name]\n",
    "                    roles           = people[name].get_roles() #get roles we know about\n",
    "                    salary_matrix   = {}\n",
    "                    \n",
    "                    if position not in roles.keys():           #if this position is new\n",
    "                        if (position == 'TEACHER'):            #create a role object\n",
    "                            role = Teacher(person,position)\n",
    "                        elif (position in ['PARAPROFES','SPED PARAS']):\n",
    "                            role = Para(person,position)       #role is Para\n",
    "                            #role.set_empirical_priors(empirical_probabilities)\n",
    "                        elif ('T/S' in position):\n",
    "                            role = Substitute_teacher(person,position)  #Teacher sub\n",
    "                        elif ('P/S' in position):\n",
    "                            role = Substitute_para(person,position)     #Para sub\n",
    "                        elif (position in ['YR SECRETA','SECRETARY']):\n",
    "                            role = Office(person,position)              #Office roles\n",
    "                        elif (position in ['CUSTODIAN','MAINTENANC','ELECTRICAN', \\\n",
    "                            'CUST PT','DIR MAINT','FACILITY DR','CUST PT']):\n",
    "                            role = Facilities(person,position)         #Facilities roles\n",
    "                            #role.set_empirical_priors(empirical_probabilities)\n",
    "                        elif (position == 'COACH'):            \n",
    "                            role = Coach(person,position)           #Coach\n",
    "                        else:\n",
    "                            role = Role(person,position)       #Role (generic role)\n",
    "                        people[name].add_role(position,role)   #add new role to person\n",
    "                    else:\n",
    "                        role = roles[position]\n",
    "                        \n",
    "                    date_str        = check_dates[i]       #convert date string           \n",
    "                    words = date_str.split('/')\n",
    "                    check_date   = date(int(words[2]),int(words[0]),int(words[1])) \n",
    "                    \n",
    "                    pperiod = Payperiod(role,check_date)     #get payperiod instance\n",
    "                    schyr = pperiod.get_school_year()        #to find school year\n",
    "                    syseq = pperiod.get_school_year_seq()    #to find sequence #\n",
    "                    \n",
    "                    if not role.has_payperiod(schyr,syseq):  #if payperiod doesn't exist\n",
    "                        role.add_payperiod_by_index(schyr,syseq,pperiod)  #use this one\n",
    "                    else:                                          #otherwise\n",
    "                        pperiod = role.get_payperiod(schyr,syseq)  #use the old one\n",
    "\n",
    "                    chk = pperiod.get_check(check_number)      #see if check exists\n",
    "                    if chk is None:                            #          if not,\n",
    "                        chk = Pay_check(pperiod,\\\n",
    "                                check_number,name,check_date)  #  create it,\n",
    "                        pperiod.add_check(check_number,chk)    # and add it to payperiod                        \n",
    "\n",
    "                    #create lineitem for this line of the earnings report\n",
    "                    \n",
    "                    litem =  Check_lineitem(chk,fund,acct,obj,\\\n",
    "                        position,rate,earned,acct_desc,obj_desc)\n",
    "                    litem_no = chk.add_item(litem)             #add it to the check                    \n",
    "    return  \n",
    "\n",
    "########################################################################################\n",
    "\n",
    "add_roles(ll,people)\n",
    "len(people)"
   ]
  },
  {
   "cell_type": "markdown",
   "metadata": {},
   "source": [
    "### Build chronological payperiod chain and priors"
   ]
  },
  {
   "cell_type": "code",
   "execution_count": 11,
   "metadata": {},
   "outputs": [
    {
     "data": {
      "text/plain": [
       "898"
      ]
     },
     "execution_count": 11,
     "metadata": {},
     "output_type": "execute_result"
    }
   ],
   "source": [
    "for name in people.keys():\n",
    "    roles = people[name].get_roles()\n",
    "    for role_name in roles.keys():\n",
    "        role = roles[role_name]\n",
    "        pps = role.get_payperiods()\n",
    "        role.first_payperiod = None\n",
    "        for syear in sorted(pps.keys()):\n",
    "            for syseq in sorted(pps[syear].keys()):\n",
    "                pp = pps[syear][syseq]\n",
    "                if (role.first_payperiod is None):\n",
    "                    role.first_payperiod = pp\n",
    "                    role.first_school_year = pp.get_school_year()\n",
    "                    role.first_school_year_seq = pp.get_school_year_seq()\n",
    "                prevpp = pp.get_prev_payperiod()\n",
    "                if (prevpp is not None):\n",
    "                    pp.priors = cp.deepcopy(prevpp.get_priors())\n",
    "                    pp.fte_priors = cp.deepcopy(prevpp.get_fte_priors())\n",
    "                else:\n",
    "                    pp.priors = cp.deepcopy(role.get_empirical_priors())\n",
    "                    pp.fte_priors = {}\n",
    "                pp.copy_priors_forward()\n",
    "len(people)"
   ]
  },
  {
   "cell_type": "markdown",
   "metadata": {},
   "source": [
    "### Decode step values, FTE, and payments from rate and earnings"
   ]
  },
  {
   "cell_type": "code",
   "execution_count": 12,
   "metadata": {},
   "outputs": [
    {
     "data": {
      "text/plain": [
       "898"
      ]
     },
     "execution_count": 12,
     "metadata": {},
     "output_type": "execute_result"
    }
   ],
   "source": [
    "for name in people.keys():\n",
    "    roles = people[name].get_roles()\n",
    "    for role_name in roles.keys():\n",
    "        role = roles[role_name]\n",
    "        pps = role.get_payperiods()\n",
    "        for syear in sorted(pps.keys()):\n",
    "            for syseq in sorted(pps[syear].keys()):\n",
    "                pp = pps[syear][syseq]\n",
    "                checks = pp.get_checks()\n",
    "                for cknum in checks.keys():\n",
    "                    chk = checks[cknum]\n",
    "                    items = chk.get_items()\n",
    "                    for i in items.keys():\n",
    "                        role.decode_earnings(items[i])\n",
    "                pp.copy_priors_forward()\n",
    "len(people)"
   ]
  },
  {
   "cell_type": "code",
   "execution_count": 13,
   "metadata": {},
   "outputs": [],
   "source": [
    "current_date = date.today()\n",
    "fname = '../../finance_subcommittee/Bayesian_people_' + str(current_date.month) + '_' + \\\n",
    "    str(current_date.day) + '_' + str(current_date.year) + '.pkl'\n",
    "with open(fname, 'wb') as handle:\n",
    "    pickle.dump(people, handle)"
   ]
  }
 ],
 "metadata": {
  "kernelspec": {
   "display_name": "Python 3",
   "language": "python",
   "name": "python3"
  },
  "language_info": {
   "codemirror_mode": {
    "name": "ipython",
    "version": 3
   },
   "file_extension": ".py",
   "mimetype": "text/x-python",
   "name": "python",
   "nbconvert_exporter": "python",
   "pygments_lexer": "ipython3",
   "version": "3.8.5"
  }
 },
 "nbformat": 4,
 "nbformat_minor": 2
}

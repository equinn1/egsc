{
 "cells": [
  {
   "cell_type": "markdown",
   "metadata": {},
   "source": [
    "## OO Tax rolls\n",
    "\n",
    "E. Quinn 2/14/2020\n",
    "\n",
    "This notebook uses pdfminer to extract the information from EG tax rolls\n",
    "\n",
    "The documentation for pdfminer is at:\n",
    "\n",
    "https://buildmedia.readthedocs.org/media/pdf/pdfminer-docs/latest/pdfminer-docs.pdf"
   ]
  },
  {
   "cell_type": "markdown",
   "metadata": {},
   "source": [
    "## Import standard python datascience packages"
   ]
  },
  {
   "cell_type": "code",
   "execution_count": null,
   "metadata": {},
   "outputs": [],
   "source": [
    "import math\n",
    "import re\n",
    "import numpy as np\n",
    "import scipy as sc\n",
    "import pandas as pd\n",
    "import matplotlib.pyplot as plt\n",
    "import seaborn as sns\n",
    "%matplotlib inline"
   ]
  },
  {
   "cell_type": "markdown",
   "metadata": {},
   "source": [
    "## Import pdfminer packages"
   ]
  },
  {
   "cell_type": "code",
   "execution_count": null,
   "metadata": {},
   "outputs": [],
   "source": [
    "from pdfminer.pdfparser import PDFParser\n",
    "from pdfminer.pdfdocument import PDFDocument\n",
    "from pdfminer.pdfpage import PDFPage\n",
    "from pdfminer.pdfpage import PDFTextExtractionNotAllowed\n",
    "from pdfminer.pdfinterp import PDFResourceManager\n",
    "from pdfminer.pdfinterp import PDFPageInterpreter\n",
    "from pdfminer.pdfdevice import PDFDevice\n",
    "from pdfminer.layout import LAParams\n",
    "from pdfminer.converter import PDFPageAggregator\n",
    "from pdfminer.pdfpage import PDFPage\n",
    "from pdfminer.layout import LTTextBoxHorizontal"
   ]
  },
  {
   "cell_type": "markdown",
   "metadata": {},
   "source": [
    "### Show the directory we are running in"
   ]
  },
  {
   "cell_type": "code",
   "execution_count": null,
   "metadata": {},
   "outputs": [],
   "source": [
    "!pwd"
   ]
  },
  {
   "cell_type": "markdown",
   "metadata": {},
   "source": [
    "## Read the pdf and create a dictionary with the contents of each text box"
   ]
  },
  {
   "cell_type": "markdown",
   "metadata": {},
   "source": [
    "### Function read_pdf() reads a PDF and returns a dictionary containing the contents\n",
    "\n",
    "Strategy for this document:  \n",
    "\n",
    "Save information from each element in the LTTextBox objects in a dictionary including:\n",
    "\n",
    "- x0 horizontal coordinate of the upper left corner of the text box\n",
    "- x1 horizontal coordinate of the lower right corner of the text box\n",
    "- y0 vertical coordinate of the upper left corner of the text box\n",
    "- y1 vertical coordinate of the lower right corner of the text box\n",
    "- page number \n",
    "- sequence number of text box within this page\n",
    "- text contained in the text box, converted to ascii\n",
    "\n",
    "Parsing the text is complicated by the fact that that a text box may span multiple columns and/or rows, and the text box groupings vary quite a bit depending on the page contents and layout.\n",
    "\n",
    "However, with a bit of luck the structure of the document will allow the contents to be deciphered with the following heuristics:\n",
    "\n",
    "- Text boxes containing left justified columns will tend to have nearly the same x0 coordinates\n",
    "- Text boxes containing right justified columns will tend to have nearly the same x1 coordinates\n",
    "- The codes for fund, account code, and object code are numeric and have fixed lengths\n",
    "- Extraneous information is often preceded or followed by a series of underscore and newline characters\n",
    "- Last name can be distinguished because is the only field that is all characters followed by a comma\n",
    "- Last name may be preceded by between one and three numerical fields:  fund, account, object.  If it is, the x0 value is shifted to the left.\n",
    "    - Three numerical fields precede the name:  assume they are fund, account, object\n",
    "    - Two numerical fields precede the name: assume they are account, object\n",
    "    - One numerical field precedes the name: assume it is object\n",
    "    "
   ]
  },
  {
   "cell_type": "code",
   "execution_count": null,
   "metadata": {},
   "outputs": [],
   "source": [
    "def read_pdf(path):\n",
    "    document = open(path, 'rb')                                     #read a pdf and create a document object\n",
    "    rsrcmgr = PDFResourceManager()                                  #create a resource manager\n",
    "    laparams = LAParams()                                           #set the parameters for analysis\n",
    "    device = PDFPageAggregator(rsrcmgr, laparams=laparams)          #create a PDF page aggregator object\n",
    "    interpreter = PDFPageInterpreter(rsrcmgr, device)\n",
    "    \n",
    "    pdf={}                                                          #dictionary to hold the results\n",
    "\n",
    "    pageno = -1                                                     #initialize page coounter to zero\n",
    "\n",
    "    for page in PDFPage.get_pages(document):                        #loop through the pdf page by page\n",
    "        pageno = pageno + 1                                         #increment the page number\n",
    "        pdf[pageno] = {}                                            #dictionary for this page\n",
    "        interpreter.process_page(page)                              # receive the LTPage object for the page.\n",
    "        layout = device.get_result()                                # create layout object\n",
    "        tbox_no=0                                                   # index for element number\n",
    "        for element in layout:\n",
    "            if (type(element).__name__=='LTTextBoxHorizontal'):     #loop through text boxes\n",
    "                tbox_no += 1                                        #increment text box number\n",
    "                pdf[pageno][tbox_no] = {}                           #dictionary for text boxes within page\n",
    "                x0 = round(element.x0,2)                            #x0 coordinate of textbox corner\n",
    "                x1 = round(element.x1,2)                            #x1 coordinate of textbox corner\n",
    "                y0 = round(element.y0,2)                            #y0 coordinate of textbox corner\n",
    "                y1 = round(element.y1,2)                            #y1 coordinate of textbox corner\n",
    "                txt = element.get_text().encode('ascii', 'ignore')  #text converted to ascii\n",
    "                pdf[pageno][tbox_no]['x0'] = x0                     #create x0 coordinate entry\n",
    "                pdf[pageno][tbox_no]['x1'] = x1                     #create x1 coordinate entry\n",
    "                pdf[pageno][tbox_no]['y0'] = y0                     #create y0 coordinate entry\n",
    "                pdf[pageno][tbox_no]['y1'] = y1                     #create y1 coordinate entry\n",
    "\n",
    "                pdf[pageno][tbox_no]['text'] = ''.join(chr(c) for c in txt) #convert bytes to string\n",
    "    return(pdf)"
   ]
  },
  {
   "cell_type": "markdown",
   "metadata": {},
   "source": [
    "### Object Oriented class definitions for tax roll objects"
   ]
  },
  {
   "cell_type": "code",
   "execution_count": null,
   "metadata": {},
   "outputs": [],
   "source": [
    "def find_plat(tx):\n",
    "    plat_index=-1\n",
    "    words = tx.split()\n",
    "    for word in words:\n",
    "        if (len(word)==16):\n",
    "            if ((word[0:2].isdigit()) & (word[3]=='-') & \\\n",
    "                (word[4:6].isdigit()) & (word[7]=='-') & \\\n",
    "                (word[8:10].isdigit()) & (word[11]=='-') & (word[12:15].isdigit())):\n",
    "                    plat_index = tx.find(word)\n",
    "    return(plat_index)\n",
    "\n",
    "def get_float(st):\n",
    "    st2 = st.replace(',','')\n",
    "    try:\n",
    "        nv = float(st2)\n",
    "    except ValueError:\n",
    "        nv = np.NaN\n",
    "    return(nv)\n",
    "\n",
    "def get_last3_numeric(txt):                         #function returns the last 3 words on a line as numbers\n",
    "    last3 = []                                      #initialize list for last 3 numbers\n",
    "    words = txt.split()                             #split the text ine into words\n",
    "    for i in np.arange(1,4):                        #for i=1,2,3\n",
    "        last3.append(np.NaN)                        #append np.NaN as default\n",
    "        if (len(words) >= i):                       #replace it with floating point number word is numeric\n",
    "            word = words[len(words)-i]                          \n",
    "            last3[i-1] = abs(get_float(word.replace(',','')))\n",
    "    return(last3)\n",
    "        \n",
    "class account():                                        #account class\n",
    "    def __init__(self,acct_no):                         #account class constructor\n",
    "        self.acct_no = acct_no                          #  acct_no\n",
    "        self.bills = {}                                 #  bills dictionary\n",
    "        self.totals_text = None                         #  totals line\n",
    "        self.totals_valuation = np.NaN\n",
    "        self.totals_tax = np.NaN\n",
    "        self.exemptions = {}                            #  exemptions dictionary\n",
    "        return\n",
    "    \n",
    "    def get_acct_no(self):                              #return acct_no\n",
    "        return(self.acct_no)\n",
    "    \n",
    "    def get_bills(self):                                #return bills dictionary\n",
    "        return(self.bills)\n",
    "    \n",
    "    def get_exemptions(self):                           #return exemptions dictionary\n",
    "        return(self.exemptions)\n",
    "    \n",
    "    def get_bill_count(self):                           #return bill ount\n",
    "        return(len(self.bills))\n",
    "    \n",
    "    def set_totals(self,text):                          #set totals text and values\n",
    "        substr = text[text.find('TOTALS') + 6:]         #get text after 'TOTALS'.''\n",
    "        words = substr.split()                          #\n",
    "        first = last = next(iter(words), '')            #get first and last words \n",
    "        for last in iter(words):                        #\n",
    "            pass                                        #\n",
    "        if (first.replace(',','').isdigit()):           #\n",
    "            self.totals_valuation = get_float(first.replace(',',''))\n",
    "        if ('.' in last):\n",
    "            self.totals_tax = get_float(last.replace(',',''))\n",
    "        \n",
    "    def get_totals_text(self):                          #return totals text\n",
    "        return(self.totals_text)\n",
    "    \n",
    "    def get_totals_valuation(self):                     #return valuation from totals\n",
    "        return(self.totals_valuation)\n",
    "    \n",
    "    def get_totals_tax(self):                           #return tax from totals\n",
    "        return(self.totals_tax)\n",
    "    \n",
    "    def get_bill(self,i):                               #return a specific bill\n",
    "        try:\n",
    "            return(self.bills[i])\n",
    "        except KeyError:\n",
    "            return(None)\n",
    "    \n",
    "    def add_exemption(self,exemp):                      #add exemption to dictionary\n",
    "        xmp = exemp[3:]                                 #strip of 'EX ' from the beginning\n",
    "        words = xmp.split()                             #\n",
    "        first = last = next(iter(words), '')            #get first and last words \n",
    "        for last in iter(words):                        #\n",
    "            pass                                        #\n",
    "        xm = xmp[:xmp.find(last)].strip()               #remove exemption amount\n",
    "        examt = abs(get_float(last.replace(',','')))    #get amt from last word\n",
    "        if (xm not in self.exemptions.keys()):\n",
    "            self.exemptions[xm] = examt                 #set type as key for amt\n",
    "        else:\n",
    "            self.exemptions[xm] += examt                #if duplicate, just add in exemption\n",
    "        return\n",
    "    \n",
    "    def add_bill(self,bil):                             #add bill to dictionary\n",
    "        ix = 1+len(self.bills)                          #increment bill index\n",
    "        self.bills[ix] = bill(bil)                      #add bill object to dictionary\n",
    "        return\n",
    "    \n",
    "class bill():                                           #bill class\n",
    "    def __init__(self,text):                            #constructor     \n",
    "        self.text = text                                #set text\n",
    "        self.platt = ''                                 #set platt\n",
    "        self.tax = np.NaN                               #set tax missing\n",
    "        self.valuation = np.NaN                         #set valuation missing\n",
    "        re_class = ''                                   #set real estate class missing\n",
    "        self.bill_no = ''                               #set bill number missing\n",
    "        self.address = ''                               #set address missing\n",
    "        self.state_code = ''                            #set state code missing\n",
    "                                                        #        \n",
    "        words = text.split()                            #extract platt from text string\n",
    "        for word in words:                              #platt should be the on word with:\n",
    "            if (len(word)==16):                         #  length 16\n",
    "                if (word[3]=='-'):                      #  the fourth character being a hyphen\n",
    "                    self.platt = word                   #save the platt string\n",
    "                    platt_ix = text.find(word)          #save the starting position for future reference\n",
    "                                                        #extract real estate class from text string\n",
    "        reix = text.find(' RE ')                        #look for the ' RE ' substring\n",
    "        self.re_class = text[reix+7:platt_ix].strip()   #take substring 7 chars past RE to start of platt\n",
    "                                                        #extract bill number\n",
    "        substr = text[:reix]                            #take the text string up to ' RE '\n",
    "        words = substr.split()                          #\n",
    "        first = last = next(iter(words), '')            #get first and last words \n",
    "        for last in iter(words):                        #\n",
    "            pass                                        #\n",
    "        if (last.isdigit()):                            #if the last word encountered before RE is all digits\n",
    "            self.bill_no = last                         #then save it as self.bill_no\n",
    "                                                        #extract state code\n",
    "        substr = text[reix+3:]                          #take the text string beyond ' RE '\n",
    "        words = substr.split()                          #\n",
    "        first = last = next(iter(words), '')            #get first and last words \n",
    "        for last in iter(words):                        #\n",
    "            pass                                        #\n",
    "        self.state_code = first                         #then save it as self.state_code\n",
    "                                                        #extract the tax amount and valuation\n",
    "        nums = get_last3_numeric(text)                  #get numeric values of the last 3 words on the line\n",
    "        if (nums[2] != nums[2]):                        #if third value is np.NaN, use first two values\n",
    "            self.tax = nums[0]                          #last number is tax\n",
    "            self.valuation = nums[1]                    #next to last is valuation\n",
    "            numeric_values = 2                          #number of numeric values\n",
    "        else:                                           #if three numeric values use first and third\n",
    "            self.tax = nums[0]                          #tax is first value\n",
    "            if (nums[2] > nums[0]):                     #if third value is greater than tax \n",
    "                self.valuation = nums[2]                #assume it is the valuation\n",
    "                numeric_values = 3                      #three numeric values\n",
    "            else:                                       #otherwise use the second value\n",
    "                self.valuation = nums[1]                #as the valuation\n",
    "                numeric_values = 2                      #two numeric values\n",
    "                                                        #\n",
    "        words = text.split()                            #\n",
    "        last_numeric = words[len(words)-numeric_values] #last of the numeric values\n",
    "        substr = text[platt_ix+16:text.find(last_numeric)]  #take tet from end of platt to start of valuation\n",
    "        self.address = substr.strip()                   #remove leading and trailing spaces\n",
    "            \n",
    "        return\n",
    "    \n",
    "    def get_platt(self):                                #return plat\n",
    "        return(self.platt)\n",
    "    \n",
    "    def get_text(self):                                 #return text\n",
    "        return(self.text)\n",
    "    \n",
    "    def get_class(self):\n",
    "        return(self.re_class)\n",
    "    \n",
    "    def get_bill_no(self):\n",
    "        return(self.bill_no)\n",
    "\n",
    "    def get_state_code(self):\n",
    "        return(self.state_code)\n",
    "\n",
    "    def get_address(self):\n",
    "        return(self.address)\n",
    "    \n",
    "    def get_tax(self):\n",
    "        return(self.tax)\n",
    "    \n",
    "    def get_valuation(self):\n",
    "        return(self.valuation)"
   ]
  },
  {
   "cell_type": "markdown",
   "metadata": {},
   "source": [
    "### Parse the tax roll document"
   ]
  },
  {
   "cell_type": "code",
   "execution_count": null,
   "metadata": {},
   "outputs": [],
   "source": [
    "def read_taxroll(tr):\n",
    "    \n",
    "    accts = {}\n",
    "\n",
    "    for k in tr.keys():                                             #loop through pages\n",
    "        for key in tr[k].keys():                                    #loop through text boxes in page\n",
    "            if ('text' in tr[k][key].keys()):                       #look at 'text' elements\n",
    "                text = tr[k][key]['text']                           #extract text\n",
    "                lines = text.split('\\n')                            #split into lines\n",
    "                for line in lines:                                  #loop through lines\n",
    "                    if (len(line) > 10):                            #only look at lines longer than 10 chars\n",
    "                        if (line[0:9].isdigit()):                   #check for account number\n",
    "                            acct_no = line[0:9]                     #if first 10 chars are digits\n",
    "                            if (acct_no not in accts.keys()):       #check if it's already in keys\n",
    "                                accts[acct_no] = account(acct_no)   #if not, add account object\n",
    "                        if (find_plat(line) > 0):                   #check for platt string\n",
    "                            accts[acct_no].add_bill(line)           #if present, add to bills\n",
    "                        elif ('TOTALS' in line):                    #check for TOTALS line\n",
    "                            line2 = line[line.find('TOTALS'):]      #if so, add TOTALS to account object\n",
    "                            accts[acct_no].set_totals(line2)        #using set_totals() function\n",
    "                        elif (' EX ' in line):                      #check for exemption\n",
    "                            line2 = line[line.find(' EX '):]        #if present\n",
    "                            accts[acct_no].add_exemption(line2)     #add exemption\n",
    "    return(accts)"
   ]
  },
  {
   "cell_type": "markdown",
   "metadata": {},
   "source": [
    "### Set path prefix for tax roll files"
   ]
  },
  {
   "cell_type": "code",
   "execution_count": null,
   "metadata": {},
   "outputs": [],
   "source": [
    "path = '../re_tax_rolls/'"
   ]
  },
  {
   "cell_type": "markdown",
   "metadata": {},
   "source": [
    "### Initialize dictionary for results"
   ]
  },
  {
   "cell_type": "code",
   "execution_count": null,
   "metadata": {},
   "outputs": [],
   "source": [
    "taxrolls = {}"
   ]
  },
  {
   "cell_type": "markdown",
   "metadata": {},
   "source": [
    "### FY2020  Assessed 12/31/2018"
   ]
  },
  {
   "cell_type": "code",
   "execution_count": null,
   "metadata": {},
   "outputs": [],
   "source": [
    "tr20 = read_pdf(path+'RETaxRollFINAL_201908081248490737.pdf')"
   ]
  },
  {
   "cell_type": "code",
   "execution_count": null,
   "metadata": {},
   "outputs": [],
   "source": [
    "taxrolls['2020'] = read_taxroll(tr20)"
   ]
  },
  {
   "cell_type": "markdown",
   "metadata": {},
   "source": [
    "### FY2019 Assessed 12/31/2017"
   ]
  },
  {
   "cell_type": "code",
   "execution_count": null,
   "metadata": {},
   "outputs": [],
   "source": [
    "tr19 = read_pdf(path + 'EG_RE_Tax_Roll_assessed_12_31_2017.pdf')"
   ]
  },
  {
   "cell_type": "code",
   "execution_count": null,
   "metadata": {},
   "outputs": [],
   "source": [
    "taxrolls['2019'] = read_taxroll(tr19)"
   ]
  },
  {
   "cell_type": "markdown",
   "metadata": {},
   "source": [
    "### FY2018 Assessed 12/31/2016"
   ]
  },
  {
   "cell_type": "code",
   "execution_count": null,
   "metadata": {},
   "outputs": [],
   "source": [
    "tr18 = read_pdf(path + 'EG_RE_Tax_Roll_assessed_12_31_2016.pdf')"
   ]
  },
  {
   "cell_type": "code",
   "execution_count": null,
   "metadata": {},
   "outputs": [],
   "source": [
    "taxrolls['2018'] = read_taxroll(tr18)"
   ]
  },
  {
   "cell_type": "markdown",
   "metadata": {},
   "source": [
    "### FY2017 Assessed 12/31/2015"
   ]
  },
  {
   "cell_type": "code",
   "execution_count": null,
   "metadata": {},
   "outputs": [],
   "source": [
    "tr17 = read_pdf(path + 'EG_RE_Tax_Roll_assessed_12_31_2015.pdf')"
   ]
  },
  {
   "cell_type": "code",
   "execution_count": null,
   "metadata": {},
   "outputs": [],
   "source": [
    "taxrolls['2017'] = read_taxroll(tr17)"
   ]
  },
  {
   "cell_type": "markdown",
   "metadata": {},
   "source": [
    "### FY2016 Assessed 12/31/2014"
   ]
  },
  {
   "cell_type": "code",
   "execution_count": null,
   "metadata": {},
   "outputs": [],
   "source": [
    "tr16 = read_pdf(path + 'EG_RE_Tax_Roll_assessed_12_31_2014.pdf')"
   ]
  },
  {
   "cell_type": "code",
   "execution_count": null,
   "metadata": {},
   "outputs": [],
   "source": [
    "taxrolls['2016'] = read_taxroll(tr16)"
   ]
  },
  {
   "cell_type": "markdown",
   "metadata": {},
   "source": [
    "### FY2015 Assessed 12/31/2013"
   ]
  },
  {
   "cell_type": "code",
   "execution_count": null,
   "metadata": {},
   "outputs": [],
   "source": [
    "tr15 = read_pdf(path + 'EG_RE_Tax_Roll_assessed_12_31_2013.pdf')"
   ]
  },
  {
   "cell_type": "code",
   "execution_count": null,
   "metadata": {},
   "outputs": [],
   "source": [
    "taxrolls['2015'] = read_taxroll(tr15)"
   ]
  },
  {
   "cell_type": "markdown",
   "metadata": {},
   "source": [
    "### FY2014 Assessed 12/31/2012"
   ]
  },
  {
   "cell_type": "code",
   "execution_count": null,
   "metadata": {},
   "outputs": [],
   "source": [
    "tr14 = read_pdf(path + 'EG_RE_Tax_Roll_assessed_12_31_2012.pdf')"
   ]
  },
  {
   "cell_type": "code",
   "execution_count": null,
   "metadata": {},
   "outputs": [],
   "source": [
    "taxrolls['2014'] = read_taxroll(tr14)"
   ]
  },
  {
   "cell_type": "markdown",
   "metadata": {},
   "source": [
    "### FY2013 Assessed 12/31/2011"
   ]
  },
  {
   "cell_type": "code",
   "execution_count": null,
   "metadata": {},
   "outputs": [],
   "source": [
    "tr13 = read_pdf(path + 'EG_RE_Tax_Roll_assessed_12_31_2011.pdf')"
   ]
  },
  {
   "cell_type": "code",
   "execution_count": null,
   "metadata": {},
   "outputs": [],
   "source": [
    "taxrolls['2013'] = read_taxroll(tr13)"
   ]
  },
  {
   "cell_type": "markdown",
   "metadata": {},
   "source": [
    "### FY2012 Assessed 12/31/2010"
   ]
  },
  {
   "cell_type": "code",
   "execution_count": null,
   "metadata": {},
   "outputs": [],
   "source": [
    "tr12 = read_pdf(path + 'EG_RE_Tax_Roll_assessed_12_31_2010.pdf')"
   ]
  },
  {
   "cell_type": "code",
   "execution_count": null,
   "metadata": {},
   "outputs": [],
   "source": [
    "taxrolls['2012'] = read_taxroll(tr12)"
   ]
  },
  {
   "cell_type": "markdown",
   "metadata": {},
   "source": [
    "### FY2011 Assessed 12/31/2009"
   ]
  },
  {
   "cell_type": "code",
   "execution_count": null,
   "metadata": {},
   "outputs": [],
   "source": [
    "tr11 = read_pdf(path + 'EG_RE_Tax_Roll_assessed_12_31_2009.pdf')"
   ]
  },
  {
   "cell_type": "code",
   "execution_count": null,
   "metadata": {},
   "outputs": [],
   "source": [
    "#taxrolls['2011'] = read_taxroll(tr11)   old format "
   ]
  },
  {
   "cell_type": "markdown",
   "metadata": {},
   "source": [
    "### FY2010 Assessed 12/31/2008"
   ]
  },
  {
   "cell_type": "code",
   "execution_count": null,
   "metadata": {},
   "outputs": [],
   "source": [
    "tr10 = read_pdf(path + 'EG_RE_Tax_Roll_assessed_12_31_2008.pdf')"
   ]
  },
  {
   "cell_type": "code",
   "execution_count": null,
   "metadata": {},
   "outputs": [],
   "source": [
    "#taxrolls['2010'] = read_taxroll(tr10)   old format"
   ]
  },
  {
   "cell_type": "markdown",
   "metadata": {},
   "source": [
    "### FY2009 Assessed 12/31/2007"
   ]
  },
  {
   "cell_type": "code",
   "execution_count": null,
   "metadata": {},
   "outputs": [],
   "source": [
    "tr09 = read_pdf(path + 'EG_RE_Tax_Roll_assessed_12_31_2007.pdf')"
   ]
  },
  {
   "cell_type": "code",
   "execution_count": null,
   "metadata": {},
   "outputs": [],
   "source": [
    "taxrolls['2009'] = read_taxroll(tr09)"
   ]
  },
  {
   "cell_type": "markdown",
   "metadata": {},
   "source": [
    "### FY2008 Assessed 12/31/2006"
   ]
  },
  {
   "cell_type": "code",
   "execution_count": null,
   "metadata": {},
   "outputs": [],
   "source": [
    "tr08 = read_pdf(path + 'FY2008TAXROLL.pdf')"
   ]
  },
  {
   "cell_type": "code",
   "execution_count": null,
   "metadata": {},
   "outputs": [],
   "source": [
    "taxrolls['2008'] = read_taxroll(tr08)"
   ]
  },
  {
   "cell_type": "markdown",
   "metadata": {},
   "source": [
    "### FY2007 Assessed 12/31/2005"
   ]
  },
  {
   "cell_type": "code",
   "execution_count": null,
   "metadata": {},
   "outputs": [],
   "source": [
    "tr07 = read_pdf(path + 'FY2007TAXROLL.pdf')"
   ]
  },
  {
   "cell_type": "code",
   "execution_count": null,
   "metadata": {},
   "outputs": [],
   "source": [
    "taxrolls['2007'] = read_taxroll(tr07)"
   ]
  },
  {
   "cell_type": "markdown",
   "metadata": {},
   "source": [
    "### FY2006 Assessed 12/31/2004"
   ]
  },
  {
   "cell_type": "code",
   "execution_count": null,
   "metadata": {},
   "outputs": [],
   "source": [
    "tr06 = read_pdf(path + 'FY2006TAXROLL.pdf')"
   ]
  },
  {
   "cell_type": "code",
   "execution_count": null,
   "metadata": {},
   "outputs": [],
   "source": [
    "taxrolls['2006'] = read_taxroll(tr06)"
   ]
  },
  {
   "cell_type": "markdown",
   "metadata": {},
   "source": [
    "### FY2005 Assessed 12/31/2003"
   ]
  },
  {
   "cell_type": "code",
   "execution_count": null,
   "metadata": {},
   "outputs": [],
   "source": [
    "tr05 = read_pdf(path + 'FY2005TAXROLL.pdf')"
   ]
  },
  {
   "cell_type": "code",
   "execution_count": null,
   "metadata": {},
   "outputs": [],
   "source": [
    "taxrolls['2005'] = read_taxroll(tr05)"
   ]
  },
  {
   "cell_type": "markdown",
   "metadata": {},
   "source": [
    "### FY2004 Assessed 12/31/2002"
   ]
  },
  {
   "cell_type": "code",
   "execution_count": null,
   "metadata": {},
   "outputs": [],
   "source": [
    "tr04 = read_pdf(path + 'FY2004TAXROLL.pdf')"
   ]
  },
  {
   "cell_type": "code",
   "execution_count": null,
   "metadata": {},
   "outputs": [],
   "source": [
    "taxrolls['2004'] = read_taxroll(tr04)"
   ]
  },
  {
   "cell_type": "markdown",
   "metadata": {},
   "source": [
    "### FY2003 Assessed 12/31/2001"
   ]
  },
  {
   "cell_type": "code",
   "execution_count": null,
   "metadata": {},
   "outputs": [],
   "source": [
    "tr03 = read_pdf(path + 'FY2003TAXROLL.pdf')"
   ]
  },
  {
   "cell_type": "code",
   "execution_count": null,
   "metadata": {},
   "outputs": [],
   "source": [
    "taxrolls['2003'] = read_taxroll(tr03)"
   ]
  },
  {
   "cell_type": "markdown",
   "metadata": {},
   "source": [
    "### FY2002 Assessed 12/31/2000"
   ]
  },
  {
   "cell_type": "code",
   "execution_count": null,
   "metadata": {},
   "outputs": [],
   "source": [
    "tr02 = read_pdf(path + 'FY2002TAXROLL.pdf')"
   ]
  },
  {
   "cell_type": "code",
   "execution_count": null,
   "metadata": {},
   "outputs": [],
   "source": [
    "taxrolls['2002'] = read_taxroll(tr02)"
   ]
  },
  {
   "cell_type": "markdown",
   "metadata": {},
   "source": [
    "### FY2001 Assessed 12/31/1999"
   ]
  },
  {
   "cell_type": "code",
   "execution_count": null,
   "metadata": {},
   "outputs": [],
   "source": [
    "tr01 = read_pdf(path + 'FY2001TAXROLL.pdf')"
   ]
  },
  {
   "cell_type": "code",
   "execution_count": null,
   "metadata": {},
   "outputs": [],
   "source": [
    "taxrolls['2001'] = read_taxroll(tr01)"
   ]
  },
  {
   "cell_type": "markdown",
   "metadata": {},
   "source": [
    "### FY2000 Assessed 12/31/1998"
   ]
  },
  {
   "cell_type": "code",
   "execution_count": null,
   "metadata": {},
   "outputs": [],
   "source": [
    "tr00 = read_pdf(path + 'FY2000TAXROLL.pdf')"
   ]
  },
  {
   "cell_type": "code",
   "execution_count": null,
   "metadata": {},
   "outputs": [],
   "source": [
    "taxrolls['2000'] = read_taxroll(tr00)"
   ]
  },
  {
   "cell_type": "markdown",
   "metadata": {},
   "source": [
    "### FY1999 Assessed 12/31/1997"
   ]
  },
  {
   "cell_type": "code",
   "execution_count": null,
   "metadata": {},
   "outputs": [],
   "source": [
    "tr99 = read_pdf(path + 'EG_RE_Tax_Roll_assessed_12_31_1997.pdf')"
   ]
  },
  {
   "cell_type": "code",
   "execution_count": null,
   "metadata": {},
   "outputs": [],
   "source": [
    "taxrolls['1999'] = read_taxroll(tr99)"
   ]
  },
  {
   "cell_type": "markdown",
   "metadata": {},
   "source": [
    "### FY1998 Assessed 12/31/1996"
   ]
  },
  {
   "cell_type": "code",
   "execution_count": null,
   "metadata": {},
   "outputs": [],
   "source": [
    "tr98 = read_pdf(path + 'EG_RE_Tax_Roll_assessed_12_31_1996.pdf')"
   ]
  },
  {
   "cell_type": "code",
   "execution_count": null,
   "metadata": {},
   "outputs": [],
   "source": [
    "taxrolls['1998'] = read_taxroll(tr98)"
   ]
  },
  {
   "cell_type": "markdown",
   "metadata": {},
   "source": [
    "### FY1997 Assessed 12/31/1995"
   ]
  },
  {
   "cell_type": "code",
   "execution_count": null,
   "metadata": {},
   "outputs": [],
   "source": [
    "tr97 = read_pdf(path + 'EG_RE_Tax_Roll_assessed_12_31_1995.pdf')"
   ]
  },
  {
   "cell_type": "code",
   "execution_count": null,
   "metadata": {},
   "outputs": [],
   "source": [
    "taxrolls['1997'] = read_taxroll(tr97)"
   ]
  },
  {
   "cell_type": "markdown",
   "metadata": {},
   "source": [
    "### FY1996 Assessed 12/31/1994"
   ]
  },
  {
   "cell_type": "code",
   "execution_count": null,
   "metadata": {},
   "outputs": [],
   "source": [
    "tr96 = read_pdf(path + 'EG_RE_Tax_Roll_assessed_12_31_1994.pdf')"
   ]
  },
  {
   "cell_type": "code",
   "execution_count": null,
   "metadata": {},
   "outputs": [],
   "source": [
    "taxrolls['1996'] = read_taxroll(tr96)"
   ]
  },
  {
   "cell_type": "markdown",
   "metadata": {},
   "source": [
    "### FY1995 Assessed 12/31/1993"
   ]
  },
  {
   "cell_type": "code",
   "execution_count": null,
   "metadata": {},
   "outputs": [],
   "source": [
    "tr95 = read_pdf(path + 'EG_RE_Tax_Roll_assessed_12_31_1993.pdf')"
   ]
  },
  {
   "cell_type": "code",
   "execution_count": null,
   "metadata": {},
   "outputs": [],
   "source": [
    "taxrolls['1995'] = read_taxroll(tr95)"
   ]
  },
  {
   "cell_type": "markdown",
   "metadata": {},
   "source": [
    "### FY1994 Assessed 12/31/1992"
   ]
  },
  {
   "cell_type": "code",
   "execution_count": null,
   "metadata": {},
   "outputs": [],
   "source": [
    "tr94 = read_pdf(path + 'EG_RE_Tax_Roll_assessed_12_31_1992.pdf')"
   ]
  },
  {
   "cell_type": "code",
   "execution_count": null,
   "metadata": {},
   "outputs": [],
   "source": [
    "taxrolls['1994'] = read_taxroll(tr94)"
   ]
  }
 ],
 "metadata": {
  "kernelspec": {
   "display_name": "Python 3",
   "language": "python",
   "name": "python3"
  },
  "language_info": {
   "codemirror_mode": {
    "name": "ipython",
    "version": 3
   },
   "file_extension": ".py",
   "mimetype": "text/x-python",
   "name": "python",
   "nbconvert_exporter": "python",
   "pygments_lexer": "ipython3",
   "version": "3.7.4"
  }
 },
 "nbformat": 4,
 "nbformat_minor": 2
}

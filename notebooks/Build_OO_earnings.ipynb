{
 "cells": [
  {
   "cell_type": "markdown",
   "metadata": {},
   "source": [
    "## Build earnings reports (OO version)\n",
    "\n",
    "E. Quinn 12/27/2020\n",
    "\n",
    "This notebook uses the local SC classes to build objects from the MUNIS earnings reports"
   ]
  },
  {
   "cell_type": "markdown",
   "metadata": {},
   "source": [
    "## Import standard python datascience packages"
   ]
  },
  {
   "cell_type": "code",
   "execution_count": 1,
   "metadata": {},
   "outputs": [],
   "source": [
    "import sys\n",
    "import math\n",
    "import re\n",
    "import copy\n",
    "import numpy as np\n",
    "import scipy as sc\n",
    "import pandas as pd\n",
    "import matplotlib.pyplot as plt\n",
    "import seaborn as sns\n",
    "import pickle\n",
    "%matplotlib inline"
   ]
  },
  {
   "cell_type": "code",
   "execution_count": 2,
   "metadata": {},
   "outputs": [],
   "source": [
    "from datetime import datetime, timedelta, date\n",
    "from datascience import *\n",
    "import uuid\n",
    "import random"
   ]
  },
  {
   "cell_type": "code",
   "execution_count": 3,
   "metadata": {},
   "outputs": [],
   "source": [
    "sys.path.append(\"/home/gquinn/EG/school_committee/egsc/py_egsc\")"
   ]
  },
  {
   "cell_type": "markdown",
   "metadata": {},
   "source": [
    "### Import custom SC classes"
   ]
  },
  {
   "cell_type": "code",
   "execution_count": 4,
   "metadata": {},
   "outputs": [],
   "source": [
    "from person import Person\n",
    "from ucoa_labels import UCOA_labels\n",
    "from eg_acct_codes import EG_acct_codes\n",
    "from pay_check import Pay_check, Check_lineitem\n",
    "from roles import *\n",
    "from scenario import Scenario\n",
    "from salaries import *\n",
    "from payperiod import Payperiod"
   ]
  },
  {
   "cell_type": "markdown",
   "metadata": {},
   "source": [
    "### Show the directory we are running in"
   ]
  },
  {
   "cell_type": "code",
   "execution_count": 5,
   "metadata": {},
   "outputs": [
    {
     "name": "stdout",
     "output_type": "stream",
     "text": [
      "/home/gquinn/EG/school_committee/finance_subcommittee/notebooks\r\n"
     ]
    }
   ],
   "source": [
    "!pwd"
   ]
  },
  {
   "cell_type": "markdown",
   "metadata": {},
   "source": [
    "### Load RIDE UCOA labels "
   ]
  },
  {
   "cell_type": "code",
   "execution_count": 6,
   "metadata": {},
   "outputs": [
    {
     "name": "stdout",
     "output_type": "stream",
     "text": [
      "Help on UCOA_labels in module ucoa_labels object:\n",
      "\n",
      "class UCOA_labels(builtins.object)\n",
      " |  Methods defined here:\n",
      " |  \n",
      " |  __init__(self)\n",
      " |      UCOA_labels class provides labels for UCOA fields\n",
      " |  \n",
      " |  get_label(self, col, code)\n",
      " |      Usage: get_label(col,code) returns the code for field col\n",
      " |  \n",
      " |  get_labels_dictionary(self)\n",
      " |      Returns the UCOA labels dictionary\n",
      " |  \n",
      " |  ----------------------------------------------------------------------\n",
      " |  Data descriptors defined here:\n",
      " |  \n",
      " |  __dict__\n",
      " |      dictionary for instance variables (if defined)\n",
      " |  \n",
      " |  __weakref__\n",
      " |      list of weak references to the object (if defined)\n",
      "\n"
     ]
    }
   ],
   "source": [
    "ucoa_labels = UCOA_labels()\n",
    "help(ucoa_labels)"
   ]
  },
  {
   "cell_type": "markdown",
   "metadata": {},
   "source": [
    "### EG accounting codes class\n",
    "\n",
    "provides descriptions for EG accounting codes and mapping to UCOA codes"
   ]
  },
  {
   "cell_type": "code",
   "execution_count": 7,
   "metadata": {},
   "outputs": [
    {
     "name": "stdout",
     "output_type": "stream",
     "text": [
      "Help on EG_acct_codes in module eg_acct_codes object:\n",
      "\n",
      "class EG_acct_codes(builtins.object)\n",
      " |  Methods defined here:\n",
      " |  \n",
      " |  __init__(self)\n",
      " |      Initialize self.  See help(type(self)) for accurate signature.\n",
      " |  \n",
      " |  check_eg_acct_desc6(self, acct)\n",
      " |      check whether first 6 digits map an acct6 key\n",
      " |  \n",
      " |  get_UCOA_from_acct(self, acct, ucl)\n",
      " |  \n",
      " |  get_UCOA_from_acct6(self, acct6, ucl)\n",
      " |  \n",
      " |  get_eg_acct_UCOA(self, acct)\n",
      " |      Provides UCOA codes for accounting codes in EG MUNIS system.\n",
      " |  \n",
      " |  get_eg_acct_codes(self)\n",
      " |      Returns dictionary of account codes.\n",
      " |  \n",
      " |  get_eg_acct_desc(self, acct)\n",
      " |      Provides descriptions for accounting codes in EG MUNIS system.\n",
      " |  \n",
      " |  get_eg_acct_desc6(self, acct)\n",
      " |      Provides descriptions for accounting codes in EG MUNIS system.\n",
      " |  \n",
      " |  get_loc_from_acct(self, acct, ucl)\n",
      " |  \n",
      " |  ----------------------------------------------------------------------\n",
      " |  Data descriptors defined here:\n",
      " |  \n",
      " |  __dict__\n",
      " |      dictionary for instance variables (if defined)\n",
      " |  \n",
      " |  __weakref__\n",
      " |      list of weak references to the object (if defined)\n",
      "\n"
     ]
    }
   ],
   "source": [
    "eg_acct_codes = EG_acct_codes()\n",
    "help(eg_acct_codes)"
   ]
  },
  {
   "cell_type": "markdown",
   "metadata": {},
   "source": [
    "### Teacher salary matrix"
   ]
  },
  {
   "cell_type": "code",
   "execution_count": 8,
   "metadata": {},
   "outputs": [
    {
     "name": "stdout",
     "output_type": "stream",
     "text": [
      "Help on Teacher_salary in module salaries object:\n",
      "\n",
      "class Teacher_salary(builtins.object)\n",
      " |  Methods defined here:\n",
      " |  \n",
      " |  __init__(self)\n",
      " |      Initialize self.  See help(type(self)) for accurate signature.\n",
      " |  \n",
      " |  get_cba_matrix(self)\n",
      " |  \n",
      " |  get_colname(self, col_index)\n",
      " |  \n",
      " |  get_salary(self, school_year, col, step)\n",
      " |      Returns CBA salary given school year, column.\n",
      " |  \n",
      " |  get_school_year_cba_matrix(self, school_year)\n",
      " |  \n",
      " |  ----------------------------------------------------------------------\n",
      " |  Data descriptors defined here:\n",
      " |  \n",
      " |  __dict__\n",
      " |      dictionary for instance variables (if defined)\n",
      " |  \n",
      " |  __weakref__\n",
      " |      list of weak references to the object (if defined)\n",
      "\n",
      "Help on Para_rates in module salaries object:\n",
      "\n",
      "class Para_rates(builtins.object)\n",
      " |  Methods defined here:\n",
      " |  \n",
      " |  __init__(self)\n",
      " |      Initialize self.  See help(type(self)) for accurate signature.\n",
      " |  \n",
      " |  get_cba_matrix(self)\n",
      " |  \n",
      " |  get_school_year_cba_matrix(self, school_year)\n",
      " |  \n",
      " |  get_school_year_job_cba_matrix(self, school_year, job)\n",
      " |  \n",
      " |  ----------------------------------------------------------------------\n",
      " |  Data descriptors defined here:\n",
      " |  \n",
      " |  __dict__\n",
      " |      dictionary for instance variables (if defined)\n",
      " |  \n",
      " |  __weakref__\n",
      " |      list of weak references to the object (if defined)\n",
      "\n",
      "Help on Facilities_rates in module salaries object:\n",
      "\n",
      "class Facilities_rates(builtins.object)\n",
      " |  Methods defined here:\n",
      " |  \n",
      " |  __init__(self)\n",
      " |      Salaries and rates from facilities collective bargaining agreement\n",
      " |  \n",
      " |  get_cba_matrix(self)\n",
      " |      Returns the salary and rate matrix\n",
      " |  \n",
      " |  get_cba_matrix_by_year(self, school_year)\n",
      " |      Returns the cba salary and rate matrix for a given school year\n",
      " |  \n",
      " |  ----------------------------------------------------------------------\n",
      " |  Data descriptors defined here:\n",
      " |  \n",
      " |  __dict__\n",
      " |      dictionary for instance variables (if defined)\n",
      " |  \n",
      " |  __weakref__\n",
      " |      list of weak references to the object (if defined)\n",
      "\n"
     ]
    }
   ],
   "source": [
    "salaries = Teacher_salary()\n",
    "help(salaries)\n",
    "\n",
    "pararates = Para_rates()\n",
    "help(pararates)\n",
    "\n",
    "facilities_rates = Facilities_rates()\n",
    "help(facilities_rates)"
   ]
  },
  {
   "cell_type": "markdown",
   "metadata": {},
   "source": [
    "### Read ll structure from pickle"
   ]
  },
  {
   "cell_type": "code",
   "execution_count": 9,
   "metadata": {},
   "outputs": [
    {
     "data": {
      "text/plain": [
       "6"
      ]
     },
     "execution_count": 9,
     "metadata": {},
     "output_type": "execute_result"
    }
   ],
   "source": [
    "#Load data (deserialize)\n",
    "with open('../../finance_subcommittee/ll_12_23_2020.pkl', 'rb') as handle:\n",
    "    ll = pickle.load(handle)\n",
    "    \n",
    "len(ll)"
   ]
  },
  {
   "cell_type": "markdown",
   "metadata": {},
   "source": [
    "### Build a dictionary of people"
   ]
  },
  {
   "cell_type": "code",
   "execution_count": 10,
   "metadata": {
    "scrolled": true
   },
   "outputs": [
    {
     "data": {
      "text/plain": [
       "898"
      ]
     },
     "execution_count": 10,
     "metadata": {},
     "output_type": "execute_result"
    }
   ],
   "source": [
    "people = {}\n",
    "\n",
    "for year in ll.keys():\n",
    "    for page in ll[year].keys():\n",
    "        for tb in ll[year][page].keys():\n",
    "            names         = ll[year][page][tb]['names']\n",
    "            positions     = ll[year][page][tb]['positions']\n",
    "            for i in np.arange(len(names)):\n",
    "                name            = names[i]\n",
    "                if (name not in people.keys()):\n",
    "                    people[name] = Person(name)\n",
    "\n",
    "len(people)"
   ]
  },
  {
   "cell_type": "markdown",
   "metadata": {},
   "source": [
    "### Add roles, payperiods, checks, and lineitems"
   ]
  },
  {
   "cell_type": "code",
   "execution_count": 11,
   "metadata": {
    "scrolled": true
   },
   "outputs": [
    {
     "data": {
      "text/plain": [
       "898"
      ]
     },
     "execution_count": 11,
     "metadata": {},
     "output_type": "execute_result"
    }
   ],
   "source": [
    "for year in ll.keys():\n",
    "    for page in ll[year].keys():\n",
    "        for tb in ll[year][page].keys():\n",
    "            check_numbers = ll[year][page][tb]['checks']\n",
    "            names         = ll[year][page][tb]['names']\n",
    "            check_dates   = ll[year][page][tb]['dates']\n",
    "            fund          = ll[year][page][tb]['fund']\n",
    "            acct          = ll[year][page][tb]['acct']\n",
    "            obj           = ll[year][page][tb]['obj']\n",
    "            positions     = ll[year][page][tb]['positions']\n",
    "            rates         = ll[year][page][tb]['rates']\n",
    "            earnings      = ll[year][page][tb]['earnings']\n",
    "            obj_desc      = ucoa_labels.get_label('Obj',obj)\n",
    "            acct_desc     = eg_acct_codes.get_eg_acct_desc(acct)\n",
    "            acct_UCOA     = eg_acct_codes.get_eg_acct_UCOA(acct)\n",
    "            \n",
    "            for i in np.arange(len(names)):\n",
    "                check_number    = check_numbers[i]\n",
    "                name            = names[i]\n",
    "                date_str        = check_dates[i]\n",
    "                position        = positions[i]\n",
    "                rate            = rates[i]\n",
    "                earned          = earnings[i]\n",
    "                roles           = people[name].get_roles()\n",
    "                if position not in roles.keys():\n",
    "                    if (position == 'TEACHER'):\n",
    "                        role = Teacher(name)\n",
    "                    elif (position == 'PARAPROFES'):\n",
    "                        role = Para(name)\n",
    "                    elif (position == 'SPED PARAS'):\n",
    "                        role = Sped_Para(name)\n",
    "                    elif ('T/S' in position):\n",
    "                        role = Substitute_teacher(name)\n",
    "                    elif ('P/S' in position):\n",
    "                        role = Substitute_para(name)\n",
    "                    elif (position in ['YR SECRETA','SECRETARY']):\n",
    "                        role = Office(name)\n",
    "                    elif (position in ['CUSTODIAN','MAINTENANC','ELECTRICAN', \\\n",
    "                        'CUST PT','DIR MAINT','FACILITY DR']):\n",
    "                        role = Facilities(name)\n",
    "                    elif (position == 'COACH'):\n",
    "                        role = Coach(name)\n",
    "                    else:\n",
    "                        role = Role(name)\n",
    "\n",
    "                    people[name].add_role(position,role)\n",
    "                role = people[name].get_role(position)\n",
    "                date_str        = check_dates[i]\n",
    "                words = date_str.split('/')\n",
    "                check_date   = date(int(words[2]),int(words[0]),int(words[1]))\n",
    "                \n",
    "                pperiod = Payperiod(check_date)\n",
    "                schyr = pperiod.get_school_year()\n",
    "                syseq = pperiod.get_school_year_seq()\n",
    "                if not role.check_payperiod(schyr,syseq):\n",
    "                    role.add_payperiod_by_index(schyr,syseq,pperiod)\n",
    "                else:\n",
    "                    pperiod = role.get_payperiod(schyr,syseq)\n",
    "                chk = pperiod.get_check(check_number)\n",
    "                if chk is None:\n",
    "                    chk = Pay_check(check_number,name,check_date)\n",
    "                    pperiod.add_check(check_number,chk)\n",
    "                litem =  Check_lineitem(fund,acct,obj,position,rate, \\\n",
    "                        earned,acct_desc,obj_desc)\n",
    "                \n",
    "                if (position == 'TEACHER'):\n",
    "                    salary_matrix = salaries.get_school_year_cba_matrix(schyr)\n",
    "                    role.decode_earnings(pperiod,chk,litem,salary_matrix)\n",
    "                    \n",
    "                elif (position in ['PARAPROFES','SPED PARAS']):\n",
    "                    salary_matrix = pararates.get_school_year_cba_matrix(schyr)\n",
    "                    role.decode_earnings(pperiod,chk,litem,salary_matrix)\n",
    "                    \n",
    "                elif (position in ['SECRETARY','YR SECRETA']):\n",
    "                    salary_matrix = pararates.get_school_year_cba_matrix(schyr)\n",
    "                    role.decode_earnings(pperiod,chk,litem,salary_matrix)\n",
    "                     \n",
    "                elif (position in ['CUSTODIAN','MAINTENANC','ELECTRICAN']):\n",
    "                    \n",
    "                    salary_matrix = facilities_rates.get_cba_matrix_by_year(schyr)\n",
    "                    role.decode_earnings(pperiod,chk,litem,salary_matrix)\n",
    "                    \n",
    "                chk.add_item(litem)\n",
    "                    \n",
    "\n",
    "len(people)"
   ]
  },
  {
   "cell_type": "code",
   "execution_count": 12,
   "metadata": {},
   "outputs": [],
   "source": [
    "with open('../../finance_subcommittee/people_12_27_2020.pkl', 'wb') as handle:\n",
    "    pickle.dump(people, handle)"
   ]
  }
 ],
 "metadata": {
  "kernelspec": {
   "display_name": "Python 3",
   "language": "python",
   "name": "python3"
  },
  "language_info": {
   "codemirror_mode": {
    "name": "ipython",
    "version": 3
   },
   "file_extension": ".py",
   "mimetype": "text/x-python",
   "name": "python",
   "nbconvert_exporter": "python",
   "pygments_lexer": "ipython3",
   "version": "3.8.5"
  }
 },
 "nbformat": 4,
 "nbformat_minor": 2
}

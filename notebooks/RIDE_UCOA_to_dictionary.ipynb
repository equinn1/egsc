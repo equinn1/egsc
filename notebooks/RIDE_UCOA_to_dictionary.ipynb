{
 "cells": [
  {
   "cell_type": "markdown",
   "metadata": {},
   "source": [
    "## RIDE_UCOA_to_dictionary\n",
    "\n",
    "E. Quinn 1/1/2020\n",
    "\n",
    "Reads the RIDE UCOA expense data and builds a dictionary for the EG data\n",
    "\n",
    "The dictionary keys are the six UCOA classifiers: Fund, Loc, Func, Sub, JC, and Obj"
   ]
  },
  {
   "cell_type": "markdown",
   "metadata": {},
   "source": [
    "## Import standard python datascience packages"
   ]
  },
  {
   "cell_type": "code",
   "execution_count": null,
   "metadata": {},
   "outputs": [],
   "source": [
    "import math\n",
    "import re\n",
    "import numpy as np\n",
    "import scipy as sc\n",
    "import pandas as pd\n",
    "import matplotlib.pyplot as plt\n",
    "import seaborn as sns\n",
    "%matplotlib inline"
   ]
  },
  {
   "cell_type": "code",
   "execution_count": null,
   "metadata": {},
   "outputs": [],
   "source": [
    "from datetime import *\n",
    "from datascience import *"
   ]
  },
  {
   "cell_type": "code",
   "execution_count": null,
   "metadata": {},
   "outputs": [],
   "source": [
    "pd.set_option(\"display.max_rows\",1000)               #set pandas display options\n",
    "pd.get_option(\"display.max_rows\")\n",
    "pd.set_option('display.max_columns', 50)"
   ]
  },
  {
   "cell_type": "markdown",
   "metadata": {},
   "source": [
    "### Show the directory we are running in"
   ]
  },
  {
   "cell_type": "code",
   "execution_count": null,
   "metadata": {},
   "outputs": [],
   "source": [
    "!pwd"
   ]
  },
  {
   "cell_type": "markdown",
   "metadata": {},
   "source": [
    "### Read the consolidated 2010-2018 RIDE data"
   ]
  },
  {
   "cell_type": "code",
   "execution_count": null,
   "metadata": {},
   "outputs": [],
   "source": [
    "aexp  = pd.read_csv(\"../allexp.csv\")                           #read the .csv file with 2010-2018 for all LEAs\n",
    "EGexp = aexp.loc[aexp['Dist No']==90.0]                        #just select EG\n",
    "print('aexp: ',aexp.shape)                                     #show the number of rows and columns\n",
    "print(aexp.columns)                                            #show the column names\n",
    "print('EGexp: ',EGexp.shape)                                   #show the rows and columns for just EG                     \n",
    "EGexp[['Year','Fund','Loc','Func','Prog',\\\n",
    "       'Sub','Obj','JC','Actual','Budget']].head()             #show the first few rows for selected columns"
   ]
  },
  {
   "cell_type": "markdown",
   "metadata": {},
   "source": [
    "### Convert pandas dataframe to a dictionary keyed by the six UCOA categorical variables "
   ]
  },
  {
   "cell_type": "code",
   "execution_count": null,
   "metadata": {},
   "outputs": [],
   "source": [
    "EGd = EGexp.to_dict()"
   ]
  },
  {
   "cell_type": "code",
   "execution_count": null,
   "metadata": {},
   "outputs": [],
   "source": [
    "EG_ucoa = {}\n",
    "\n",
    "for key in EGd['Obj'].keys():                                #all columns have same key values\n",
    "    Obj = EGd['Obj'][key]\n",
    "    if (Obj not in EG_ucoa.keys()):                          #add keys to dictionary the first time\n",
    "        EG_ucoa[Obj] = {}                                    #they are encountered\n",
    "    Loc = EGd['Loc'][key]\n",
    "    if (Loc not in EG_ucoa[Obj].keys()):\n",
    "        EG_ucoa[Obj][Loc] = {}\n",
    "    Func = EGd['Func'][key]\n",
    "    if (Func not in EG_ucoa[Obj][Loc].keys()):\n",
    "        EG_ucoa[Obj][Loc][Func] = {}\n",
    "    Prog   = EGd['Prog'][key]\n",
    "    if (Prog not in EG_ucoa[Obj][Loc][Func].keys()):\n",
    "        EG_ucoa[Obj][Loc][Func][Prog] = {}\n",
    "    Sub   = EGd['Sub'][key]\n",
    "    if (Sub not in EG_ucoa[Obj][Loc][Func][Prog].keys()):\n",
    "        EG_ucoa[Obj][Loc][Func][Prog][Sub] = {}\n",
    "    JC   = EGd['JC'][key]\n",
    "    if (JC not in EG_ucoa[Obj][Loc][Func][Prog][Sub].keys()):\n",
    "        EG_ucoa[Obj][Loc][Func][Prog][Sub][JC] = {}\n",
    "    Fund   = EGd['Fund'][key]\n",
    "    if (Fund not in EG_ucoa[Obj][Loc][Func][Prog][Sub][JC].keys()):\n",
    "        EG_ucoa[Obj][Loc][Func][Prog][Sub][JC][Fund] = {}\n",
    "    Year   = EGd['Year'][key]\n",
    "    if (Year not in EG_ucoa[Obj][Loc][Func][Prog][Sub][JC][Fund].keys()):\n",
    "        EG_ucoa[Obj][Loc][Func][Prog][Sub][JC][Fund][Year] = {}\n",
    "        \n",
    "    EG_ucoa[Obj][Loc][Func][Prog][Sub][JC][Fund][Year]['Budget'] = EGd['Budget'][key]  #save budget\n",
    "    EG_ucoa[Obj][Loc][Func][Prog][Sub][JC][Fund][Year]['Actual'] = EGd['Actual'][key]  #save actual"
   ]
  },
  {
   "cell_type": "markdown",
   "metadata": {},
   "source": [
    "### Build dictionaries for value labels"
   ]
  },
  {
   "cell_type": "code",
   "execution_count": null,
   "metadata": {},
   "outputs": [],
   "source": [
    "FundD = {}\n",
    "\n",
    "for key in EGexp['Fund'].keys():\n",
    "    Fund = EGexp['Fund'][key]\n",
    "    if (Fund not in FundD.keys()):\n",
    "        FundD[Fund] = EGexp['Fund Description'][key]\n",
    "        \n",
    "FundD"
   ]
  },
  {
   "cell_type": "code",
   "execution_count": null,
   "metadata": {},
   "outputs": [],
   "source": [
    "FuncD = {}\n",
    "\n",
    "for key in EGexp['Func'].keys():\n",
    "    Func = EGexp['Func'][key]\n",
    "    if (Func not in FuncD.keys()):\n",
    "        FuncD[Func] = EGexp['Function Description'][key]\n",
    "        \n",
    "FuncD"
   ]
  },
  {
   "cell_type": "code",
   "execution_count": null,
   "metadata": {},
   "outputs": [],
   "source": [
    "ProgD = {}\n",
    "\n",
    "for key in EGexp['Prog'].keys():\n",
    "    Prog = EGexp['Prog'][key]\n",
    "    if (Prog not in ProgD.keys()):\n",
    "        ProgD[Prog] = EGexp['Program Description'][key]\n",
    "        \n",
    "ProgD"
   ]
  },
  {
   "cell_type": "code",
   "execution_count": null,
   "metadata": {},
   "outputs": [],
   "source": [
    "JCD = {}\n",
    "\n",
    "for key in EGexp['JC'].keys():\n",
    "    JC = EGexp['JC'][key]\n",
    "    if (JC not in JCD.keys()):\n",
    "        JCD[JC] = EGexp['Job Class Description'][key]\n",
    "        \n",
    "JCD"
   ]
  },
  {
   "cell_type": "code",
   "execution_count": null,
   "metadata": {},
   "outputs": [],
   "source": [
    "SubD = {}\n",
    "\n",
    "for key in EGexp['Sub'].keys():\n",
    "    Sub = EGexp['Sub'][key]\n",
    "    if (Sub not in SubD.keys()):\n",
    "        SubD[Sub] = EGexp['Subject Description'][key]\n",
    "        \n",
    "SubD"
   ]
  },
  {
   "cell_type": "code",
   "execution_count": null,
   "metadata": {},
   "outputs": [],
   "source": [
    "ObjD = {}\n",
    "\n",
    "for key in EGexp['Obj'].keys():\n",
    "    Obj = EGexp['Obj'][key]\n",
    "    if (Obj not in ObjD.keys()):\n",
    "        ObjD[Obj] = EGexp['Object Description'][key]\n",
    "        \n",
    "ObjD"
   ]
  },
  {
   "cell_type": "code",
   "execution_count": null,
   "metadata": {},
   "outputs": [],
   "source": [
    "LocD = {}\n",
    "\n",
    "for key in EGexp['Loc'].keys():\n",
    "    Loc = EGexp['Loc'][key]\n",
    "    if (Loc not in LocD.keys()):\n",
    "        LocD[Loc] = EGexp['Location Description'][key]\n",
    "        \n",
    "LocD"
   ]
  },
  {
   "cell_type": "code",
   "execution_count": null,
   "metadata": {},
   "outputs": [],
   "source": [
    "EG_ucoa[51110.]"
   ]
  },
  {
   "cell_type": "code",
   "execution_count": null,
   "metadata": {},
   "outputs": [],
   "source": []
  }
 ],
 "metadata": {
  "kernelspec": {
   "display_name": "Python 3",
   "language": "python",
   "name": "python3"
  },
  "language_info": {
   "codemirror_mode": {
    "name": "ipython",
    "version": 3
   },
   "file_extension": ".py",
   "mimetype": "text/x-python",
   "name": "python",
   "nbconvert_exporter": "python",
   "pygments_lexer": "ipython3",
   "version": "3.7.5"
  }
 },
 "nbformat": 4,
 "nbformat_minor": 2
}

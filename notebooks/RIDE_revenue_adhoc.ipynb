{
 "cells": [
  {
   "cell_type": "markdown",
   "metadata": {},
   "source": [
    "# RIDE_revenue_adhoc\n",
    "\n",
    "Reads all RIDE UCOA revenue history\n",
    "\n",
    "E. Quinn  5/29/2021"
   ]
  },
  {
   "cell_type": "code",
   "execution_count": null,
   "metadata": {},
   "outputs": [],
   "source": [
    "import re\n",
    "import numpy as np\n",
    "import scipy as sc\n",
    "import pandas as pd\n",
    "import matplotlib.pyplot as plt\n",
    "import seaborn as sns\n",
    "%matplotlib inline"
   ]
  },
  {
   "cell_type": "markdown",
   "metadata": {},
   "source": [
    "### Set max_rows option for display"
   ]
  },
  {
   "cell_type": "code",
   "execution_count": null,
   "metadata": {},
   "outputs": [],
   "source": [
    "pd.get_option(\"display.max_rows\")"
   ]
  },
  {
   "cell_type": "code",
   "execution_count": null,
   "metadata": {},
   "outputs": [],
   "source": [
    "pd.get_option(\"display.max_columns\")\n",
    "pd.set_option(\"display.max_columns\",100)"
   ]
  },
  {
   "cell_type": "code",
   "execution_count": null,
   "metadata": {},
   "outputs": [],
   "source": [
    "pd.set_option(\"display.max_rows\",1000)\n",
    "pd.get_option(\"display.max_rows\")"
   ]
  },
  {
   "cell_type": "markdown",
   "metadata": {},
   "source": [
    "### Read the FY2016  (2015-2016 school year) UCOA data:  Revenue \n",
    "\n",
    "Source file is:\n",
    "\n",
    "http://www.ride.ri.gov/Portals/0/Uploads/Documents/UCOA/2015-2016-Consolidated/FY16-All-Revenue-Account-Strings-with-Descriptions.xlsx"
   ]
  },
  {
   "cell_type": "code",
   "execution_count": null,
   "metadata": {},
   "outputs": [],
   "source": [
    "def read_UCOA_revenue(startyyyy,endyyyy,path='../RIDE/UCOA_files/'):\n",
    "    revenue = None\n",
    "    for year in np.arange(startyyyy,endyyyy+1):\n",
    "        fname = path + 'Revenue_' + str(year-1) + '_' + str(year) + '.csv'\n",
    "        rev = pd.read_csv(fname)\n",
    "        rev['School Year'] = '2015-2016'\n",
    "        rev['RIDE Year'] = 2016\n",
    "        cols = rev.columns\n",
    "        if ('Dist No' in cols):   \n",
    "            rev['District ID'] = rev['Dist No']     #fix 2010 column name\n",
    "            rev = rev.drop('Dist No' , axis='columns')\n",
    "        if ('Unnamed: 12' in cols):   \n",
    "            rev = rev.drop('Unnamed: 12' , axis='columns')\n",
    "        if ('Unnamed: 13' in cols):   \n",
    "            rev = rev.drop('Unnamed: 13' , axis='columns')\n",
    "        if revenue is None:\n",
    "            revenue = rev\n",
    "        else:\n",
    "            revenue = pd.concat([revenue,rev],ignore_index=True)\n",
    "        revenue = revenue.dropna(subset=[\"District\"])    #drop rows with District name missing\n",
    "        revenue = revenue.dropna(axis=1, how='all')      #drop columns with all NaNs\n",
    "    return(revenue)"
   ]
  },
  {
   "cell_type": "code",
   "execution_count": null,
   "metadata": {},
   "outputs": [],
   "source": [
    "revenue = read_UCOA_revenue(2010,2019)\n",
    "revenue"
   ]
  },
  {
   "cell_type": "code",
   "execution_count": null,
   "metadata": {},
   "outputs": [],
   "source": []
  }
 ],
 "metadata": {
  "kernelspec": {
   "display_name": "Python 3",
   "language": "python",
   "name": "python3"
  },
  "language_info": {
   "codemirror_mode": {
    "name": "ipython",
    "version": 3
   },
   "file_extension": ".py",
   "mimetype": "text/x-python",
   "name": "python",
   "nbconvert_exporter": "python",
   "pygments_lexer": "ipython3",
   "version": "3.8.5"
  }
 },
 "nbformat": 4,
 "nbformat_minor": 2
}

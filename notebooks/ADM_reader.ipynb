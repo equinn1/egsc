{
 "cells": [
  {
   "cell_type": "markdown",
   "metadata": {},
   "source": [
    "## Read ADM reports\n",
    "\n",
    "E. Quinn 12/16/2020"
   ]
  },
  {
   "cell_type": "markdown",
   "metadata": {},
   "source": [
    "## Import standard python datascience packages"
   ]
  },
  {
   "cell_type": "code",
   "execution_count": null,
   "metadata": {},
   "outputs": [],
   "source": [
    "import math\n",
    "import re\n",
    "import copy\n",
    "import numpy as np\n",
    "import scipy as sc\n",
    "import pandas as pd\n",
    "import matplotlib.pyplot as plt\n",
    "import seaborn as sns\n",
    "import cloudpickle\n",
    "%matplotlib inline"
   ]
  },
  {
   "cell_type": "code",
   "execution_count": null,
   "metadata": {},
   "outputs": [],
   "source": [
    "from datetime import datetime, timedelta, date\n",
    "from datascience import *\n",
    "import uuid\n",
    "import random"
   ]
  },
  {
   "cell_type": "markdown",
   "metadata": {},
   "source": [
    "### Show the directory we are running in"
   ]
  },
  {
   "cell_type": "code",
   "execution_count": null,
   "metadata": {},
   "outputs": [],
   "source": [
    "!pwd"
   ]
  },
  {
   "cell_type": "code",
   "execution_count": null,
   "metadata": {},
   "outputs": [],
   "source": [
    "adm = {}\n",
    "\n",
    "for fy in np.arange(1998,2021):\n",
    "    adm[fy] = {}\n",
    "    dsn = '../ADM/EG_' + str(fy) + '_' + str(fy+1) + '.csv'\n",
    "    admt = pd.read_csv(dsn)\n",
    "    adm[fy] = admt.to_dict()\n",
    "    for key in adm[fy].keys():\n",
    "        if (key not in ['Year','Grade']):\n",
    "            for i in adm[fy][key].keys():\n",
    "                val = adm[fy][key][i]\n",
    "                try:\n",
    "                    intval = int(val)\n",
    "                    adm[fy][key][i] = intval\n",
    "                except ValueError:\n",
    "                    adm[fy][key][i] = np.NaN\n",
    "adm"
   ]
  },
  {
   "cell_type": "code",
   "execution_count": null,
   "metadata": {},
   "outputs": [],
   "source": [
    "file1 = open(\"../RIDE_FRED_October_grade_counts.csv\",\"w\")\n",
    "\n",
    "wstr = '\"FYear\",\"Grade\",\"Count\"\\n'\n",
    "\n",
    "file1.write(wstr)\n",
    "\n",
    "for fyear in adm.keys():\n",
    "    for i in sorted(adm[fyear]['Grade'].keys()):\n",
    "        wstr = str(fyear) + ',' + adm[fyear]['Grade'][i] + \\\n",
    "            ',' + str(adm[fyear]['Total'][i]) + '\\n' \n",
    "        file1.write(wstr)\n",
    "        \n",
    "file1.close()"
   ]
  }
 ],
 "metadata": {
  "kernelspec": {
   "display_name": "Python 3",
   "language": "python",
   "name": "python3"
  },
  "language_info": {
   "codemirror_mode": {
    "name": "ipython",
    "version": 3
   },
   "file_extension": ".py",
   "mimetype": "text/x-python",
   "name": "python",
   "nbconvert_exporter": "python",
   "pygments_lexer": "ipython3",
   "version": "3.8.5"
  }
 },
 "nbformat": 4,
 "nbformat_minor": 2
}

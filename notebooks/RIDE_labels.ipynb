{
 "cells": [
  {
   "cell_type": "markdown",
   "metadata": {},
   "source": [
    "## RIDE UCOA value labels\n",
    "\n",
    "E.Quinn 4/25/2020\n",
    "\n",
    "Defines class UCOA_labels for decoding RIDE UCOA value labels \n",
    "\n",
    "Usage:\n",
    " * instantiation:  UCL = UCOA_labels()\n",
    " * get labels dictionary: UCL.get_labels_dictionary()\n",
    " * lookup label for a column and value:  UCL.get_label(col,code)   col is string, code is integer"
   ]
  },
  {
   "cell_type": "code",
   "execution_count": null,
   "metadata": {},
   "outputs": [],
   "source": [
    "import math\n",
    "import re\n",
    "import copy\n",
    "import numpy as np\n",
    "import scipy as sc\n",
    "import pandas as pd\n",
    "import matplotlib.pyplot as plt\n",
    "import seaborn as sns\n",
    "%matplotlib inline"
   ]
  },
  {
   "cell_type": "code",
   "execution_count": null,
   "metadata": {},
   "outputs": [],
   "source": [
    "pd.set_option('display.max_rows', 300)"
   ]
  },
  {
   "cell_type": "code",
   "execution_count": null,
   "metadata": {
    "scrolled": true
   },
   "outputs": [],
   "source": [
    "class UCOA_labels():\n",
    "    def __init__(self):\n",
    "        self.labels = {}\n",
    "    \n",
    "        cols = ['Fund','Loc','Func','Prog','Sub','JC','Obj']\n",
    "        descs = {'Fund':'Fund Description','Loc':'Location Description','Func':'Function Description', \\\n",
    "             'Prog':'Program Description','Sub':'Subject Description','JC':'Job Class Description', \\\n",
    "             'Obj':'Object Description'}\n",
    "        for col in cols:\n",
    "            self.labels[col] = {}\n",
    "        \n",
    "        paths= [\"../RIDE/93-All-Expenditure-Account-Strings-with-Descriptions-no-421-422-FY18.csv\",\\\n",
    "            \"../RIDE/93-All-Expenditure-Account-Strings-with-Descriptions-no-421-422-FY17.csv\",\\\n",
    "            \"../RIDE/93-All-Expenditure-Account-Strings-with-Descriptions-no-421-422-FY16.csv\",\\\n",
    "            \"../RIDE/93-All-Expenditure-Account-Strings-with-Descriptions-no-421-422-FY15.csv\", \\\n",
    "            \"../RIDE/93-All-Expenditure-Account-Strings-with-Descriptions-no-421-422-081415.csv\", \\\n",
    "            \"../RIDE/93-All-Expenditure-Account-Strings-with-Descriptions-no-421-422-FY13.csv\", \\\n",
    "            \"../RIDE/93-All-Expenditure-Account-Strings-with-Descriptions-no-421-422.csv\", \\\n",
    "            \"../RIDE/93-All-Expenditure-Account-Strings-with-Descriptions-no-421-422-FY11.csv\", \\\n",
    "            \"../RIDE/FY-10-UCOA-Database-Expenditures-Excluding-Capital-and-Debt-Service.csv\", \\\n",
    "            \"../RIDE/94-All-Revenue-Account-Strings-with-Descriptions-FY18.csv\", \\\n",
    "            \"../RIDE/93-All-Expenditure-Account-Strings-with-Descriptions-421-422-FY17.csv\", \\\n",
    "            \"../RIDE/FY16-All-Expenditure-Account-Strings-with-Descriptions-421-422.csv\", \\\n",
    "            \"../RIDE/FY2014-15_93-All-Expenditure-Account-Strings-with-Descriptions-with-budget-421-422-only.csv\", \\\n",
    "            \"../RIDE/FY2013-14_93-All-Expenditure-Account-Strings-with-Descriptions-421-422-081415.csv\"]\n",
    "    \n",
    "        for path in paths:\n",
    "            df1 = pd.read_csv(path)\n",
    "            if ('District ID' in df1.columns):\n",
    "                df1 = df1.rename(columns={'District ID': 'Dist No'})\n",
    "            if ('Object' in df1.columns):\n",
    "                df1 = df1.rename(columns={'Object': 'Obj','Revenue Object Description':'Object Description'})\n",
    "            try:\n",
    "                df  = df1.loc[df1['Dist No']==90.0]\n",
    "                dct = df.to_dict()\n",
    "            except KeyError:\n",
    "                print(\"KeyError: \",path,df1.columns)\n",
    "            for col in cols: \n",
    "                try:\n",
    "                    for key in dct[col].keys():\n",
    "                        try:\n",
    "                            code = int(dct[col][key])\n",
    "                        except ValueError:\n",
    "                            code = np.NaN\n",
    "                        if (code==code):\n",
    "                            if (code not in self.labels[col].keys()):\n",
    "                                self.labels[col][code] = dct[descs[col]][key]\n",
    "                except KeyError:\n",
    "                    print(\"KeyError on \",col,path)\n",
    "        return\n",
    "    \n",
    "    def get_labels_dictionary(self):\n",
    "        return(self.labels)\n",
    "    \n",
    "    def get_label(self,col,code):\n",
    "        try:\n",
    "            return(self.labels[col][code])\n",
    "        except KeyError:\n",
    "            return('No Label')"
   ]
  }
 ],
 "metadata": {
  "kernelspec": {
   "display_name": "Python 3",
   "language": "python",
   "name": "python3"
  },
  "language_info": {
   "codemirror_mode": {
    "name": "ipython",
    "version": 3
   },
   "file_extension": ".py",
   "mimetype": "text/x-python",
   "name": "python",
   "nbconvert_exporter": "python",
   "pygments_lexer": "ipython3",
   "version": "3.7.4"
  }
 },
 "nbformat": 4,
 "nbformat_minor": 2
}

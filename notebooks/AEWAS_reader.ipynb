{
 "cells": [
  {
   "cell_type": "markdown",
   "metadata": {},
   "source": [
    "## Read AEWAS reports\n",
    "\n",
    "E. Quinn 12/15/2020\n",
    "\n",
    "This notebook uses pdfminer to extract the information from the RI Municipal Finance AEWAS reports\n",
    "\n",
    "The documentation for pdfminer is at:\n",
    "\n",
    "https://buildmedia.readthedocs.org/media/pdf/pdfminer-docs/latest/pdfminer-docs.pdf\n"
   ]
  },
  {
   "cell_type": "markdown",
   "metadata": {},
   "source": [
    "## Import standard python datascience packages"
   ]
  },
  {
   "cell_type": "code",
   "execution_count": null,
   "metadata": {},
   "outputs": [],
   "source": [
    "import math\n",
    "import re\n",
    "import copy\n",
    "import numpy as np\n",
    "import scipy as sc\n",
    "import pandas as pd\n",
    "import matplotlib.pyplot as plt\n",
    "import seaborn as sns\n",
    "import cloudpickle\n",
    "%matplotlib inline"
   ]
  },
  {
   "cell_type": "code",
   "execution_count": null,
   "metadata": {},
   "outputs": [],
   "source": [
    "from datetime import datetime, timedelta, date\n",
    "from datascience import *\n",
    "import uuid\n",
    "import random"
   ]
  },
  {
   "cell_type": "markdown",
   "metadata": {},
   "source": [
    "## Import pdfminer packages"
   ]
  },
  {
   "cell_type": "code",
   "execution_count": null,
   "metadata": {},
   "outputs": [],
   "source": [
    "from pdfminer.pdfparser import PDFParser\n",
    "from pdfminer.pdfdocument import PDFDocument\n",
    "from pdfminer.pdfpage import PDFPage\n",
    "from pdfminer.pdfpage import PDFTextExtractionNotAllowed\n",
    "from pdfminer.pdfinterp import PDFResourceManager\n",
    "from pdfminer.pdfinterp import PDFPageInterpreter\n",
    "from pdfminer.pdfdevice import PDFDevice\n",
    "from pdfminer.layout import LAParams\n",
    "from pdfminer.converter import PDFPageAggregator\n",
    "from pdfminer.pdfpage import PDFPage\n",
    "from pdfminer.layout import LTTextBoxHorizontal"
   ]
  },
  {
   "cell_type": "markdown",
   "metadata": {},
   "source": [
    "### Show the directory we are running in"
   ]
  },
  {
   "cell_type": "code",
   "execution_count": null,
   "metadata": {},
   "outputs": [],
   "source": [
    "!pwd"
   ]
  },
  {
   "cell_type": "markdown",
   "metadata": {},
   "source": [
    "## Read the pdf and create a dictionary with the contents of each text box"
   ]
  },
  {
   "cell_type": "markdown",
   "metadata": {},
   "source": [
    "### Function read_pdf() reads a PDF and returns a dictionary containing the contents\n",
    "\n",
    "Strategy for this document:  \n",
    "\n",
    "Save information from each element in the LTTextBox objects in a dictionary including:\n",
    "\n",
    "- x0 horizontal coordinate of the upper left corner of the text box\n",
    "- x1 horizontal coordinate of the lower right corner of the text box\n",
    "- y0 vertical coordinate of the upper left corner of the text box\n",
    "- y1 vertical coordinate of the lower right corner of the text box\n",
    "- page number \n",
    "- sequence number of text box within this page\n",
    "- text contained in the text box, converted to ascii\n",
    "\n",
    "Parsing the text is complicated by the fact that that a text box may span multiple columns and/or rows, and the text box groupings vary quite a bit depending on the page contents and layout.\n",
    "\n",
    "However, with a bit of luck the structure of the document will allow the contents to be deciphered with the following heuristics:\n",
    "\n",
    "- Text boxes containing left justified columns will tend to have nearly the same x0 coordinates\n",
    "- Text boxes containing right justified columns will tend to have nearly the same x1 coordinates\n",
    "- The codes for fund, account code, and object code are numeric and have fixed lengths\n",
    "- Extraneous information is often preceded or followed by a series of underscore and newline characters\n",
    "- Last name can be distinguished because is the only field that is all characters followed by a comma\n",
    "- Last name may be preceded by between one and three numerical fields:  fund, account, object.  If it is, the x0 value is shifted to the left.\n",
    "    - Three numerical fields precede the name:  assume they are fund, account, object\n",
    "    - Two numerical fields precede the name: assume they are account, object\n",
    "    - One numerical field precedes the name: assume it is object\n",
    "    "
   ]
  },
  {
   "cell_type": "code",
   "execution_count": null,
   "metadata": {},
   "outputs": [],
   "source": [
    "def read_pdf(path):\n",
    "    document = open(path, 'rb')                                     #read a pdf and create a document object\n",
    "    rsrcmgr = PDFResourceManager()                                  #create a resource manager\n",
    "    laparams = LAParams()                                           #set the parameters for analysis\n",
    "    device = PDFPageAggregator(rsrcmgr, laparams=laparams)          #create a PDF page aggregator object\n",
    "    interpreter = PDFPageInterpreter(rsrcmgr, device)\n",
    "    \n",
    "    pdf={}                                                          #dictionary to hold the results\n",
    "\n",
    "    pageno = -1                                                     #initialize page coounter to zero\n",
    "\n",
    "    for page in PDFPage.get_pages(document):                        #loop through the pdf page by page\n",
    "        pageno = pageno + 1                                         #increment the page number\n",
    "        pdf[pageno] = {}                                            #dictionary for this page\n",
    "        interpreter.process_page(page)                              # receive the LTPage object for the page.\n",
    "        layout = device.get_result()                                # create layout object\n",
    "        tbox_no=0                                                   # index for element number\n",
    "        for element in layout:\n",
    "            if (type(element).__name__=='LTTextBoxHorizontal'):     #loop through text boxes\n",
    "                tbox_no += 1                                        #increment text box number\n",
    "                pdf[pageno][tbox_no] = {}                           #dictionary for text boxes within page\n",
    "                x0 = round(element.x0,2)                            #x0 coordinate of textbox corner\n",
    "                x1 = round(element.x1,2)                            #x1 coordinate of textbox corner\n",
    "                y0 = round(element.y0,2)                            #y0 coordinate of textbox corner\n",
    "                y1 = round(element.y1,2)                            #y1 coordinate of textbox corner\n",
    "                txt = element.get_text().encode('ascii', 'ignore')  #text converted to ascii\n",
    "                pdf[pageno][tbox_no]['x0'] = x0                     #create x0 coordinate entry\n",
    "                pdf[pageno][tbox_no]['x1'] = x1                     #create x1 coordinate entry\n",
    "                pdf[pageno][tbox_no]['y0'] = y0                     #create y0 coordinate entry\n",
    "                pdf[pageno][tbox_no]['y1'] = y1                     #create y1 coordinate entry\n",
    "\n",
    "                pdf[pageno][tbox_no]['text'] = ''.join(chr(c) for c in txt) #convert bytes to string\n",
    "    return(pdf)"
   ]
  },
  {
   "cell_type": "code",
   "execution_count": null,
   "metadata": {},
   "outputs": [],
   "source": [
    "def make_num(nstr):\n",
    "    return(nstr.replace('$','').replace(',','').replace('%',''))"
   ]
  },
  {
   "cell_type": "code",
   "execution_count": null,
   "metadata": {},
   "outputs": [],
   "source": [
    "ewtab = {}\n",
    "ewtab[2022] = \"../RI_Div_of_Muncipal_Finance/AEWAV/FY2022_2018-AEWAV-as-of-August-2020.pdf\" \n",
    "ewtab[2021] = \"../RI_Div_of_Muncipal_Finance/AEWAV/FY2021_2017-AEWAV-as-of-August-2019.pdf\"\n",
    "ewtab[2020] = \"../RI_Div_of_Muncipal_Finance/AEWAV/FY2020_2016-AEWAV-as-of-August-30-2018.pdf\"\n",
    "ewtab[2019] = \"../RI_Div_of_Muncipal_Finance/AEWAV/FY2019_2015_AEWAV-Second-Revision-as-of-8-30-18.pdf\"\n",
    "ewtab[2018] = \"../RI_Div_of_Muncipal_Finance/AEWAV/FY2018_2014_AEWAV-as-of-July-2016.pdf\"\n",
    "ewtab[2017] = \"../RI_Div_of_Muncipal_Finance/AEWAV/FY2017_2013_AEWAV-as-of-May-2015.pdf\"\n",
    "ewtab[2016] = \"../RI_Div_of_Muncipal_Finance/AEWAV/FY2016_10-AEWAV-2012-as-of-August-2014.pdf\"\n",
    "ewtab[2015] = \"../RI_Div_of_Muncipal_Finance/AEWAV/FY2015_7_AEWAV-as-of-August-2011_2009.pdf\"\n",
    "ewtab[2014] = \"../RI_Div_of_Muncipal_Finance/AEWAV/FY2014_6_AEWAV-as-of-August-2010_2008.pdf\"\n",
    "ewtab[2013] = \"../RI_Div_of_Muncipal_Finance/AEWAV/FY2013_5_AEWAV-as-of-August-2009_2007.pdf\"\n",
    "ewtab[2012] = \"../RI_Div_of_Muncipal_Finance/AEWAV/FY2012_4_AEWAV-as-of-August 2008_2006.pdf\"\n",
    "ewtab[2011] = \"../RI_Div_of_Muncipal_Finance/AEWAV/FY2011_3_AEWAV-as-of-August-2007_2005.pdf\"\n",
    "ewtab[2010] = \"../RI_Div_of_Muncipal_Finance/AEWAV/FY2010_2_AEWAV-as-of-August-2006_2004.pdf\"\n",
    "ewtab[2009] = \"../RI_Div_of_Muncipal_Finance/AEWAV/Fy2009_1_AEWAV_2003.pdf\""
   ]
  },
  {
   "cell_type": "code",
   "execution_count": null,
   "metadata": {},
   "outputs": [],
   "source": [
    "ewas = {}\n",
    "\n",
    "cols = {1:'town',2:'assessed',3:'percent_assessed',4:'full_value',5:'EWAV_unadj', \\\n",
    "        6:'income_adj',7:'adjusted_EWAV',8:'prescribed_ewav'}\n",
    "\n",
    "colkeys ={}\n",
    "colkeys[2015] = [20,21,22,23,9,12,17,18]\n",
    "colkeys[2014] = [22,23,24,25,9,12,15,19]\n",
    "colkeys[2013] = [22,23,24,25,9,12,15,19]\n",
    "colkeys[2012] = [22,23,24,25,9,12,15,19]\n",
    "colkeys[2011] = [11,10,12,15,16,19,24,25]\n",
    "colkeys[2010] = [9,8,11,10,14,17,20,23]\n",
    "colkeys[2009] = [9,8,10,11,15,20,21,24]\n",
    "colkeys[2016] = [11,12,16,17,18,26,28,32]\n",
    "colkeys[2017] = [11,12,16,17,18,26,28,32]\n",
    "colkeys[2018] = [11,12,16,17,18,26,28,32]\n",
    "colkeys[2019] = [12,13,14,15,16,21,23,27]\n",
    "colkeys[2020] = [11,12,13,14,15,20,22,26]\n",
    "colkeys[2021] = [12,13,14,15,16,21,23,27]\n",
    "colkeys[2022] = [6,14,15,16,17,20,26,24]\n",
    "\n",
    "for fyear in ewtab.keys():\n",
    "    aew = read_pdf(ewtab[fyear])\n",
    "    ewas[fyear] = {}\n",
    "    for i in np.arange(1,1+len(cols)):\n",
    "        tbox = colkeys[fyear][i-1]\n",
    "        tlist = aew[0][tbox]['text'].split('\\n')\n",
    "        ewas[fyear][cols[i]] = {}\n",
    "        for j in np.arange(len(tlist)):\n",
    "            if (len(tlist[j]) > 0):\n",
    "                ewas[fyear][cols[i]][j+1] = tlist[j]\n",
    "\n",
    "ewas        "
   ]
  }
 ],
 "metadata": {
  "kernelspec": {
   "display_name": "Python 3",
   "language": "python",
   "name": "python3"
  },
  "language_info": {
   "codemirror_mode": {
    "name": "ipython",
    "version": 3
   },
   "file_extension": ".py",
   "mimetype": "text/x-python",
   "name": "python",
   "nbconvert_exporter": "python",
   "pygments_lexer": "ipython3",
   "version": "3.8.5"
  }
 },
 "nbformat": 4,
 "nbformat_minor": 2
}

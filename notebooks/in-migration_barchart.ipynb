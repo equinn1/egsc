{
 "cells": [
  {
   "cell_type": "markdown",
   "metadata": {},
   "source": [
    "\n",
    "## New Registrations and Withdrawals - Grades 1-12\n",
    "\n",
    "Conclusions:\n",
    "* There is considerable year-to-year variation in the net change\n",
    "* The year with a large negative net change was followed by one with a large positive net change\n",
    "\n",
    "\n",
    "|**School Year**|**New Registrations**|**Withdrawals**|**Net Change: Grades 1-12**|\n",
    "--- | --- | --- | ---\n",
    "|2017-2018|161|234|-73|\n",
    "|2018-2019|195|119|+76|\n",
    "|2019-2020|180|146|+34|\n",
    "\n",
    "E.Quinn 4/24/2021\n",
    "\n"
   ]
  },
  {
   "cell_type": "code",
   "execution_count": null,
   "metadata": {
    "scrolled": false
   },
   "outputs": [],
   "source": [
    "import matplotlib\n",
    "import matplotlib.pyplot as plt\n",
    "import numpy as np\n",
    "%matplotlib inline\n",
    "\n",
    "labels      = ['1', '2', '3',  '4',  '5', '6', '7', '8',  '9', '10', '11', '12']\n",
    "new_regs1    = [ 25,  18,  22,   17,   18,  20,  10,  10,    9,    4,    4,    4]\n",
    "withdrawals1 = [-15, -11, -10 , -19,  -16, -17, -26, -34,  -42,  -23,  -11,  -10]\n",
    "new_regs2    = [ 27,  16,  20,   18,   26,  21,  19,  14,   16,    9,    5,    4]\n",
    "withdrawals2 = [-10, -12,  -4 ,  -6,  -14, -10, -12, -22,   -9,   -5,   -6,   -9]\n",
    "new_regs3    = [ 10,  20,  20,   23,  24,  14,  17,  18,   14,   11,    8,    1]\n",
    "withdrawals3 = [-11, -14,  -9 , -14,  -8, -10, -11, -41,  -14,   -6,   -6,   -2]\n",
    "\n",
    "x = np.arange(len(labels))  # the label locations\n",
    "width = 0.35  # the width of the bars\n",
    "\n",
    "fig, ax = plt.subplots(3,1)\n",
    "fig.set_size_inches([14.,12.])\n",
    "\n",
    "ax[0].bar(x - width/2, new_regs1, width, label='New Regs')\n",
    "ax[0].bar(x + width/2, withdrawals1, width, label='Withdrawals')\n",
    "ax[1].bar(x - width/2, new_regs2, width, label='New Regs')\n",
    "ax[1].bar(x + width/2, withdrawals2, width, label='Withdrawals')\n",
    "ax[2].bar(x - width/2, new_regs3, width, label='New Regs')\n",
    "ax[2].bar(x + width/2, withdrawals3, width, label='Withdrawals')\n",
    "\n",
    "# Add some text for labels, title and custom x-axis tick labels, etc.\n",
    "ax[0].set_ylabel('Students')\n",
    "ax[0].set_title('2017-2018 New Registrations and Withdrawals')\n",
    "ax[0].set_xticks(x)\n",
    "ax[0].set_xticklabels(labels)\n",
    "ax[1].set_ylabel('Students')\n",
    "ax[1].set_title('2018-2019 New Registrations and Withdrawals')\n",
    "ax[1].set_xticks(x)\n",
    "ax[1].set_xticklabels(labels)\n",
    "ax[2].set_ylabel('Students')\n",
    "ax[2].set_xlabel('Grade')\n",
    "ax[2].set_title('2019-2020 New Registrations and Withdrawals')\n",
    "ax[2].set_xticks(x)\n",
    "ax[2].set_xticklabels(labels)\n",
    "ax[0].set_ylim([-45,30])\n",
    "ax[1].set_ylim([-45,30])\n",
    "ax[2].set_ylim([-45,30])\n",
    "ax[0].legend()\n",
    "\n",
    "plt.show()"
   ]
  }
 ],
 "metadata": {
  "kernelspec": {
   "display_name": "Python 3",
   "language": "python",
   "name": "python3"
  },
  "language_info": {
   "codemirror_mode": {
    "name": "ipython",
    "version": 3
   },
   "file_extension": ".py",
   "mimetype": "text/x-python",
   "name": "python",
   "nbconvert_exporter": "python",
   "pygments_lexer": "ipython3",
   "version": "3.8.5"
  }
 },
 "nbformat": 4,
 "nbformat_minor": 1
}
